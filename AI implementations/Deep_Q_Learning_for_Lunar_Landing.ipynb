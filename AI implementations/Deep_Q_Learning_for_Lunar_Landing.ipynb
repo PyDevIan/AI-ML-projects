{
  "cells": [
    {
      "cell_type": "markdown",
      "metadata": {
        "id": "LbZcI9ZXHl3a"
      },
      "source": [
        "# Deep Q-Learning for Lunar Landing"
      ]
    },
    {
      "cell_type": "markdown",
      "metadata": {
        "id": "E8yPRjteXgPb"
      },
      "source": [
        "## Part 0 - Installing the required packages and importing the libraries"
      ]
    },
    {
      "cell_type": "markdown",
      "metadata": {
        "id": "slEm5teGWjWU"
      },
      "source": [
        "### Installing Gymnasium"
      ]
    },
    {
      "cell_type": "code",
      "execution_count": null,
      "metadata": {
        "id": "dbnq3XpoKa_7",
        "colab": {
          "base_uri": "https://localhost:8080/"
        },
        "outputId": "06c18924-91a9-4682-b7f8-09f25a3f069e",
        "collapsed": true
      },
      "outputs": [
        {
          "output_type": "stream",
          "name": "stdout",
          "text": [
            "Collecting gymnasium\n",
            "  Downloading gymnasium-0.29.1-py3-none-any.whl.metadata (10 kB)\n",
            "Requirement already satisfied: numpy>=1.21.0 in /usr/local/lib/python3.10/dist-packages (from gymnasium) (1.26.4)\n",
            "Requirement already satisfied: cloudpickle>=1.2.0 in /usr/local/lib/python3.10/dist-packages (from gymnasium) (2.2.1)\n",
            "Requirement already satisfied: typing-extensions>=4.3.0 in /usr/local/lib/python3.10/dist-packages (from gymnasium) (4.12.2)\n",
            "Collecting farama-notifications>=0.0.1 (from gymnasium)\n",
            "  Downloading Farama_Notifications-0.0.4-py3-none-any.whl.metadata (558 bytes)\n",
            "Downloading gymnasium-0.29.1-py3-none-any.whl (953 kB)\n",
            "\u001b[2K   \u001b[90m━━━━━━━━━━━━━━━━━━━━━━━━━━━━━━━━━━━━━━━━\u001b[0m \u001b[32m953.9/953.9 kB\u001b[0m \u001b[31m23.1 MB/s\u001b[0m eta \u001b[36m0:00:00\u001b[0m\n",
            "\u001b[?25hDownloading Farama_Notifications-0.0.4-py3-none-any.whl (2.5 kB)\n",
            "Installing collected packages: farama-notifications, gymnasium\n",
            "Successfully installed farama-notifications-0.0.4 gymnasium-0.29.1\n",
            "Requirement already satisfied: gymnasium[accept-rom-license,atari] in /usr/local/lib/python3.10/dist-packages (0.29.1)\n",
            "Requirement already satisfied: numpy>=1.21.0 in /usr/local/lib/python3.10/dist-packages (from gymnasium[accept-rom-license,atari]) (1.26.4)\n",
            "Requirement already satisfied: cloudpickle>=1.2.0 in /usr/local/lib/python3.10/dist-packages (from gymnasium[accept-rom-license,atari]) (2.2.1)\n",
            "Requirement already satisfied: typing-extensions>=4.3.0 in /usr/local/lib/python3.10/dist-packages (from gymnasium[accept-rom-license,atari]) (4.12.2)\n",
            "Requirement already satisfied: farama-notifications>=0.0.1 in /usr/local/lib/python3.10/dist-packages (from gymnasium[accept-rom-license,atari]) (0.0.4)\n",
            "Collecting autorom~=0.4.2 (from autorom[accept-rom-license]~=0.4.2; extra == \"accept-rom-license\"->gymnasium[accept-rom-license,atari])\n",
            "  Downloading AutoROM-0.4.2-py3-none-any.whl.metadata (2.8 kB)\n",
            "Collecting shimmy<1.0,>=0.1.0 (from shimmy[atari]<1.0,>=0.1.0; extra == \"atari\"->gymnasium[accept-rom-license,atari])\n",
            "  Downloading Shimmy-0.2.1-py3-none-any.whl.metadata (2.3 kB)\n",
            "Requirement already satisfied: click in /usr/local/lib/python3.10/dist-packages (from autorom~=0.4.2->autorom[accept-rom-license]~=0.4.2; extra == \"accept-rom-license\"->gymnasium[accept-rom-license,atari]) (8.1.7)\n",
            "Requirement already satisfied: requests in /usr/local/lib/python3.10/dist-packages (from autorom~=0.4.2->autorom[accept-rom-license]~=0.4.2; extra == \"accept-rom-license\"->gymnasium[accept-rom-license,atari]) (2.32.3)\n",
            "Requirement already satisfied: tqdm in /usr/local/lib/python3.10/dist-packages (from autorom~=0.4.2->autorom[accept-rom-license]~=0.4.2; extra == \"accept-rom-license\"->gymnasium[accept-rom-license,atari]) (4.66.5)\n",
            "Collecting AutoROM.accept-rom-license (from autorom[accept-rom-license]~=0.4.2; extra == \"accept-rom-license\"->gymnasium[accept-rom-license,atari])\n",
            "  Downloading AutoROM.accept-rom-license-0.6.1.tar.gz (434 kB)\n",
            "\u001b[2K     \u001b[90m━━━━━━━━━━━━━━━━━━━━━━━━━━━━━━━━━━━━━━━━\u001b[0m \u001b[32m434.7/434.7 kB\u001b[0m \u001b[31m16.4 MB/s\u001b[0m eta \u001b[36m0:00:00\u001b[0m\n",
            "\u001b[?25h  Installing build dependencies ... \u001b[?25l\u001b[?25hdone\n",
            "  Getting requirements to build wheel ... \u001b[?25l\u001b[?25hdone\n",
            "  Preparing metadata (pyproject.toml) ... \u001b[?25l\u001b[?25hdone\n",
            "Collecting ale-py~=0.8.1 (from shimmy[atari]<1.0,>=0.1.0; extra == \"atari\"->gymnasium[accept-rom-license,atari])\n",
            "  Downloading ale_py-0.8.1-cp310-cp310-manylinux_2_17_x86_64.manylinux2014_x86_64.whl.metadata (8.1 kB)\n",
            "Requirement already satisfied: importlib-resources in /usr/local/lib/python3.10/dist-packages (from ale-py~=0.8.1->shimmy[atari]<1.0,>=0.1.0; extra == \"atari\"->gymnasium[accept-rom-license,atari]) (6.4.0)\n",
            "Requirement already satisfied: charset-normalizer<4,>=2 in /usr/local/lib/python3.10/dist-packages (from requests->autorom~=0.4.2->autorom[accept-rom-license]~=0.4.2; extra == \"accept-rom-license\"->gymnasium[accept-rom-license,atari]) (3.3.2)\n",
            "Requirement already satisfied: idna<4,>=2.5 in /usr/local/lib/python3.10/dist-packages (from requests->autorom~=0.4.2->autorom[accept-rom-license]~=0.4.2; extra == \"accept-rom-license\"->gymnasium[accept-rom-license,atari]) (3.7)\n",
            "Requirement already satisfied: urllib3<3,>=1.21.1 in /usr/local/lib/python3.10/dist-packages (from requests->autorom~=0.4.2->autorom[accept-rom-license]~=0.4.2; extra == \"accept-rom-license\"->gymnasium[accept-rom-license,atari]) (2.0.7)\n",
            "Requirement already satisfied: certifi>=2017.4.17 in /usr/local/lib/python3.10/dist-packages (from requests->autorom~=0.4.2->autorom[accept-rom-license]~=0.4.2; extra == \"accept-rom-license\"->gymnasium[accept-rom-license,atari]) (2024.7.4)\n",
            "Downloading AutoROM-0.4.2-py3-none-any.whl (16 kB)\n",
            "Downloading Shimmy-0.2.1-py3-none-any.whl (25 kB)\n",
            "Downloading ale_py-0.8.1-cp310-cp310-manylinux_2_17_x86_64.manylinux2014_x86_64.whl (1.7 MB)\n",
            "\u001b[2K   \u001b[90m━━━━━━━━━━━━━━━━━━━━━━━━━━━━━━━━━━━━━━━━\u001b[0m \u001b[32m1.7/1.7 MB\u001b[0m \u001b[31m41.0 MB/s\u001b[0m eta \u001b[36m0:00:00\u001b[0m\n",
            "\u001b[?25hBuilding wheels for collected packages: AutoROM.accept-rom-license\n",
            "  Building wheel for AutoROM.accept-rom-license (pyproject.toml) ... \u001b[?25l\u001b[?25hdone\n",
            "  Created wheel for AutoROM.accept-rom-license: filename=AutoROM.accept_rom_license-0.6.1-py3-none-any.whl size=446661 sha256=25382b6c50069886560f5f81ee1584455f34d70b1b19236cf62df508c98f1e3d\n",
            "  Stored in directory: /root/.cache/pip/wheels/6b/1b/ef/a43ff1a2f1736d5711faa1ba4c1f61be1131b8899e6a057811\n",
            "Successfully built AutoROM.accept-rom-license\n",
            "Installing collected packages: ale-py, shimmy, AutoROM.accept-rom-license, autorom\n",
            "Successfully installed AutoROM.accept-rom-license-0.6.1 ale-py-0.8.1 autorom-0.4.2 shimmy-0.2.1\n",
            "Reading package lists... Done\n",
            "Building dependency tree... Done\n",
            "Reading state information... Done\n",
            "The following additional packages will be installed:\n",
            "  swig4.0\n",
            "Suggested packages:\n",
            "  swig-doc swig-examples swig4.0-examples swig4.0-doc\n",
            "The following NEW packages will be installed:\n",
            "  swig swig4.0\n",
            "0 upgraded, 2 newly installed, 0 to remove and 45 not upgraded.\n",
            "Need to get 1,116 kB of archives.\n",
            "After this operation, 5,542 kB of additional disk space will be used.\n",
            "Get:1 http://archive.ubuntu.com/ubuntu jammy/universe amd64 swig4.0 amd64 4.0.2-1ubuntu1 [1,110 kB]\n",
            "Get:2 http://archive.ubuntu.com/ubuntu jammy/universe amd64 swig all 4.0.2-1ubuntu1 [5,632 B]\n",
            "Fetched 1,116 kB in 1s (1,441 kB/s)\n",
            "Selecting previously unselected package swig4.0.\n",
            "(Reading database ... 123594 files and directories currently installed.)\n",
            "Preparing to unpack .../swig4.0_4.0.2-1ubuntu1_amd64.deb ...\n",
            "Unpacking swig4.0 (4.0.2-1ubuntu1) ...\n",
            "Selecting previously unselected package swig.\n",
            "Preparing to unpack .../swig_4.0.2-1ubuntu1_all.deb ...\n",
            "Unpacking swig (4.0.2-1ubuntu1) ...\n",
            "Setting up swig4.0 (4.0.2-1ubuntu1) ...\n",
            "Setting up swig (4.0.2-1ubuntu1) ...\n",
            "Processing triggers for man-db (2.10.2-1) ...\n",
            "Requirement already satisfied: gymnasium[box2d] in /usr/local/lib/python3.10/dist-packages (0.29.1)\n",
            "Requirement already satisfied: numpy>=1.21.0 in /usr/local/lib/python3.10/dist-packages (from gymnasium[box2d]) (1.26.4)\n",
            "Requirement already satisfied: cloudpickle>=1.2.0 in /usr/local/lib/python3.10/dist-packages (from gymnasium[box2d]) (2.2.1)\n",
            "Requirement already satisfied: typing-extensions>=4.3.0 in /usr/local/lib/python3.10/dist-packages (from gymnasium[box2d]) (4.12.2)\n",
            "Requirement already satisfied: farama-notifications>=0.0.1 in /usr/local/lib/python3.10/dist-packages (from gymnasium[box2d]) (0.0.4)\n",
            "Collecting box2d-py==2.3.5 (from gymnasium[box2d])\n",
            "  Downloading box2d-py-2.3.5.tar.gz (374 kB)\n",
            "\u001b[2K     \u001b[90m━━━━━━━━━━━━━━━━━━━━━━━━━━━━━━━━━━━━━━━━\u001b[0m \u001b[32m374.4/374.4 kB\u001b[0m \u001b[31m15.7 MB/s\u001b[0m eta \u001b[36m0:00:00\u001b[0m\n",
            "\u001b[?25h  Preparing metadata (setup.py) ... \u001b[?25l\u001b[?25hdone\n",
            "Requirement already satisfied: pygame>=2.1.3 in /usr/local/lib/python3.10/dist-packages (from gymnasium[box2d]) (2.6.0)\n",
            "Collecting swig==4.* (from gymnasium[box2d])\n",
            "  Downloading swig-4.2.1-py2.py3-none-manylinux_2_5_x86_64.manylinux1_x86_64.whl.metadata (3.6 kB)\n",
            "Downloading swig-4.2.1-py2.py3-none-manylinux_2_5_x86_64.manylinux1_x86_64.whl (1.9 MB)\n",
            "\u001b[2K   \u001b[90m━━━━━━━━━━━━━━━━━━━━━━━━━━━━━━━━━━━━━━━━\u001b[0m \u001b[32m1.9/1.9 MB\u001b[0m \u001b[31m52.1 MB/s\u001b[0m eta \u001b[36m0:00:00\u001b[0m\n",
            "\u001b[?25hBuilding wheels for collected packages: box2d-py\n",
            "  Building wheel for box2d-py (setup.py) ... \u001b[?25l\u001b[?25hdone\n",
            "  Created wheel for box2d-py: filename=box2d_py-2.3.5-cp310-cp310-linux_x86_64.whl size=2349113 sha256=9120450c2ad0484925a691798859afb48767900129a99a5c05af7e8f28e9da42\n",
            "  Stored in directory: /root/.cache/pip/wheels/db/8f/6a/eaaadf056fba10a98d986f6dce954e6201ba3126926fc5ad9e\n",
            "Successfully built box2d-py\n",
            "Installing collected packages: swig, box2d-py\n",
            "Successfully installed box2d-py-2.3.5 swig-4.2.1\n"
          ]
        }
      ],
      "source": [
        "!pip install gymnasium\n",
        "!pip install \"gymnasium[atari, accept-rom-license]\"\n",
        "!apt-get install -y swig\n",
        "!pip install gymnasium[box2d]"
      ]
    },
    {
      "cell_type": "markdown",
      "metadata": {
        "id": "brqiMN3UW9T9"
      },
      "source": [
        "### Importing the libraries"
      ]
    },
    {
      "cell_type": "code",
      "execution_count": null,
      "metadata": {
        "id": "mZaKXP_aMl9O"
      },
      "outputs": [],
      "source": [
        "import os\n",
        "import random\n",
        "import numpy as np\n",
        "import torch\n",
        "import torch.nn as nn\n",
        "import torch.optim as optim\n",
        "import torch.nn.functional as F\n",
        "import torch.autograd as autograd\n",
        "from torch.autograd import Variable\n",
        "from collections import deque, namedtuple"
      ]
    },
    {
      "cell_type": "markdown",
      "metadata": {
        "id": "EzlDKXvkXzGI"
      },
      "source": [
        "## Part 1 - Building the AI"
      ]
    },
    {
      "cell_type": "markdown",
      "metadata": {
        "id": "UtG6Zc83YYy3"
      },
      "source": [
        "### Creating the architecture of the Neural Network"
      ]
    },
    {
      "cell_type": "code",
      "source": [
        "\n",
        "class Network(nn.Module):\n",
        "    \"\"\"\n",
        "    A neural network model used for Deep Q-Learning in environments like Lunar Lander.\n",
        "\n",
        "    Attributes:\n",
        "    ----------\n",
        "    seed : torch.Generator\n",
        "        A seed to ensure reproducibility.\n",
        "    fc1 : nn.Linear\n",
        "        The first fully connected layer that maps from the state space to a 64-dimensional space.\n",
        "    fc2 : nn.Linear\n",
        "        The second fully connected layer that maps from the 64-dimensional space to another 64-dimensional space.\n",
        "    fc3 : nn.Linear\n",
        "        The third fully connected layer that maps from the 64-dimensional space to the action space.\n",
        "    \"\"\"\n",
        "\n",
        "    def __init__(self, state_size, action_size, seed=42):\n",
        "        \"\"\"\n",
        "        Initializes the neural network with the given state size and action size.\n",
        "\n",
        "        Parameters:\n",
        "        ----------\n",
        "        state_size : int\n",
        "            The dimension of the input state space.\n",
        "        action_size : int\n",
        "            The dimension of the output action space (number of possible actions).\n",
        "        seed : int, optional\n",
        "            A seed for random number generation (default is 42).\n",
        "        \"\"\"\n",
        "        super(Network, self).__init__()\n",
        "        self.seed = torch.manual_seed(seed)  # Set the seed for reproducibility\n",
        "        self.fc1 = nn.Linear(state_size, 64)  # First fully connected layer\n",
        "        self.fc2 = nn.Linear(64, 64)          # Second fully connected layer\n",
        "        self.fc3 = nn.Linear(64, action_size) # Third fully connected layer\n",
        "\n",
        "    def forward(self, state):\n",
        "        \"\"\"\n",
        "        Defines the forward pass of the network, mapping the input state to Q-values for each action.\n",
        "\n",
        "        Parameters:\n",
        "        ----------\n",
        "        state : torch.Tensor\n",
        "            The input state tensor representing the current state of the environment.\n",
        "\n",
        "        Returns:\n",
        "        -------\n",
        "        torch.Tensor\n",
        "            A tensor containing Q-values for each possible action.\n",
        "        \"\"\"\n",
        "        x = self.fc1(state)  # Pass input state through the first layer\n",
        "        x = F.relu(x)         # Apply ReLU activation\n",
        "        x = self.fc2(x)       # Pass through the second layer\n",
        "        x = F.relu(x)         # Apply ReLU activation again\n",
        "        return self.fc3(x)    # Output the final Q-values from the third layer\n"
      ],
      "metadata": {
        "id": "9ZkMsrQWIMdI"
      },
      "execution_count": null,
      "outputs": []
    },
    {
      "cell_type": "markdown",
      "metadata": {
        "id": "UxVrBnFWZKb1"
      },
      "source": [
        "## Part 2 - Training the AI"
      ]
    },
    {
      "cell_type": "markdown",
      "metadata": {
        "id": "T364fz9qZb2j"
      },
      "source": [
        "### Setting up the environment"
      ]
    },
    {
      "cell_type": "code",
      "source": [
        "import gymnasium as gym\n",
        "\n",
        "# Create the Lunar Lander environment\n",
        "env = gym.make('LunarLander-v2')\n",
        "\n",
        "# Get the shape of the state space (e.g., (8,))\n",
        "state_shape = env.observation_space.shape\n",
        "\n",
        "# Get the size of the state space (e.g., 8)\n",
        "state_size = env.observation_space.shape[0]\n",
        "\n",
        "# Get the number of possible actions (e.g., 4)\n",
        "number_actions = env.action_space.n\n",
        "\n",
        "# Print the state shape, size, and number of actions\n",
        "print('State shape:', state_shape)\n",
        "print('State size:', state_size)\n",
        "print('Number of actions:', number_actions)"
      ],
      "metadata": {
        "colab": {
          "base_uri": "https://localhost:8080/"
        },
        "id": "y3WCZkxLIpkW",
        "outputId": "33aa10d0-07ce-4a4f-8b80-df22e9df8506"
      },
      "execution_count": null,
      "outputs": [
        {
          "output_type": "stream",
          "name": "stdout",
          "text": [
            "State shape: (8,)\n",
            "State size: 8\n",
            "Number of actions: 4\n"
          ]
        }
      ]
    },
    {
      "cell_type": "markdown",
      "metadata": {
        "id": "c_dZmOIvZgj-"
      },
      "source": [
        "### Initializing the hyperparameters"
      ]
    },
    {
      "cell_type": "code",
      "source": [
        "learning_rate =5e-4\n",
        "minibatch_size =100\n",
        "discount_factor = 0.99\n",
        "replay_buffer_size = int(1e5)\n",
        "interpolation_parameter =1e-3"
      ],
      "metadata": {
        "colab": {
          "base_uri": "https://localhost:8080/"
        },
        "id": "0_oLREQ-HsYa",
        "outputId": "a7a88971-332e-4eb9-9d62-ebd53e0b68c9"
      },
      "execution_count": null,
      "outputs": [
        {
          "output_type": "stream",
          "name": "stderr",
          "text": [
            "/usr/local/lib/python3.10/dist-packages/ipykernel/ipkernel.py:283: DeprecationWarning: `should_run_async` will not call `transform_cell` automatically in the future. Please pass the result to `transformed_cell` argument and any exception that happen during thetransform in `preprocessing_exc_tuple` in IPython 7.17 and above.\n",
            "  and should_run_async(code)\n"
          ]
        }
      ]
    },
    {
      "cell_type": "markdown",
      "metadata": {
        "id": "8hD_Vs-bYnip"
      },
      "source": [
        "### Implementing Experience Replay"
      ]
    },
    {
      "cell_type": "code",
      "source": [
        "\n",
        "class ReplayMemory(object):\n",
        "    \"\"\"\n",
        "    A class to implement experience replay memory for deep reinforcement learning.\n",
        "\n",
        "    Attributes:\n",
        "    ----------\n",
        "    device : torch.device\n",
        "        The device (GPU or CPU) where the computations will be performed.\n",
        "    capacity : int\n",
        "        The maximum number of experiences the replay memory can store.\n",
        "    memory : list\n",
        "        A list to store experiences as tuples of (state, action, reward, next_state, done).\n",
        "    \"\"\"\n",
        "\n",
        "    def __init__(self, capacity):\n",
        "        \"\"\"\n",
        "        Initializes the replay memory with a given capacity.\n",
        "\n",
        "        Parameters:\n",
        "        ----------\n",
        "        capacity : int\n",
        "            The maximum number of experiences the replay memory can hold.\n",
        "        \"\"\"\n",
        "        self.device = torch.device(\"cuda:0\" if torch.cuda.is_available() else \"cpu\")\n",
        "        self.capacity = capacity\n",
        "        self.memory = []\n",
        "\n",
        "    def push(self, event):\n",
        "        \"\"\"\n",
        "        Adds a new experience to the replay memory. If the memory exceeds its capacity,\n",
        "        the oldest experience is removed.\n",
        "\n",
        "        Parameters:\n",
        "        ----------\n",
        "        event : tuple\n",
        "            A tuple representing an experience (state, action, reward, next_state, done).\n",
        "        \"\"\"\n",
        "        self.memory.append(event)\n",
        "        if len(self.memory) > self.capacity:\n",
        "            del self.memory[0]\n",
        "\n",
        "    def sample(self, batch_size):\n",
        "        \"\"\"\n",
        "        Randomly samples a batch of experiences from the replay memory.\n",
        "\n",
        "        Parameters:\n",
        "        ----------\n",
        "        batch_size : int\n",
        "            The number of experiences to sample.\n",
        "\n",
        "        Returns:\n",
        "        -------\n",
        "        tuple\n",
        "            A tuple of tensors: (states, next_states, actions, rewards, dones).\n",
        "        \"\"\"\n",
        "        # Randomly sample a batch of experiences\n",
        "        experiences = random.sample(self.memory, k=batch_size)\n",
        "\n",
        "        # Extract each component from the experiences and convert them to tensors\n",
        "        states = torch.from_numpy(np.vstack([e[0] for e in experiences if e is not None])).float().to(self.device)\n",
        "        actions = torch.from_numpy(np.vstack([e[1] for e in experiences if e is not None])).long().to(self.device)\n",
        "        rewards = torch.from_numpy(np.vstack([e[2] for e in experiences if e is not None])).float().to(self.device)\n",
        "        next_states = torch.from_numpy(np.vstack([e[3] for e in experiences if e is not None])).float().to(self.device)\n",
        "        dones = torch.from_numpy(np.vstack([e[4] for e in experiences if e is not None]).astype(np.uint8)).float().to(self.device)\n",
        "\n",
        "        return states, next_states, actions, rewards, dones\n"
      ],
      "metadata": {
        "id": "CrZI_TUeJA5R"
      },
      "execution_count": null,
      "outputs": []
    },
    {
      "cell_type": "markdown",
      "metadata": {
        "id": "JmEkbFbUY6Jt"
      },
      "source": [
        "### Implementing the DQN class"
      ]
    },
    {
      "cell_type": "code",
      "source": [
        "class Agent():\n",
        "    \"\"\"\n",
        "    A Deep Q-Learning agent that interacts with an environment and learns from experiences.\n",
        "\n",
        "    Attributes:\n",
        "    ----------\n",
        "    device : torch.device\n",
        "        The device (GPU or CPU) for computations.\n",
        "    state_size : int\n",
        "        The dimension of the state space.\n",
        "    action_size : int\n",
        "        The number of possible actions.\n",
        "    local_qnetwork : Network\n",
        "        The Q-network used for action selection.\n",
        "    target_qnetwork : Network\n",
        "        The Q-network used to compute target Q-values.\n",
        "    optimizer : torch.optim.Optimizer\n",
        "        The optimizer for updating the local Q-network.\n",
        "    memory : ReplayMemory\n",
        "        The replay memory buffer for storing experiences.\n",
        "    t_step : int\n",
        "        A counter to control how often to update the network.\n",
        "    \"\"\"\n",
        "\n",
        "    def __init__(self, state_size, action_size):\n",
        "        \"\"\"\n",
        "        Initializes the agent with the given state size and action size.\n",
        "\n",
        "        Parameters:\n",
        "        ----------\n",
        "        state_size : int\n",
        "            The dimension of the state space.\n",
        "        action_size : int\n",
        "            The number of possible actions.\n",
        "        \"\"\"\n",
        "        self.device = torch.device(\"cuda:0\" if torch.cuda.is_available() else \"cpu\")\n",
        "        self.state_size = state_size\n",
        "        self.action_size = action_size\n",
        "        self.local_qnetwork = Network(state_size, action_size).to(self.device)\n",
        "        self.target_qnetwork = Network(state_size, action_size).to(self.device)\n",
        "        self.optimizer = optim.Adam(self.local_qnetwork.parameters(), lr=learning_rate)\n",
        "        self.memory = ReplayMemory(replay_buffer_size)\n",
        "        self.t_step = 0\n",
        "\n",
        "    def step(self, state, action, reward, next_state, done):\n",
        "        \"\"\"\n",
        "        Saves experience in replay memory and triggers learning step every few steps.\n",
        "\n",
        "        Parameters:\n",
        "        ----------\n",
        "        state : np.array\n",
        "            The current state of the environment.\n",
        "        action : int\n",
        "            The action taken by the agent.\n",
        "        reward : float\n",
        "            The reward received after taking the action.\n",
        "        next_state : np.array\n",
        "            The next state of the environment.\n",
        "        done : bool\n",
        "            Whether the episode is finished.\n",
        "        \"\"\"\n",
        "        # Store experience in replay memory\n",
        "        self.memory.push((state, action, reward, next_state, done))\n",
        "\n",
        "        # Update time step and check if it's time to learn\n",
        "        self.t_step = (self.t_step + 1) % 4\n",
        "        if self.t_step == 0:\n",
        "            # Learn every 4 steps if there are enough samples in memory\n",
        "            if len(self.memory.memory) > minibatch_size:\n",
        "                experiences = self.memory.sample(minibatch_size)\n",
        "                self.learn(experiences, discount_factor)\n",
        "\n",
        "    def act(self, state, epsilon=0.):\n",
        "        \"\"\"\n",
        "        Selects an action for the given state using an epsilon-greedy policy.\n",
        "\n",
        "        Parameters:\n",
        "        ----------\n",
        "        state : np.array\n",
        "            The current state of the environment.\n",
        "        epsilon : float, optional\n",
        "            The probability of selecting a random action (exploration). Default is 0.\n",
        "\n",
        "        Returns:\n",
        "        -------\n",
        "        int\n",
        "            The action selected by the agent.\n",
        "        \"\"\"\n",
        "        state = torch.from_numpy(state).float().unsqueeze(0).to(self.device)\n",
        "        self.local_qnetwork.eval()\n",
        "        with torch.no_grad():\n",
        "            action_values = self.local_qnetwork(state)\n",
        "        self.local_qnetwork.train()\n",
        "\n",
        "        # Epsilon-greedy action selection\n",
        "        if random.random() > epsilon:\n",
        "            return np.argmax(action_values.cpu().data.numpy())\n",
        "        else:\n",
        "            return random.choice(np.arange(self.action_size))\n",
        "\n",
        "    def learn(self, experiences, discount_factor):\n",
        "        \"\"\"\n",
        "        Updates the Q-network based on a batch of experiences.\n",
        "\n",
        "        Parameters:\n",
        "        ----------\n",
        "        experiences : tuple\n",
        "            A tuple of (states, next_states, actions, rewards, dones) sampled from memory.\n",
        "        discount_factor : float\n",
        "            The discount factor for future rewards (gamma).\n",
        "        \"\"\"\n",
        "        states, next_states, actions, rewards, dones = experiences\n",
        "\n",
        "        # Compute Q-targets for the next state\n",
        "        next_q_targets = self.target_qnetwork(next_states).detach().max(1)[0].unsqueeze(1)\n",
        "        q_targets = rewards + (discount_factor * next_q_targets * (1 - dones))\n",
        "\n",
        "        # Compute expected Q-values from local model\n",
        "        q_expected = self.local_qnetwork(states).gather(1, actions)\n",
        "\n",
        "        # Compute loss\n",
        "        loss = F.mse_loss(q_expected, q_targets)\n",
        "\n",
        "        # Optimize the model\n",
        "        self.optimizer.zero_grad()\n",
        "        loss.backward()\n",
        "        self.optimizer.step()\n",
        "\n",
        "        # Soft update the target network\n",
        "        self.soft_update(self.local_qnetwork, self.target_qnetwork, interpolation_parameter)\n",
        "\n",
        "    def soft_update(self, local_model, target_model, interpolation_parameter):\n",
        "        \"\"\"\n",
        "        Soft update model parameters from the local model to the target model.\n",
        "\n",
        "        θ_target = τ*θ_local + (1 - τ)*θ_target\n",
        "\n",
        "        Parameters:\n",
        "        ----------\n",
        "        local_model : torch.nn.Module\n",
        "            The local model whose parameters are being copied from.\n",
        "        target_model : torch.nn.Module\n",
        "            The target model whose parameters are being updated.\n",
        "        interpolation_parameter : float\n",
        "            The interpolation parameter τ (tau), controlling the update rate.\n",
        "        \"\"\"\n",
        "        for target_param, local_param in zip(target_model.parameters(), local_model.parameters()):\n",
        "            target_param.data.copy_(interpolation_parameter * local_param.data + (1.0 - interpolation_parameter) * target_param.data)\n"
      ],
      "metadata": {
        "id": "upBARWk_Jvl0"
      },
      "execution_count": null,
      "outputs": []
    },
    {
      "cell_type": "markdown",
      "metadata": {
        "id": "o1tZElccZmf6"
      },
      "source": [
        "### Initializing the DQN agent"
      ]
    },
    {
      "cell_type": "code",
      "source": [
        "agent = Agent(state_size, number_actions)"
      ],
      "metadata": {
        "id": "eNUfkDW2Wggi"
      },
      "execution_count": null,
      "outputs": []
    },
    {
      "cell_type": "markdown",
      "metadata": {
        "id": "E8v0PtUfaVQp"
      },
      "source": [
        "### Training the DQN agent"
      ]
    },
    {
      "cell_type": "code",
      "source": [
        "# Hyperparameters\n",
        "number_episodes = 2000\n",
        "max_steps_per_episode = 1000\n",
        "epsilon_st_values = 1.0\n",
        "epsilon_end_values = 0.01\n",
        "epsilon_decay_values = 0.995\n",
        "epsilon = epsilon_st_values\n",
        "scores_on_100_episodes = deque(maxlen=100)\n",
        "\n",
        "for episode in range(1, number_episodes + 1):\n",
        "    \"\"\"\n",
        "    Loop over the specified number of episodes to train the DQN agent.\n",
        "\n",
        "    Parameters:\n",
        "    ----------\n",
        "    episode : int\n",
        "        The current episode number.\n",
        "    \"\"\"\n",
        "    state, _ = env.reset()  # Reset the environment to start a new episode\n",
        "    score = 0  # Initialize the score for this episode\n",
        "\n",
        "    for t in range(0, max_steps_per_episode):\n",
        "        \"\"\"\n",
        "        Loop over the steps within an episode. The agent interacts with the environment, learns, and accumulates rewards.\n",
        "\n",
        "        Parameters:\n",
        "        ----------\n",
        "        t : int\n",
        "            The current time step within the episode.\n",
        "        \"\"\"\n",
        "        action = agent.act(state, epsilon)  # Select an action using the epsilon-greedy policy\n",
        "        next_state, reward, done, _, _ = env.step(action)  # Perform the action and observe the outcome\n",
        "        agent.step(state, action, reward, next_state, done)  # Store the experience and update the agent's knowledge\n",
        "        state = next_state  # Move to the next state\n",
        "        score += reward  # Update the score with the received reward\n",
        "\n",
        "        if done:\n",
        "            break  # Exit the loop if the episode is done\n",
        "\n",
        "    scores_on_100_episodes.append(score)  # Record the score for this episode\n",
        "    epsilon = max(epsilon_end_values, epsilon_decay_values * epsilon)  # Decay epsilon for future episodes\n",
        "\n",
        "    # Print progress\n",
        "    print('\\rEpisode {}\\tAverage Score: {:.2f}'.format(episode, np.mean(scores_on_100_episodes)), end=\"\")\n",
        "    if episode % 100 == 0:\n",
        "        print('\\rEpisode {}\\tAverage Score: {:.2f}'.format(episode, np.mean(scores_on_100_episodes)))\n",
        "\n",
        "    # Check if the environment is solved\n",
        "    if np.mean(scores_on_100_episodes) >= 200.0:\n",
        "        print('\\rEnvironment solved in {:d} episodes!\\tAverage Score: {:.2f}'.format(episode - 100, np.mean(scores_on_100_episodes)))\n",
        "        torch.save(agent.local_qnetwork.state_dict(), 'checkpoint.pth')  # Save the trained model\n",
        "        break\n"
      ],
      "metadata": {
        "colab": {
          "base_uri": "https://localhost:8080/"
        },
        "id": "NONWYV0YJqU0",
        "outputId": "74949685-7f06-4ffb-a7c7-13e4b3916f07"
      },
      "execution_count": null,
      "outputs": [
        {
          "output_type": "stream",
          "name": "stderr",
          "text": [
            "/usr/local/lib/python3.10/dist-packages/ipykernel/ipkernel.py:283: DeprecationWarning: `should_run_async` will not call `transform_cell` automatically in the future. Please pass the result to `transformed_cell` argument and any exception that happen during thetransform in `preprocessing_exc_tuple` in IPython 7.17 and above.\n",
            "  and should_run_async(code)\n"
          ]
        },
        {
          "output_type": "stream",
          "name": "stdout",
          "text": [
            "Episode 100\tAverage Score: -158.99\n",
            "Episode 200\tAverage Score: -89.75\n",
            "Episode 300\tAverage Score: -35.42\n",
            "Episode 400\tAverage Score: 18.46\n",
            "Episode 500\tAverage Score: 86.03\n",
            "Episode 600\tAverage Score: 145.69\n",
            "Episode 700\tAverage Score: 197.30\n",
            "Environment solved in 603 episodes!\tAverage Score: 200.69\n"
          ]
        }
      ]
    },
    {
      "cell_type": "markdown",
      "metadata": {
        "id": "O8CNwdOTcCoP"
      },
      "source": [
        "## Part 3 - Visualizing the results"
      ]
    },
    {
      "cell_type": "code",
      "execution_count": null,
      "metadata": {
        "id": "cb9nVvU2Okhk",
        "colab": {
          "base_uri": "https://localhost:8080/",
          "height": 459
        },
        "outputId": "5cc96071-9586-4a9f-d9fc-3766872961e4"
      },
      "outputs": [
        {
          "output_type": "stream",
          "name": "stderr",
          "text": [
            "WARNING:imageio_ffmpeg:IMAGEIO FFMPEG_WRITER WARNING: input image is not divisible by macro_block_size=16, resizing from (600, 400) to (608, 400) to ensure video compatibility with most codecs and players. To prevent resizing, make your input image divisible by the macro_block_size or set the macro_block_size to 1 (risking incompatibility).\n"
          ]
        },
        {
          "output_type": "display_data",
          "data": {
            "text/plain": [
              "<IPython.core.display.HTML object>"
            ],
            "text/html": [
              "<video alt=\"test\" autoplay\n",
              "                loop controls style=\"height: 400px;\">\n",
              "                <source src=\"data:video/mp4;base64,AAAAIGZ0eXBpc29tAAACAGlzb21pc28yYXZjMW1wNDEAAAAIZnJlZQABDi9tZGF0AAACrgYF//+q3EXpvebZSLeWLNgg2SPu73gyNjQgLSBjb3JlIDE1OSByMjk5MSAxNzcxYjU1IC0gSC4yNjQvTVBFRy00IEFWQyBjb2RlYyAtIENvcHlsZWZ0IDIwMDMtMjAxOSAtIGh0dHA6Ly93d3cudmlkZW9sYW4ub3JnL3gyNjQuaHRtbCAtIG9wdGlvbnM6IGNhYmFjPTEgcmVmPTMgZGVibG9jaz0xOjA6MCBhbmFseXNlPTB4MzoweDExMyBtZT1oZXggc3VibWU9NyBwc3k9MSBwc3lfcmQ9MS4wMDowLjAwIG1peGVkX3JlZj0xIG1lX3JhbmdlPTE2IGNocm9tYV9tZT0xIHRyZWxsaXM9MSA4eDhkY3Q9MSBjcW09MCBkZWFkem9uZT0yMSwxMSBmYXN0X3Bza2lwPTEgY2hyb21hX3FwX29mZnNldD0tMiB0aHJlYWRzPTMgbG9va2FoZWFkX3RocmVhZHM9MSBzbGljZWRfdGhyZWFkcz0wIG5yPTAgZGVjaW1hdGU9MSBpbnRlcmxhY2VkPTAgYmx1cmF5X2NvbXBhdD0wIGNvbnN0cmFpbmVkX2ludHJhPTAgYmZyYW1lcz0zIGJfcHlyYW1pZD0yIGJfYWRhcHQ9MSBiX2JpYXM9MCBkaXJlY3Q9MSB3ZWlnaHRiPTEgb3Blbl9nb3A9MCB3ZWlnaHRwPTIga2V5aW50PTI1MCBrZXlpbnRfbWluPTI1IHNjZW5lY3V0PTQwIGludHJhX3JlZnJlc2g9MCByY19sb29rYWhlYWQ9NDAgcmM9Y3JmIG1idHJlZT0xIGNyZj0yMy4wIHFjb21wPTAuNjAgcXBtaW49MCBxcG1heD02OSBxcHN0ZXA9NCBpcF9yYXRpbz0xLjQwIGFxPTE6MS4wMACAAAAHl2WIhAA3//728P4FNlYEUJcRzeidMx+/Fbi6NDe92RHgidws0G1DVlfhgTyBT4APypOM2ogubnVlCXzB5C+qy+8UYHmi8j+8JkdAHY0z7gKpeuW8j3tsV7wHM6Vp5x55rbJjHw9I2ljTXS3TxRn4FUJ6X629qUf6hqXcbZ3wpfp2SWJIykdOBORXojFtnUyF2R/ROvB5BeNktMDjyAG6oXRz6uP+a/1T27wZDQlLZm5T7X/GNLxRbBrujIq0YXbSiS2RblAcdosEmksnZ6lumVFE7FRhgcGLU4WkmbGXEb7N94+Qdaot7Szi/z6ueBk7/fhkgbpAhc4MeS+F0iAAAAMAAO4FtoTdmbjyvdsaXstSxiEV0AASEDKQ64JAHcHeIcKcU0j5Hi1G6XZ9DJeXMh65/B/dXSesAxnu5jItWUaQ8TpEiQ24OaLHPxbPRRilap5W2DH4cwuWv893GwkDaQKvg5eb3fLiw0Qs48sOTbi91QAql4rW27cLvKHZInZuofJiLrq1EiELEvcIojWAFEoGo5wYfEpxq7sm3SFjM3LroFv1isvIf5X/tPkYBFqUO1o6ePVd3LbuV4K5/WSJMiXUe8suliWnIwZ3EDlmjk+YWl/ilshBp3jeP2e0ZmPqtTH0jTJ0E/KhXAUt2PwglKupmItkn6sBzkpQR7jJ+6m6CNPWb7U4KVAjfpIiwx4R+FV7Li+xarQFbZ8zzUjiePKvu6QMsgAOSgRHuOOh5GayCI3Lq44zPPiUFwHvE8J5aUb4aAgIx7kh/qoS5WZHIyDhIHhQdO5NCRCdmSeeirvdysXBv1EjjriJ3mHLjMsUJ4ZGD1B8H0VxahPKPuS1qRmKs9xXYweQZCehTjr/XsKzT8xUzfdaXMPMoAURgEOgdxuPITZXHsMcK7s5JsapM7EeXweQ8f4goRZ+CSOPGBopRGp+K32OTyrgacEKDLnKC1j9cEXYoHMoBIssHXbtPHrM6h4vcSxUwTdJso2SEPZMTz+5NfLkMhiKZ9j/5E2cl10imBi4bcFoFx28dg5CJmr3X3uS/lnsbG+7EJ3iKG+EY9HZ73HeSk7GL1domJbHEj8+iyw5ZHh9xv46rNBIbeshRegYWNz0G/+ZF53h44s9f8l/vwdkW9me1UVtpwJSuAK6Ykj+YkFEfdawGMHJr4LBK+nxQcbDD3iADoknR7Noc5GbYEpN/f/o8AqIVuHa+Ipm2O6oTtAT1naH9HkoDc0yLdEYOy5bP7G//w6bojvVJoPKtf6RhUDun1PnQE1pNfTPHHiuELu/oCC7qfbfjhiOfYIXI6SadSlwYdaN4bhOwh/T3pvhvicgqTt4ePQyyL0KSt6ksM+jy7EEaW7BqQLn/EDbvVwUghNA9BlKK3V+lvg3lBlKI78W5mWSFneQDHgKq4s3wVd2EZhhs5M0QAfSpSHFlrXBGTs45DK8MWajfqnwY+vmu6x3R0JNkwZ61SBQhebrFV1iZoR0fs6WTP1Bbu9d+biAR+pYwwLZpAo/VPWHbHMMtgvgR+7nNlNjiMZqb50c6p4tjUfsJ+6cPNadiy7e5XjWKqFZU5L1WjAT3696dcT0wx3g+MTWMGMnzlpbXseMqWTXjM8RKVhnkOJTgrJttBQf4vPav3GOMVb3uh0P7OdcizvY3e1FqO/tpbuLFW+9EPw1zoWyRdRpT/AXl641DVvpBogIpu1nFZAy7DSsQokG7V2WIvsXUk2q10qu6/d3bd98R1EwZ2oXxTSr/msEzpxJm5vzsFrJlcvOH81QeCfKXL6xiXTkhkSUABQQu85Q2MRX101EyLhFzGX21fprfJ7jhaFNFOAniUpdetcQUSCC+vCvLBUyNUTiDlCpxJwII4SEE9fKVstKCGIf3XrgynJ1Oix3yTsh0XpiK0Gf7hAny2QR4IwiBcDeE6ys1YsV0bOz3bEtLu/a4NzJDa6wnbfaFpsjecUUPifYy75xcrxNzqBxVlZJ940zA7Bqe5X6ZRoT/xWrHXAh1LXUeYygR/ppAbC7Y1DcjqxklOa/eg/dUruSKvJh9e46RlyGJ0AnYfnSIWRN3/Sg0wmRPjnPmEmHbcfEaEJo1A4G3VWUm2vFA2TxbcmWk46/n/7C7k04TlTwNlt+thy9vSjgRd26o2ZOJOxzsZf6uBFrdDRxUlpoCYs1x6gsAP1ZUUqQTKonHUrsqs9p36vrXidmnlbljCLyoujtp3JlnuEFIW9nLVdXrdO0LGp26QvqaAT7eXKSyeG79IaxyIlSaxa+G95vGKavPKm36lDKk/3ja62Ks9A2pH3TiVZw/rJooWMmOXnTMjf5o8rNmhZMWu1+21D3idqGT67SGdpS3kdi5eMlGpXdVylIL5RXMkQei78Rreb1im4hjyw2OisLLBU56ARttCqpZ86UG8LH1EagB2T2KUumDcUnECWk9cK2jRO0yjmqpjJnNqfJEOodSCDgfR3nbJLMccInGwmcYbDx0JkvarM2vr99XXg06/sEi46WJk5KdPCK81D1qGNMs7N+b4xrkXV8y8m0TQnIhlIo9FCrgb3Rt0996K4I90ryCAv4CwXjfbJH9wmXAAADAU8AAAMAAAQ9AAABRkGaI2xDf/6nj3Cf7z5k6kZO/gATQNdetD3Ysq1pr+zP2J0yn/O7lEMNllVzwmFNidEJi2N9Ke9NowXC9fYDZecykyC5l4ZDd9BKJKlx2LUxI0mcbEJXZ5651pVUZX+bopQOc2G/LBfXOVIsq8Cer546GDvsSbIa6xlDAAADAmcTdIM0113Drk/GBy++ctCdzZ7if7u2qZm1RgHi4rRkhr4vM7TViHzJBgtU5Fnnc8c2feCjQCmdBVTKbzwvshfYaZnVY/CEB+ChWsvrdfRBP1zE6y4INF/E9imL0Q0g52qaCOef5O1GpC/BiWw5AjDvz1x9yV8t0y4nNrZ9o0pjhTj1ae2so551O6L7RIIwdfUYXhedKK7WgLCpxLvpklo/OrsLtsmgV4j6ZixlztREikFyq3IB1w4d9QpXnazWqnEQ3vBOHUwWAAAASkGeQXiFfwvqtDJH9ot6j86uoANoGwIN7TU7/FtHKbowiGTRiqvPAQeoAiFJRj+p+9rMHxWJjX1AdK/4JzgbIb8yyB13dCqMHZWxAAAAMQGeYmpCfwxnX1ygfzjhV9R0UQG2DWAIAQiKnim2HboeA3Zwbtjt10F/1mJCfXPADFgAAADtQZplSahBaJlMFPDf/qeLNnopWxS4dkAFygqw3WTjboHe491qkTC3O8pLdz1Za0KIV+VCUGVEHWVJ7gcOTka30jojkND1XMLPoEaU44NCKVg47KjCspzDBfmVMCNimPKz1Kv71AmMMLBr21FfsFNIAAAFWeeNkx5h+vim2F9z0+tPLmCkUl70RwASwsKNzFve+7WpV0m/tM1EIBRKjVMUgYTf02nctrjnCucf8z7Kbvgdm986qJxSRNvOYBQ3fZZNjh082AObudwzNmR92pbmaerf7fffYn0KRXPrnu8GAin4zLenAjv4vPa5CmMhAAAAOAGehGpCfwwg3GW6r9+S3FWe1DJD1t+heiO4fgATE/crZ1FfLzpsmC2p8PGvXyN2yn48X6zJ4gMLAAAA30GaiUnhClJlMCG//qeKj69LR3EAR8WtZ7MivAsbmINgCoBYRs1VzB0147d8Dhqt1SPWpY2bl/sQsG4OLKbMc4fZwLL0OWcepBty7ibyUujvGNDuy7pLP/+kU0QrzdrBiqvPtsueADdFehvJwOSqb6AAAAMADhk3w/M6MyGNYATO+sUG8yNN0m4m5/gRE+LhTqjWyyLt1zEwVU6HzbKA992tSu3De2o8REBK6KtYksm5aj7w97xIfyqigqyEkGLG1i6HDPPYs0WBAFuDU8VNXx0mAREdTrF2O3e08I0aVrkAAABeQZ6nRTRMK/8KfF1qZhDdelaedABcVXtA+obU3mtxrGl41zyqnNvhggb94Oxv+EeNS8QEkUA31qDFQmqSTNYALXLM66u3yPvEv3ypFakVTUjxgTyhUA++l8HEMSw1IQAAAEUBnsZ0Qn8Mcq5/enjraxSMwfEenYPfltAB/SjOrT4cCY66SYPBH5b4AXuyq62TgAhrIPrAABkmqbQsnfpPlwimcUgwAakAAABRAZ7IakJ/DGddugZ0tg2tBY0umtkAJfLsa7sJ9p9H2v4k3QffEIWsVhBndowROSgTVJvwCgCWvJO9rAQP2bWui7yInC2HBvMCJluWPW/8MAW0AAABR0GazUmoQWiZTAhv//6n7ZagAK9cwO+BIfAvRANtllAgA3PQgFE56Zcwfumil1u6AkK0sYGHIaCG+9zGl6qfIqPbzrVimsTHHDe36W1qJag4PJwpJKqCyW8BdVFrtzoSpbvZoic+B1hUmK1PH520mJ4USMTvd+DomkxscfHlcAbQVNCECxyfhqZ5MMKQNRYhTMgTl/CveDGCaS5IaQAAAwAACETgC/A8aNUm0LDqrUJnxFrvT0TNfPICZXsT5W+PkWaPRYcXcwTfynZ5AScK2JW/Xarjb1p46b/enXRadUNn18S1EeXrfm/uWncyhClpNJW+tSqdfgDf4hYEV9PpZI8iD6s2upEj8SyY/iVoNQCd0caRAS19eFhcmerkMFa623G/MzVS4zZZBmaVUz9pmY7oP+Q9A6aV7UA/UG/7hm5cYHfnd1gVUQAAAFxBnutFESwr/xQ6u/w1PZ8mR+/AAJjR3Nhd/iaaHSWGj13aVPMbJ8XIHbBo8rzPwX9pkLkpbSh02AUAueyRMxkO7MgP8l1hPPXXSAHjBhuwEGJtSdbR5YEd28C2gAAAADoBnwp0Qn8MfGDD4sqVSf6bTFreZcALeNXjy5GA7oslWqwwiVQAXNJkaRyU9b7P0HXLdezrBBgeAPGAAAAAZgGfDGpCfxd0JIFf3ljYgBEnoWY5UVRCjU2UmClm0VzUkonOVuduoQAm/701RlMxt5xYYEg0uJKXRevUvVEFZSVu1Z0zGzeHgAH7ZsLkE+hEA3ywAi5WKx9P7O7txwNi/JsNeKBQwQAAAY1Bmw9JqEFsmUwUTDf//qfgvksp5muAEqjBDdd3MBLNbbjIIE/BUFXjL8Vc+Ys3LMunjpEKcam6DIWtNrLX15oaGjX6tJXdj1HW/03x8JT2y+7VpTgAdId0I5c6KmTARFBmOp8ZChYtegIOJuVwKhxCN5OVlRBO0FezP3FkPt8jtlhdEKrd0HX7K4gcXW23VQ8JMCATQqfxWx5kAMGCxNWZ8K2Mldxle7V6AF+13VL/efquvXHInpzTokrdfa6+EEzJNMeG6uiC3cSuJli1tRFyrGAGib3zsoqUSscz4CFoOtEuSj3DNjjMPsTtYuJR6CrbEkf5L4tV8ahMSkN/c0ou/405QNDZ76oMoSRM51vAt5XdfJgChn95OZW2x2U4LxOw24HvXHsvdU2Md6V3o+UwKv9mErelFNM77haqM+Fo7P28snslDa9Xe+pb8HUZg1LVZZYKYNb9/xvXMXTkv69Vtm7Wnuizhc4zAyOlA17ALc+chUnJmZftpI0t9K23+DJNK9T2k0oyWgfdECLhAAAAjAGfLmpCfxdRoEd51cAVbN2HrbPS4u7XmzcrQRGRRfq4kII1W+pEC3pOcjBZ0jQbTa5Eh3nypvdrLmnDdIL3gDLu4fEJsxBntXICgNeUBkxcexX2bWPub/T35fb14TzjqUlMXV4PaR4wYsNvrn2o6agFCLjrVjzhACAomczv+OP4z9biOVzf/jusxwg5AAABPUGbMUnhClJlMFLDf/6n38p0AC5Pz0vxzv5dNK0H4r4Te/NqSk1LXXFt3KEl/fF2VvHXhhqfjRL9/c2WWK04DjTyYU0kerl2MW9Wt5Jdx6cfHMHxzXTHdNbV9+jZtUM1Q13HHuy4IOK93qgHge9ArCdjsI7kNmjRX2mfj4uMdaZz8hOsW3+Wnl1xs2aWE+BrSrgF+qndBgI32NckqX7H+i3Tm6Kt7lUpRSfYAZhvr6rtuEB30Z41+NLUVjRdvWAYwxZvTXLEoMrpieuybRBwcgwgfqbuGwmLnCYWnq38NtkAeSLV3ek9douh0ogb020udxpJVZVuNZHon5yPVTULw8nsz9owMkUVesS8esPbFa41MfZieYGVnvfJMCXLOh6D28lgEriQ7gWa1Hsi2GhondJkT+lz6J+C2F6aUFNwAAAAyQGfUGpCfxdz3NcQBrM3SczvyvAuYfin2vdipVEw8ZSE7HMzBsFn6unLth5Mq8bn+rzYcRdmjp+NiLOw5YsED3u+zVcQDeVv8N/+vSbY31zlWxNLg7iKm6p+5oq8ekxfCJw8b6xLNrgHymNaaw6FyIWiB9LU0PE/15A1UX5dD7K8w21lDcnUT4Rd/FqQMBB8IpAY02c2Hsvt8rNfD2J4eT+MqxydaArB70kzaDS0xenzqmM8ZwQAcYsM/oj1FxkQo0y11Asr3YA6YAAAAVFBm1VJ4Q6JlMCG//6n4L53AomRtnBUo/d18bwjdlfT4WSAIyjru2Y5pgNtQL4BpK/RqCmZRsPYa1yC62BCsiuIUeyYzQCXOj405le/6BxtNBZS1cZ3JVWb1zIqeTOyX/KtaCGX31Jo6gMCGbhf/gVz7L4nGveUaFSlP5Q90HhN/ic+eZ0QLZOv7h63cmDU9WODbrZp9rwXWq1bRwKI9tn2COA6DFQbDCeoZoeiO1PMhM1GX0gI/ocepY5CfDubYWKnFQPZJEFx49Omh1LUgcglEcu/9Ch1mdw0Da5CwK3e+9/Lbwa5yjQx2mxIphHOXfWyES+kkClDkQSxBvWz2KruDZQWv79LNrOZHXpc/L+lpwZZNWWHnd+HdH3uIrilXosUvgS1/jJxm1/lB6NmvL33kExpRbVTWZTzT6cjyen8HkqF2drE8gA0HGhkFaAAYsZ9AAAA2kGfc0UVPCv/FCV4O+gAi/vMgGYw1gKaY/WNRZyjbk4NzeocV20s6P+Xt5/IhA09K25JZKL2ulc7zkpt9seoJGPjg6h2IW21Q/TNakHo9CSTd7HBW2Kid/8drWpHnCUJmSb8zyEFIagWUtixV7Im2nbEaEcOwhNA3Ab6zWxrbrkMrdWyayNiQo23IFCSFYQlsC8npoM3M5G5CT5yCPFOtruu6BIHFIJ7p70lwvLm7DQ+H7Qzcw6r+ELvzE3lV7YZGS9k/cc48V8Aau5E7GbIUJxLJkdFstQpwAoIAAAA0gGfknRCfxdaZYehv15AE54Y860yt1FKEWQnZXLXDrEDyAVkfnwNfsATJR5ArGvPvHLr+x+MwodHHBnSoFgu/07Idat35opLCtQcuEXhJ0eD40h6sGXfRUH0Jth2fdk5te2+5uAY3kkMoSY6A8g9OxTC+gUfry8oWrhflTfNYZgxSGc3x2w2YTSej/258Anf5ECMc4iL7zQ48AbOFvqFp3rQJIwbPawEsLFY6UFM6wGtdbKW/R6VacWo5A2aMKAOzYyegK7CHZ3EhU9sADMDx3oN6AAAANQBn5RqQn8X/6MAIPOTkb7oWMX0+VUX6FZ6k9MPDbDB5fKr7x89zatJQkI4/3ABOzBkPFAUikG4ZVzYLrmLs6O1s7glEfCcB/tQdA6SNEfBOOOPXbWBvaff9QuLRtNYTS7weD6Iys1MCYPgTX35rgjYquJU8EZjefgmbZkgqhe4AlOD+al04k2vdybpM7hGxJfDy6tMRErYHyjsspFMTjUcwQRPGx2VgJoKHAGwU4okGELBuiVEh1jPQ0o5uqeLPFyb/GAQzHZ1WGamup63u69iqEAccQAAAU9Bm5lJqEFomUwIb//+p4Te2uJTi97CK0wREP/s5MV7ZWMYAFz/bnz4/F6qY2/mHq15A3kaS3hyd2luoQEskrMC7qgwMPtpeRaTaCwFnIEZCWL691b//qVlswqkcxeWD0cJUa1H22w8LiRSo9h3+q2lLJPQ3NJiV9a8iHKl4a8S1t3dbkWEbmj4sQviWUy9NCWKTqvpZdgbugtG+BQO+g9prG7iE8cjl9weGbWK992wkS5apPbcqOU7yaGoGAmXPZ2dDLvhgoC1m0XTi8P+H1JXQkp/9f34Pj547+WeFvfwYFLpDsgg6q0EJnkpcFI4JKJwwgslys5y+fkchSacjrpKtjwHoeAzkdnb2NZaoLepgVhtocpHP/t6wF13qF59p4DVGplgxsmGJ3req8ulJH6BexXcgXC4ogLUV3sk899bcPs5rS5y+3YRWyo8501QQAAAAOBBn7dFESwr/wXu7m6yurewqYC0vQ9PkAbTaubcporlsAIkam/bxTBzPvPM9WoX9Nkif0ArCxTY5SIhEEodT0MDDmMHYXU4Fowj5iCnsC3hv6oz7hXB8B6ozRIxIdxEynPEBndpQxn9wY177AZbsz1YpWrs/zYNTVhn8Q0hOFD9bKodoKLloNS7bmjZNBkT7Pmf8Go8O65yHm+YTVTiLvL3YFtgY/WW5qSJVZnwYz1zD7eP9YJP6l60/6cPcs4kHb8/hE+5R/zXHwaJXPsS1tRhRgJUvI5ZtpgqiniNXgCHgQAAAMEBn9Z0Qn8HKuQSGbeJB0egCu/RuSFnGAcM6cPKTbeUICedekfmR9Gw9i2L5S21DpZA1CnegW+7lULjAS4nASD20SNzjD1lofCFW6gEoqxigskDSijorM9dAqxBtxgsENFdm/W8cbDMT88TFRkCM7yZ0/GG+UraXfPYfBSTBOa9Im9USDTUXU7j87eLBopwnkRFnJ9+n/Zo+DMJkMjbpHN+e3rCSQFmyUCVxLIZE6gKfBhDaBA5wBtsM3m8JhkLAAl5AAAAwAGf2GpCfwZsKlh05cnRXPJbtH4hVzklYerEjbhZ3p+YOwc0zsqkvnUxsmEWEALZXtGOoZDCYE/GYrhuwZbi6/j9pbQ5IQq18BCj8TYlF+wt7e8wGQxJya6mAbu6lPxHX/0FMbTENTmMjtDcQanYKgyfiuBJUfM9IsauMGkQomDtDJ0uRWqEEW0qI+bsA+YoJfBmhlNGEHtbeoFeu1WCSOP9NPWHIBYgHy/UIGj7OzWxuiwZGtG7zzCR8l/yqGCHgAAAASxBm91JqEFsmUwIb//+p4QCC6b2nEeQ2HEF+jPfszwH+QbJNFzRy5vNUOfxVMjGkzsgiYiS11aB3cQME53cs+sG0jsfumHv/Co8ev+gqfxFE2S7FPuYeEWHfJ2c+nGZ+Nr02YXMCcYMoF9dbTX0R7FPMTFj1iXvD/ruKOjU9a/Hj4rTpjawluOd3lT3AhCJR8swQJxnt3nOysz+61VelUH/Q9mQK71KVyHv+QQcjjeC4RHl4k9/FrLHv5CXwfpBh+gvebmvkdewhFKcWcR4Wc1b0SdvZIMualBZJMQsZdX8DDT84NlEQFLF41L9wD9EpW8C3dkZ+JJ1rFimRDQeM3iCWfpMGswcmFeODGuft4cyT8pkF6EhyPNBEDixpuGTzdgtu06/bMibRClNe2sAAADcQZ/7RRUsK/8FPeJZ+G1Ns97g5W8vSPDli/n3arqTeV5XZVbgrt4wtJGki/mCI9enWYCiz2vJd7vXkZD+UrVHAWt98VgMhkqcYtpK+mhbUueRv5fYt23a+P+stNokmah6ISMUJJ8ERzSwrybOCWkPGQDmyOu4DoPN5Q+Z5OWlT4yl7O0lPuntrKD1d/OBx568r0kIxI2w9q7cutfumB3XvxNMhuSWau3QtIEdLfvgzuUTFPyk6u9ZjloW8WYxbHRM7hXGc0DfjPiozH3rB6YElHvno0G9YtJP4gAgYAAAAKUBnhp0Qn8Gp3FKyFeFvqDyIXL3bPZ4Cke397jlqIx77f6FG3FtoASUZcJWMHB+ODLmqhlTcNa2CS902BlgYOj0Q6rUriclVcVS+XTzSsYe0J3b9wBte1RL2NIknzKuDHQOJYQScs7+oO/m8C19v8wVKKNqq7dhFX+vG1IkEVCs+zW5TOLhgUPG6IbdOkn6PKCQQ0gR5eupXYjaWtw/9CGy9saAi4EAAAC9AZ4cakJ/Bq6DSpZpRF4sW4P8KobqKcQPBtEEXPaupubShu0H4jCUnwgjCiovzAJ8jfu40VAph2TswAWBqgemrusPlSqCDXzcs+D5D/xNbuTEhZAJXqDaMcwhZH7VObTcjF2xyiF538hWzI/cbuO4sZFqIfTnTQwPV8zUMIS6afWMXFQevJ+FhvxWiZcjyvsLyGJfgQ2rDvBfj2clW+UkhO4XhnGU6ubTa6w7AVpjSbuoFrfrJg49/3JJAEHBAAAA+kGaAUmoQWyZTAhv//6nhAHbwnmhqUbkF98YAFjgiq21rG3DZzMYcKyVkIlEugIKFZ0n66xRaWeagzb8QmODxqpCC21NAkY3TRV0atPIW7NN8OA/vzf7ep7p/c6k2eZ3t9RJo4Vyb4heNVzNj5B/xT0rMUT/YCRD7BzFrWakHmfxz00TNXZN0r1HU+WMu27/ys/ltao3T/7HJbTA5BfKDjnzBv/y7rxZ/zdMu43AE+iQ+wd8Ahsl2zseuOQZc0h5qQLzQJfcyL5Zi0VBQkEF8laOGc80eA4+4om2Fvu0SsGqqLY+ada1M1n15qpnrfwJcSrzF3atVxTS+YAAAADGQZ4/RRUsK/8FeQN+9oxfPJf1uS96VJxZjoLVTgaLwuiq9QmHL8lu91Nr9uO0fNVs09UiUTe9VTn7oIO6D9Sxxq+FUgmK5ySrmB+Oga+UjeXF7trrAXOO7l0UOzv6C78R/JqwptuGKRJmOG+vGC9ynuEfGRrYENhsvooPBIEXv5U3WigDvQEHlVak8WmyCT2E+lD8rw3fC2yTUAXLfBxGAqW/c1pWGOfpjUfRTv5ezUVoshQSyWV569pDF9a7ZwIp0jwmgAR8AAAAsQGeXnRCfwancUR2gXosnSyxXK2ox7g9ZfbYvoV4AoL7pwjKqtjw9XFnul7JKD5vq02gi0nlKkP3y3chrn7I4SiLFPXp7ydffNlXCoFZ2nz/YKaO7srABC1JvluEIeDal2SXNhCTm6yNfnLWecbR24gDRzLp7OHTgjEIaeuFnI8sqy63Z5vS4xs8pwPs+GDjj7tK9ldIqz+Zdr30JczQYngnlWRF6BH2ZTxUnxOopGAPuQAAAIgBnkBqQn8GroMtFeW7LAjSg6iKEV8FqGaamw0HYAWWSog1O4vpMspdCJPSconZ4C1KKFR6+IXw8K5gWtwMZGS+qVFmFOQCXaLxKjfX48g1X7FQ/rDkZwaDEK56FTbLbl9fbDLdI0yIDzfBbb4NsM6ICJ3n1r5QXmzP2BdpIJgqBsxRjalCgFlwAAABDkGaRUmoQWyZTAhv//6nhACocy6/UMAxVgAHSlDxbldccMCzTy0xv/gDCgOg77UncnU5snzhqBvJipg04Wu0Ylni8bC2wv5RnxyFBAHySjq/5t39+6rovuED15+uO0H4/9ZrgjwVWFNb/3ypEDVwb1iP9lghukBOX6S3NK2+xOG7e/g0T3/EifkRzn6W2/+yQICW8WTkzJ1j2E9ShG5oBQd/Co7AzlskcptimWW8YXGiHQqdBwy0R1br0nT68AasUzb/VlTg0jEP9M0dYf2SZWMplz3KHJByklzszJ30+MYC/SXTD9w61tHjicD4VIHXZmf/JJ/eWLUJTeCoeHG1J3s4dvAi7Vvep8irMQDZgQAAAMBBnmNFFSwr/wV5A3tBVDXpn5WXQBeysvuAUQ1dNMZKfybhBVd9zLPxQp/i5OxQovruC7wq1HlLeExiN11H8dxXdgqI12gAWkIbmlmgi8iQ98J14vz9VJfUKcW4yeOktBq2GepdhOrIhJmNGIYyPbDVoNWxOHeGJkJMNLg/1322mwzWmCUQmUUP7kTgOoQF597yEdF4V0ssu2mNE/zENPefd51Fv4OlBq+gLrStP06Og+QcnN1du+S99r8sVbRgETAAAACnAZ6CdEJ/BqdxLSaHPlwlJUvSU0cLYiH7mmslnzgBMtOl+kO+pp1xSFKaHWOivtKZSHGZraZsnjaGFA9g35fNRaEBWrGQJrG1C0vQuB7rTRlnm4mLAby+ewj38CDR5MC0d7AV3Iu/YgWnqDHuwVzQXa4GVcfelncBH2OxDbr7SQshTiFforQdpFiQwBSowZe2oLGa0UDFvbHOjR3Y4FOI0zcK37NmAaEAAACRAZ6EakJ/Bq6DLSMVeEGZHo9TKWcItiAAIjg9JzGdbvf5jpxZsvdEJWMJ7ZOJFAGJFVLerR/Bn8l5lOy7o9VlMIXf+tRQ5wTyMjlGIShqbBaMD8OvU7RgSg4fMzlDXhYAyLKIT67gfwRg8jOMtFH9nC4iHlxbm1AVtdmMvMubQtA1A+l7aw6ruPGikZ5G7YYDewAAAQ5BmolJqEFsmUwIb//+p4QAo/Mu0c3tv5UM2gKgKe7JgGvRHc4Hx07U9PkGN9XCDSejqcDPM0AHmQyM6nUxZqA//XFSGaNGmcAW/fzYGjrsx7Me0tjEKM8APtWk5rI0F5lFq7xGaG0NZ8RpooG/ZSL4R/egdu3yPqaH65tY2JWJlOrslZMafY+j4gjIO5cZ16tiTo0QRxnFFmyWt6vPfTPKXCLFFH6Y8+kuaib7+eNf5dlV+7JXBJpOfa0V7K76PzDiRPTR+ajMD6li0cSB9vHepEhzJkl0dmpTz+twsGJEJurCoHla9RcpR5U50AmMEhcTZ1KRBdWltmZttlsp9iCzubW8gjD8JS/paoCABgUAAAC8QZ6nRRUsK/8FeQN7Nck3ty/ugE0JjV8zH7xIcSkpAKn2yj+Q/DR6zTDHvfYoPCqDcpIjD6oWdjj7FeZkXZ8WFBMJMri7gv002tsBgJ4cuweyrjFQJBuel44AHyq6BQsHLYzbHMMaWTaoUFA1S8STQtPrRyVXplzLCsy5jZJqhjTVxh3mn3WjkKJCfFXjnic/8/JRQYVFSpQY4UT2t5a45UvfF7A2VfRViUZuiNzeX+x4cPdv/y9fIx7AAakAAACLAZ7GdEJ/BqdxLNPhfF8xYMFVkIdw4/wn0C1/yB2f+GdahFAALZ5jVAtcWH8qFbqSncf88bErEYs/XZiIDs+gwB6TUXKX2SHud12OLSFiw1LKxwKGOAlC1cj9swXtEimkgSLT75sHfiC1Miyft/oGbsgOD4gmYJ5RJv+qH42aXPICFnCgW49SegDmgAAAAIEBnshqQn8GroMsf5Uybx4cw/l3WL8gkAAuJ/Qi2VboYBFDXiR4ezaMD5B5imUhk3k60IAZ9pdRGIhcsTgPeT/UXEiBAgW8/7+UveHSJEO8QIF4CZ1oj08EJiO9wlsZyF6rJjkZUOfxFsF1XLBVFJQcUH7l2iDSxxCoMJUiLdul4QsAAAEoQZrNSahBbJlMCG///qeEAD5fAPRVjNTp+Kwh0RHRgoNGOxFr8h9//7gAB8UhrsL4uvJEeRypMKp7J46aldXhtFMytk3klOolFdoThAiN81US/jNPSqbrv1pwm4cjsiCFpO+WADno8PzoUzMqKhVFVnYzV1cL1qmEO8ixU9ep+HHUjzega5ytxqa/VBcMX/CG3LRkyOljaYMMjZL6bmd45io/VCILIoCHVUZ1++royHwWTrahxi4HPL4Fwv9G6IblO4SfLnVNPsKQOclggvKMPKP4efS1Uh+LSZ3HrGX/n+48OXyuUMpDww+eNiMgHQHQ47G4ciB4m/JuRY1dK9PemNF3VotDH/oFkd9QDSrXxzCewY4MLJ7kcTbzt4Hcs6m/qoEzC96A8IEAAADQQZ7rRRUsK/8FeQN6LDZVvfiY+nmAFrqcw/JHLPVe+iFymyWEfO4MXfE3SlF5JxVPlKttRM86aPvCvDpTI7C0HagpAPoL5msUYwpWa1px9YM61XkqxQnhyCixOqz36WNXFMjlI9CyY5/qV5jXNiVm27Fm7IEWm4/J/T8HK8zfndb+CUlTweBUZCjON7WNGmap0b+4NHLAOF5kRnli+ZGgxWQ2/8wp4x28Y79qrvZxCnPqLqWupsPNmYGfI5kSZUBye9xtCzMUfyKkqME3aAC7gAAAALYBnwp0Qn8Gp3ElXz1sTdkWdtsACwO1IM3q5JzxKtN3jod3i0vXNnbjatngBtar3n2H13guzy58zylqSrFwM7LwGpF9KnrhTI+lz/1RHnCDZR1Xw5i0GXOOVlw36qUSnGGF8YrXXfDF/dF1d60siHcpGsXgA03pnS/Misd6/BARDeTaSKWFTUb76yhmNJpmCTOZ8GJV+dy8FYgfOAJYPehGysnRxOoAecxU3AI29LSoWifNK60HzAAAALsBnwxqQn8GroMlgoagUM9aJt73NL/Ab9XwBB8GVfMMu1aE6HglZypL/ClnRdlwLkFGdXBU8EmrZug12yh8W5aNFwchpfTkJGaCjusKKxwC7njjAQnRbhZskbKPhu7fhdqUujd+E69+3CjKpxK+BLpTv/95kB5MrG/8zZNghx2ESzg+T9OpuG5bI6l4wSF4a/VGRG+WiyeQMwH0s+V4xoJ8mCUU5Ki6Pb2c01ANnNC8iHwOBckVB/eEIBsxAAABCEGbEUmoQWyZTAhv//6nhAA8/9H2ONYtGaaAJ5JuOvDwRx6E847eIYTyB64Q1p34IA49F7H+KnPLhdvU1lezHVrwWfFOtHK7vXORbAdr3BaV27/i0QzhhWEt94qn3HIqFJt8Ff7M61A7q1eMsQRJZpxcE8qJovUpIIFsrm5AC2g9/c4zF/o1UbTBjq8zzzTYNFnMtBdu4+YgAvFz0jNcbOKs0811MJ6DdIga9t5pNQFiDvP1J1cXtS93D9jEoH5ZAXwynLfHGAyWO2ooOP9SEKLL5lPMo/2xxj6f2epokGPU45w2NehV0gbOqudRMIxY9qMdUgrVlaTvblGu1XbTuy0in6tOVW4PSQAAAKtBny9FFSwr/wV5A3osXSHBdNr1/dKw1HHkAAo6kB0BDGYXpwyzPxjjJYiat3K4GeLwOeNfU+X9xwDfAx3vJJKdUIALB/fB15+5vnprEBLbeJuIIDR8k0kKKdXInbCxAq7IrbykKoOOuBxrhsx7GWPQVt4GPC3PIIZLdCm6kECPXR8YFR2Xc09B3WyMQqEH+lS5v8c/jQ5UrXDOvK7rOSODQfnGk8WVVudYHVEAAACyAZ9OdEJ/BqdxJYApH9qHcwPI3feLvsZeNN4AbsfVT7lIAWCaY8QP8s87nucYoueKSBsY4iTLtPPJia4gjR5YoRDfOhyjexzY8uP+ZiD5JUJ4zVPcvBhFyRMoeKvm/zDAGx6NUknSJAb1h09EqTzPinNMe0w0SAHkEik/qooc2/GwjWm84DCIU7g7Osy1LRLDgoDb9HREp1ZJ/Td4towc1hj3DY9WLSLhh+KiAx/xFuAK+AAAAK0Bn1BqQn8GroMlgpUv3TQyd9c00hucoxBhg8+xR+UNsQLoEPuDSPRRzX69oHAAnEFxNW435r5f5NFWFjHB6UZKesy64pJ5G6g/E3AIXoVnix7+YQxnpxJ5TEQWqYTppc1s9tQSjky9bWvGb3QWYOlBYL3N7Po8wtUUifGtOUGct9p76GW3nXGyaCC8GZor+iKVDb5WsxPRqqa2B9UFcjMZTwEtYKn2AX3kkoDpgAAAATpBm1VJqEFsmUwIb//+p4QAPPwnmSxAbFuLAfZP4AJyRM5Wmmx+gBdvWgPoWhfH3zVM7U9waIpyXMgGj7oCOSy4qigJRa/RetCa0fK5iqgOGUND1BsOZI3DBFrs8h23tZlHiRDYs1odo7SIzzBVMY4BrKLBGH9O/40P6gm9bsd6FAlfYPc+9mNlWV4XM02uxI9opudARdbJwJsrGqyvkrbU8b5DA9nM3OQe4oDLhJ2CNIdqkiE/50ctzVIRqsxru3XDCwVU+oFZYqdrpmFdJQwxQJL76VvoTE6Q4bdneFddbnL1/C8qq4DJyQW8fO9bjMbcD/Gh8wLGtrRvjgB6w+Xq8XwUT1UF4tScZTKUqdvQ7F1quVkwEvfEcXxqqpLrbfv0RfwD1JOBeDFVorB/tr5NNfq9F8nUxQ4OOQAAAJlBn3NFFSwr/wV5A3osXRppgdwv8Cop7/zpDqo/u/byy9VJ3g99zuGHNqg3qA9xFcEWF2n8V1HEnGZhLrCEEgsjXZfQLeo/vq49z5RJf5WxXIp4jkZkdO41s4Iv8LPsHw5xa6NDrufmvtWXjv/0rfRiCPr1nG/XExjSI6j3Dt6Wa+5TNfGdzr3bb4felg2bi14clA3zMlpFgz4AAACyAZ+SdEJ/BqdxJYAohEigCFtOFAAvhFtuC1vGTtD18QLENlyHfr/97pXJxN7wOqVz9aiCgMvoZmfCr8nKbMvgjtHiFqxUu11Q1SriAlqHPf/y6iJNwTblh5Pw14hMsTprFljYMTVTgSbiOudlnbF0HeCXF00lIA4AhPLylM36aRZsQpn1t/xucDEN1Yz2ewls2jUYgkrTJ7Wuw+0BxQF7oQwwEZtmQ4BEUvIdWOZqktgGzAAAAKQBn5RqQn8GroMlgpRNSN5p1tFeQBV6W5dlIPbtqZ6elJOckAJfez4lS1bmxA6voaJ+BLQglD7rw7H040dIyxl4rC/qM8pmrHbtjcxWTPkMHQ3PqeoiRFyUQnkmRu1xEA+eAE7DyH9YkN2XXujatYTYc3foT1Xr9pPQeb+kVO+lGzOU+5VUMh4emFj1t/6NUtMuC/bFymuuxTCGrL2NcLcy3oCpgQAAAPtBm5lJqEFsmUwIb//+p4QAF/9k6q7e706BugUKxSVgAUAtVgArEOTEHZbxVEtiC7EakUbQF6zKJ0VOOsWLo+pw77VG+gupL/w0X4S6truBopYMj42H9LCWCOkUcxSAF2tAOrMn+iFShwim6MNnn9hRTMJWRembZLMhlu0DGeOgfa6hKm68tYoqbtExfwXFMKjvZtC8FERj+GwlpChUO/2OhGVl/MEABHYuhKQWc6r+UQjTg2SpKHEaipWOFDtuNbjgRBGju0QQPqzh6xOct8Et1mJcsbv3FXSy4+A1oaDq02jtucitX14Z7TVwYnDWNMZSzBCjCZLZfgAKCAAAAOZBn7dFFSwr/wV5A3osXRpr4r964JTUoH6nFFx+80WTtD4ZADNyuz8uykcGF2rAPZLn3iHqsG/1EC40D9PldTqtmckdnYfMJlD6GCxbKpquUosfJy+KV02QQnQ51gi/agjPZFd8vdVYyoii5ZK51VEpT1JtPI5MIHAp4XtEHWgi4Klskx//Fl62mMjB86EFV7e3jNdkvsRXhrMhFIDJU3v2W+w2yBdjLAraM2JLubbfbw1wbKPTtzukXLAzbFHCH846uoQBQUv6Fcjuu4Qxu3G7ryADOQHa0FvRGxV01Lb2n+dDaUAQcQAAAIkBn9Z0Qn8Gp3ElgCiQ8CWmb48ARL9Dpru/Xta6PWzMM3cAf+pygeHaAQKROzvpWwqastbIrsrcpXgkQWO3aYobbAsMcIcTkZYrp3C+wGxrcJOfS6V9QjhudPD3DItHzKpSb0Zgc5Bv9nEKLBjVz3rgQJ3Uc3a6X6Q2bywzdAkjOKRqW6SWYAREvQAAAKABn9hqQn8GroMlgpSeWS+JQ19ADwDLQkt6FWxogBYeG7tkASRBlocPbDxKhJwZgdfpe1VffAHnyPucZ/33ZHMlWmxqO44O/9/LjqtiIJYyK+3pxxwXadYqWN7sBGMTRPrid9leAojmHkypUoIeCIpxQ+P0ZqUGr8WV7v1bY+K2GER9MlGrIONb5snrewR0nqSbJvb2YCL56tyP5TLvyQ7oAAABBEGb3UmoQWyZTAhv//6nhAAXXmXZqxcyc+0w8Gl40LXgFIMtRnmgS9VF7Y2FMru1+hFmkeOAysVfR2MCS3P74JrYvi6m3BU75QX4mjBVS3hj0sDbMOK5/3StxrsFTRBlWpAbYelVuLM+yRE8WMh5Fju6HUuh4zWJiG6OPWomrJ8DtDI2IDWrbgGEirI7ocNdt3T5vRH7EHNlsodXIyIVhyN4CiPK4YBhSJ068nJKY2t5DhdBDF8JN91J86GqcBzzrP3nAxfnI3Q9eh0cHCdaCuvfEzEbmFR2xJtP8PCqALzu1W9mTs1HKGJ3hX6VwivLw6fgQmulONGrVTFKjychxPdWXpnxAAAArkGf+0UVLCv/BXkDeixdHSDffyQqExqSr49RRO8AZ3Ejx3Upj1vKzsoulGQhODBjH2Oic+yyQYx0TKzDeGQ9S9qgZtSzJjuLIO1cTVKuHh1g9KtMir5fyhZMyPxz91WZfm3Senzgs7D0X/vej4PCsOCr8ByAZFKYnTvq89wYHc3q85Jl5fhSUtmNoZmazg0Bk0U+NYbt8u7EM1D5N1harGsb1uFio6fYvLZOiADPgAAAAL0Bnhp0Qn8Gp3ElgCiQ79e5zhDZ35H1jOdwAAM1Siyl/YtM3pBHhekHiqgDdMmWh/TW0pZsKkY9bhwv81iRZ7PApw0HSGQFJmaV4bDhU/39opZYQsmZ9/gyV+r6N+OWh7PrJ6E/o6ZMnwrRP7xj9NNa/tZk96vPL4GbME7gwO5wES+EnSCrPEJ/VBMO7zJDWPsaM4FiUq2s8JeAwF4/UPMvSPW30Ikk2bD88AFwBjKZ6EX1DMwlfDT8BXUfArcAAACkAZ4cakJ/Bq6DJYKUnljveHAxQpuX/Vd5HgCI9qji4cvLjaqH3qEDUBA9Go0xcaOCgQTNQHelDabPXoq2L5SkRJcbkLizEv3fOgnkQ9zbMl2RT9Bkyc9INCkn9CHJAL+pBExn90mouVaY+Yu4Boax0zlZBl4LANaj23mLdRFTYEi0KXdXNmhUHlEboW7HD/Cbz1MaKwFoTUoC0dJJprN9l/egWUEAAADuQZoBSahBbJlMCG///qeEABbOZdo5vbx8ilwG8Y8+e3z/WosZvyXwAaQ5/DmADfCHRCGuTi/Qxe45jEoqYxC6mYaRtJdvcfp9a2QpeY0ZdjdRobiaMujp7RBRfwfKqX/Bf+bbCqyuzw1EJHwjqd+Lrp0frNcv2j5CzBxKFsFa8iaHQe2XKqgaIbC0l+sL5XGEK4KGtRyZOOs7IGYzKwQegCwns86nwda34wxRXFrgtPYrx9uyR7lXYBMwKpJU8fmlAfruC8eG968iJREPP38+P8csD+BLYJu2JIUWTSn9fdsEnaaazs1nkd5C4tQUwAAAAI1Bnj9FFSwr/wV5A3osXR0g1+scfq+vNb4TSf1pZv/TcSwAjF2fKu4Nahhn8oEyLHw/AdOSGnZnaPHBzB2GT9QAhvkZeEXtklWLFqWxykZkfVgfoYM9zDwWLXylIRpObiE7LJpT7p9zbsd7shmKUZR+c0zzGUyf7VX64nG2oOGgfmKpu/dgBQrMM+8gBNwAAACQAZ5edEJ/BqdxJYAokOv7eMiBa4c4BHv3n+CJUQ+QAv9BO5by9Tj0gsrSDoKABTU58u3hgSc4T4ScXFBgzzGXWGRKwX//4Mrv1NwTblh5R36B4p+6O2IRaZDEmTgSbiOudi88LHSaI6u03zeAoQc+1g0HQ6GamPzJPjkTYn7dyRP12K05IfJ7JGxEuF7HODQhAAAAhAGeQGpCfwaugyWClJ5Y1AfXQmhrllPtrNT8AW4/2BxSwAfyUryq0wbVOf4TZBpO7Fuy4hQCFCdLj1xL/U0RZWIj/IQ60ieaSMoihHyhn7yb97jRStxue6PNOZhL/CoF0NNPKDfYftO6W7Pxa3V/Qo5Eu3sUWJTe80DpS7P17i/iEIBWwAAAASRBmkVJqEFsmUwIb//+p4QAFj5l2oiz3W9PChwBuDkmifPCrXd4Ed7KUlzy2Qk3fLy2nsfrN2Q0/p9vN02mDOw4LeWOva01y/4zHSYogBQl1ECTFmCj6xFxk9waJy+hpM5TROBMCa646hPb9Gn7QQGVvSViOumztZMBbXKtBEU69pAbOjzwJfOti/by5o0LIwlecafFXzv/t/HpGa3zmSohqtQE82Ek0gwrk+0hTJb8YvVbSDS+UzUdQ+XJa69ZClEz9GCD8D0OkQC3dfcPmXs3PJ+Pq/G1iXkZgFoHmAtiYqh0+8gFv1SakCu8FdtL1pr+LDU46OQaQDAZqCQcnJ8VKI/DhNaCv1/sFxNZpi1tVe+i05oNPywvqBSq8KT/lQWYIHzBAAAAyEGeY0UVLCv/BXkDeixdHSDfVawAADb6pUo2dugBK5/FFM9okykKFo2If93EDHltwiveWPsNkUeL1I2piiKEbHHktILliToiCCJQA8g3qyc8czJGSszb3nBbui4iqHiyEohNIYSFJ8mqaAAwseFwnF5KDt6Omw9LffdF0orsrizC+FwMtOmbPhN6oC/mwuf8dDSbihbH87qrzDzBhzirWhJzt3Qn2YzLAJLYZgyPEnve/BMtuoZEB5Z/Vv9DuXAfmWEHV4y5CAM+AAAAwgGegnRCfwancSWAKJDvquzvAWumABdBQPXZk0mZE7mkVr+A0/uT1+ry/uOihCE2tYlQqPb2HCHfvjkyREosOJbvechccM43iRqQB4NC+TBBYOCJ4Uopn+nPC8rHxtgz3snds5AO0UsLWF7Hl/Ewuj5WsauR/NcUPZ3rbe587YoruHvtKl/KokBUvzn3qwqU63Y36yFwFvdgA5eaGOUJoMWT2BsPGJ54MCgHu3zv7V2tfiQJHtRmw8jJP5lB24ZSjgXdAAAAowGehGpCfwaugyWClJ5Xwg5ATW2DiUfxCcA/JpEANAhArkBP8gnA+sfMJfxdkQ2MCJ0P3ihJPDWLCDMSSr+fOiY6y35vhv+lExZ2fJqsJLeOolXKA2fPNplce8FfQYf2uHtu1VrLg7vlCb6Wypg1j9JOmJWbRts/G9ynJlylP6Iy5Nggb45qLlFwGfBJl4fG5bB/unh14ifhqjn2JKlMEQ2JwpMAAAEjQZqISahBbJlMCG///qeEAAi3Te04jzamGQTDfQeOFfg5umrK7cQrU2P1/7NKmIeiUPQ0dWTY5rTRVvFdw8tyLxkHMFBZanBWo5IOP9Y2x0YeqbxvPFryCDg5hHbhccLpG6T0Wfq1UDy0ea5f7ssBPWy2YQP89ajbY8W9nI1QO1OsfQJ28B4NdGz7k3gtNr4VxyLQjUk/lZI6TeinIxpZoSxDW1GsjmuJMM1DQMrkn4YmuQr8AK6lITh9oQrQzXtTiFqRE6td7Qw0bZHGEcRgW/SCpebezkjdaLYd1fXgTp758WYi4Z4hYqkwiWS3SVxxg9QYMVUPPZ63d3DfnGzJMeLLcq2zDSFkw3++UIGEpSPrcn38s5ayB94tl/r9yCMFAE3BAAAAokGepkUVLCv/BXkDeixdHSDcexHxa3DNnkeLtBCAGgV3g9TFjkj865A2SVTkMpax9xslPjxWHwaw/h6R1FTVjQpHOwaKl9Plq6LCfSlZLe2EJ7d7IPP0vIYe/NP1ldzyhjR1BNewEcPwH6P2s4TdhS5ZAPIu3y9s842CpSjyl6hhm81scoJp/Q6bga7mUO73LZZ/B/PXQLA+w8S6BenRjwAuIQAAAH0BnsdqQn8GroMlgpSeV70Taf/tFE270AL/N/z+DEln+GB7/XLkZOLFYvqOmx7ATeqmYl1Xo5gxlb/B525IAk+15nrPP4/uRrxrHjhMyKHASGy8Sz3MgZjAd/g3u+4AiAtjZCgNuqfzypXaJByanjcySJVFJgAKqJVFT+gBHwAAATpBmsxJqEFsmUwIb//+p4QACDdN7UVHZP20YFyMAB/SD7aUzWx+952mJoWKcI/30yDzvoGpbHegUcx6sA5g9lZ03d+xd2klvef5QeWF1W79r6dy2dUFwHqF+8cqj5whX/LTAxI7R6iS7aEwaFy7bP2lTMUM4884XD+QmrmkLBSAuO3cf5tX8eCImJsfws2DBU0WxgnXMt+TbFN/mkBDHB4AFq9c5n4Uy4CbL0qai6V4YiLw6DILMTB9OFBhv+B2IBqpTZ14q2zx4H8CI+wNNPETr8z3VGl9QDKebdszMaogzLzZgGs1xZ1h9bPjFYfpb2AlQr4IgKEIkDclPHtPu/8ri2sV599sOxMhQXszdFJ+kvHimYUAinVQm7gTB1vDqL/MKpq23qF2XtJZU9Jzb0zYIO/OgIm60/oFtAAAANJBnupFFSwr/wV5A3osXR0g3HsRf9YivBIjxABYfN+6hHFQu6RJb1mpDy+cJsvVPd+HPyBZeAbDFimBwWq1ig+9mWZwsRIma5EM+zLinml8NujSOH45OBVQxUtfnOKaH28J8I5ba+U5Sot90Jx+ORvgBwjPO0/a/dsDJN21CWr65BhV54KcTamWSmKkfmmYJ793bS+7G5xNSC3x5q+hG6jF2FxXnivzNi8n16rtCZ7Qt90PRYkNsD4HKclKF907X23zG+4ZyQoA5PKblzB8mdmADlkAAACaAZ8JdEJ/BqdxJYAokO4IfMMPBi40W16/QAR7uAMQ1iVKJUUpwpWGirwgb/zjBv3bBhnzCSj1e++hw1MFpC4jn/4B0X1d60PkEj79GpJBv8ccAwnz3OJh//nZ6INFb/rC64NPNWDuwHs91wgXFxvtK/ZCb1XIO5YVqj9rsPsxfuRq+AJVKulnKRqJyP3+S8lQTMwGg/40Fc4FtAAAALcBnwtqQn8GroMlgpSeV7g8/2vhI01GO6s3TR/cOOQAakdRELXYwO3CTklv+FT+BnuXAuuNlkJnJV/PI/gNMThlso39uFThP2td0oedEujCuN6WjvpMlEjlTc9JIpgkfZt1RPBD2nKuY1CJAiuOyH6GtEglELG1R/dgs4MFq+D26c24cFAYT54jLME15WHoYtqRcnhM1P7OdWR0uBybjmUytoHii6+7nEVw6OV/rxQH+1u1Sf3ABDwAAAEqQZsQSahBbJlMCG///qeEAANj7JsIGXFG3Xc76/7O8qynA0232v9b3i2D8IfzdoAXVcI9tQFeVN8N7AonCBlrpTMni1IgrEdbXk2pnhm4e1btGAmkRaA4d03MlPgo/QLHiF7SQzYbbWM9/Qlp8COvJqUekcsxRoGmjslPoK7R3oDL1DP3GCoFdO+7uTuAK2X8rH0jxE4KiWfwaThQH59hR/fcCWrdDZYAkd3AlTppEAZL+uPGWOocADfSoYCfub1GWqZ0oUBZMbF9gIYCR8IoAbjCUcMDZMG2xw+6kG+HO7u8OGXJsN61MpWY1s2Gewv5k0pYbuY2xr2LHDACpuVdIls7kCn6SEeF+vnpbO6RcDgfO9ki8p5IpcOqKz6j16ZpxLhHq6P5BGMqYQAAAMVBny5FFSwr/wV5A3osXR0g3HsQ2zgoAoBUCy3opgmoh9afN0FYrV5NHrbPUUocD+PIubHJPCTppKhPMOU6NtemzlwlmGwDwmOcTipkFY5b7Bc1FsCwG4Qhio2qlM2U0DBGS4vJG2YJg1C3g4KouXrZqulkajI+DjkuhOUUaM6nLqjLCstunT0nj5Cgjm+940KgMetpZ2dUa0DdgEDun8t1jKe42TCGPiQBy0ksJjOtXSyj9g2ICRkoUqKYKGiUs2b0rmQNmQAAAK8Bn010Qn8Gp3ElgCiQ7fgZ8zGnhEDsR6Md3tfP8/QBSx7wPzzOmn+QhHo0BaPoNKEHWawRcSviV4GImkl2pmm8+YV7zF7hbroC0KV6xEAEGhD2B0P3nGLQsItneAnD9O+D5kRdA2tv8Uydm9hCdkXXuL49Wvro216mZ9WNl1SjJ9HcZzkLdkzgj7mNkkhAMgYViCc7Egmb5LXd08lWapB1ZMVvZhKQU+n4MgMhwEnBAAAAugGfT2pCfwaugyWClJ5XqrqdSAIOX3Xw9J/2jW2yeEaDg8S6MLlYbMdOhY0brZjqs3X37h4r6amnJd1Xu5QDK1oG1n1MyufyUpRijE623LR4gI8m63ilcGpMqCWFx1y/eButEglehYj6Gzuf6GAgDZo923GW29Yp2DvW/q6Ql7Jx0ODGz6QJQC6KO8b9mNWRYqtINgIgsqudWm9P0hC5d0Cw5hOjeLEam4tbXyCL4LYyDWeYjKX+sSuCHgAAAStBm1RJqEFsmUwIb//+p4QAA0/CeZK0swJc2Rw5+ADmz/yW3h07vhWzDJ/JF3gW8KI+a9bn2OpPRBLykx/iTlLxlviLO8WoGIITi4od0v2dolHbJp/CkO7T9ZULeIVvAatPu1LbImf+YVE9Fe7HfhyWZ2He9lNnimJ7OPsPO2lbSrN4GYzS8FDC8kj5XlJmJb40LDfFlBAHbaHHtirJOcdwsqv2XsN/NBmPER2DsYt+saV0qVkiWB7+2Bw4O/w1EUtfLqjfoF6uWGmZBsnmFMKJb0OT2lCTO/DzeSJrLE67gXh+kTz2zg38YBeakWtq3zM0xhlbnyJNxFj5sxOh0KONixs6UX0CUphM2EA1uKMTS5Sb//BNQclHZocnv5Vhu71S9Tq32KuXOnaygAAAAN1Bn3JFFSwr/wV5A3osXR0g3HsPNKvdgLV7KcHFH6TJlUmlABaEcXxs02YYywUj9FcSywCZj0O3nW06xVDhKQ8fZul0nGN1pWo2wBywDXnSYPO53LC7pzpyYmdEuJcO4iN+vVZAM3SSq13QCYlRDMhYwjC/VdQK+yr7tzX5HotDzj58ElgoRVvK5DwqFJT2oD91emDpQ7nz6CAmMvuocPZZ+bVFdPK5aPOIFr9EJAkXqj0ULh3OCZLnLI6d8i+q6uUf+ucpFjTnaVEqIWnucPwJED/9YvAn9lxc7wgKSQAAAMYBn5F0Qn8Gp3ElgCiQ7XlSSsuwDTjxQj3S2p0EFGVDYBezf3rgC8sarCSEg9z63nnjpIrdgwMbyAaaAxRcUNTNdO0v+/YTEIsofEHFMdiMOWSB4aqmwMr7m86TIBfEm4j966SR0mLnQwIG+PXbRo4/4osNnrcpQQkhFmtuX+8a43klDnNzQ5uQyUfcGGUE5TY5GlEyrkP1l+mRGMFJOsTzwtvErLOB7zNqpwzb8zSCPYdzmBYejh914F4DVBmpJIV1puZ0GLAAAAC6AZ+TakJ/Bq6DJYKUnldRZZU1xwwFMQAI6isKdh2RoTU9+YX+CvCcd30SvBTscGBoCIw/dTyUEQqPPg2YUAZ66B5cOyWKBL2RQjgZVDiWDL3MLRB2OYYA4pG9Fo7dR0Em2HUk7kSGESdi7mt4srNsh6EjBeSNwGTHyRTl7HUs2cM6N6ciRFne1WB/rTZrhpvJIDs0aoT2IgynhdUzal/9bGxSfzy/cWoNZPTMw5oy4TY1EReJjrEvOIKSAAABX0GbmEmoQWyZTAhv//6nhAAC/+ypguaSAFpaSwYA/ylVdpx+LVMCaiRTuS/FBf9hYt55eLpqmg5q9pzbelyMq/b4jPXbLYrMj2GYImtU667wwSW9JzLwCFNf4ilXk7p/ZJTNbXDjSL6cxRcQL8pmgJe6b1RUcqxtY+DjdPfwhc8tSbZFNGUjXyKir/8oUDdbZt5giyoNGR/FNVpH/d9+zmihK1pXEeSW/nyBkgMu9T6vXp8TxMSTCM4S1MDSBSBwiS7YT7maWI3KNarlgswqsfPHS2LfzEIcMCNajN+Y0w9HHrvDwIA/C55KW27PhRfdsRbi5+19zBHPb+Ixfi7sb3tqoHZLNUPvO2C8M8pKfbzCTBiegSHCfb/U3vy9CcPyyfixScgjDk+zw5NUPNDjYVouqT9Nn6XTlgEdI3X7iZ37/f7Fek7hl1WhqDxa0ZyDbxj3LDMFzNhDUWwMTXvKmQAAAKxBn7ZFFSwr/wV5A3osXR0g3HsPNKtpxth2gBoFd4PUvfexrqkGCN4TxWslbFcHrRDaFaDv9xtjGO9Q/9l6d71Kd/w9CBq+XBdqH0ZCfrbxSx7B6NwsMjxb6w9/RO2iagB5fDFO5+2fQoJ1e31odgshLQlFtUbAXhPWcSKJVgO/R3rRDk/5AjLVp+4pvPoDmQwQfC98G5cUcZOATfg4WRkdndSJ+4OzzLgZgCpgAAAAwAGf1XRCfwancSWAKJDteVUC7HsgAcXkZSK4s6Cit1wJ8qLQxxxHgtZeAb/MN2olA9WxQnR5j6tsCrT8ghqn8GGJZdgqwW4UCSiK/rRL9BXwK7QmSi3xlUVdGqwJ3Mqq1l2DOhj+nvwGifTg+RLUsNq0tlbj8FT05xyhVgONcrJtCABGK8yRZl97n92+oQgoXm7Xtpk4luvrOqTOI1WNa7Q0B5Oot8CWYEgvPuNjDSHaao5+1gbzAGRNFI8TdcgEvQAAAMMBn9dqQn8GroMlgpSeV1FnCH4yoARqgDKaCKBxPrTc92bZhLrft8s1clnP1wv7UUUjTH+Rxi0nhGtSplKHBwtlBjmVAeHuj+fvaTn6GexcfcsQ5pLNXBtJ1wF/QblNw/7JXP+5A31CnmgVR1PYPGCdigOHUHMwG4WHPUx4FDN4hE5Wi8XnnlcA8yACIpw+4oSguWhqqwtjeJBwcp8Aay+m2RnauVlq+Lc/qVFuaLhpGBGadjGxSIopqzQivSuYhMkgEvEAAAE4QZvcSahBbJlMCG///qeEAAK17wlvBT2kxvRiDqhABYK1mv16ekp8HQLkvhqeNwrTjgfTljfbXE2Bn+ny9EYdjDtU609+6MMGVTg5vhhiXNvS6SKvf7wwpln4gFJeEc9XUAiUFisxAyMWZ60d20dra2Z8kdrVlGyV/m8F/UNbUqlH5VHHhEACnuL/HhG2HeLhormUkOVJ8sspGki5rJRw7wf2UaxGzdEGMufUwGXUy+NwTvJd2u6slHa9qPIA0HiL/aFpZB6fvrcE7WEA8OKlLoA0+mrLFHgFnm9TBx3AAyo8Q+DTNJQ7bDXzmaYxkTP3pQnTd1/GVCLNuMmtLUcTG3nX/Bleso7qJqZpM76/O/B5wrJHb2+7z9IGqi9kBR3HErszW7qkQ1LLLAUj8Sxpfn2aGWFGQLKAAAAA/UGf+kUVLCv/BXkDeixdHSDcew80qyER3+ZEpnp3kkCpQ7++wAJEs1+Kh686JzDfQz/6fK1fUI34czwloJ/E/3iVQKCGCkv77QI76PBx4vorokNbC53e30MUtRHMxGI1R4Y60OPct1ABgwNdlV9iXgeA+8c442gEbUwOEMOEydQtT5loYksycR2lTUK0z1c+En9OhLmliTzKbgfYHs6lp6lnxUsf0bX7iUzElszyqYmTyOt7BDtIC4w4oz8eDER8JexLu1jwQTtcSOnZh6Q8wtNS68Z9dR8Uqpv8PMbFzVf737TArMPHx4MNuxgbolVNc5pY0HNdbrXsqwgQHTEAAADEAZ4ZdEJ/BqdxJYAokO15VJGIk0ck/S46ybJf6beMPADbI+bqweWhCHn+bKSEz/IlQJbi9metZXWhqw2nS/259p85ZnP7YEkT9ko7nK18fRHnIcK4LNmAeDMx7DLjiFNL3CroA5OOxlHoRsoGl67ju331SxLkYi+AxS65LnUbWWk8i+0V2U06ENXDX1sk/SqJXpug/+qxLlaE6YJpe0QPLXE92lavejK+nXZYa3SbqLel6fgaKctw4wkY8NRG7r9vxfQH+AAAALkBnhtqQn8GroMlgpSeV1FmGemEHs0r2uBXAQAbXfNmyzfKMInEFa2Svp1xFwU25WsQoeuDSzEddhoGKBE4YLBlpjGBRm/35MNfy1LULAYYfiUWZYmkvYQ0ZaMHalxfiiQVJoLFu6RhCPg2T54Gozhz1n/qQEri6puBMkYjDc9HD0+I3iveOG8xeexfU7tjUCNjBrjtnXwq72GFQl30qFUQQ1s8eoklnktMkTQqRP/ANhwndxV0JeAsuQAAAR5BmgBJqEFsmUwIb//+p4QAAT/mWf0d45OUci5K0J/Du+AB8AfkSAgAA184Oi+C/xC45m2BET9J0cmaIcEKWTs5WwW/wN+oPvEgxw78sRDFExZ4VdrgpEXc38nuU0wx1YVVO4iEKsNQHzJ1hni8D3ksyzccWhi8Rlz2gBATFjSaZ2ajYVzoMjLkOt5D1xFD2SIsDCICVdEs1WCZZEXRVim4nu1WeVQnYaqIqGH3IlnnnJpKQagHQMBHimjC34HFmUfHo+zuwG1Bp1QIvK5S1rq4uGXWXVzVA/RVwPUonnyTTm+edDhGnQllpvnePn3xYejQmnWAU/YNbDlh/XyeRT+6g5P1HNEw4PDR6l6/2Eax85orcwY9MlGAUM6csiFJAAAA2EGePkUVLCv/BXkDeixdHSDcew80qns2TNQAsE6vsGrV2+wSidpT3LxqK5eBMj4NLQncd9HGmmH17XHCrWc3CO73/0T4bZKVEDCxzQISFaJAuyQPxi7ESx+ZoWVnHWfNDgNLmFE9X0NEhR1z3k6a6GYH8ehY5WHbajEp0gW60nUzIGcJvpopT7NAZRlTMbduhq9znKwUWS2vBZhqGCMaEb+IqsiYbJW4EoT7VhQ6ich2fcnmRB6UYB/zypDS+yjgRTxGJ6gdl8zr/uFURkDTjiHM5UEY0gBJwAAAALcBnl10Qn8Gp3ElgCiQ7XlTNF0JgAdI5wNCfNjhhNWqjeH2CmJ3HLuDTK+qmF8Tfhtb0dduhU1G56/1L3hNzKhWarzUStLwun2v6axysAq64DekPGmCtlSj3ARdyfZgwfFGRzT0qlTyVINuDA0oqX8CZokUfoge5Bo//qeqVYMN2NZYGYiGz06J/V3Z8QVJozWc44dPFUqT7gKsHpTRxjhzZIjenxp6eA7g/ymiKBagXaFjgjKIi4AAAADGAZ5fakJ/Bq6DJYKUnldRZlhsogCg2XWQ8Yv02aL8jQYRmK9x3as5wMSMWz+92pJsHxI/b/LuKkWUABHm6rrs7QfmrpTNmXrpXLMtNnh5sw820rKHg0GjHYjlQ2INw4N283O+XhBt1L6mDhVyFJr17Os76qI3/kz7t1Y6WRs/ywZu7V5IIS9w2DyvLp+UyiD6naAumy7aeRBv9SS+7yOY7ax9qbTHleGF6eUkOCFhulRapf620cHw1tboVo5c0uGW3b4H0A7pAAABNUGaREmoQWyZTAhv//6nhAABDuQfCF6WAAjK5CP9vFh/u2/XgMJehI1AF7U4p52CfBgHNHpa2sg1opusYfq22jIk6Vv5Qj6tvwC8ohVo5gYzkc3CPzwKaEniJeQ27gPYGV5ud04664u1CxEZ5dN+t2KMYRfhG8/14wz4O33khw1PYoZHo1IIHF1xJeX4o6fzhaVLNJR/fzV+ONUq/a2sdIX0WrwqzZeDAEhFsVHWpKXJVVSFgYbRINdOnAE3vbcYr3zbPhgPwIQFJetisMB5HH/PbJ2FoueP8uyyAyR5qIFD1l9/m0RIIW2ghCLhL6hYpYFK9A89vWx3lUfIR8dIch0d6mHgCFF3LZRupKLVoUt5nFjxufYZ8UlVx/Evm+0ISvWi5ieIdxfFrmDl9OshVIYkUcBvQAAAAPNBnmJFFSwr/wV5A3osXR0g3HsPNKp6/ee0yM2admE3CK/2AHHtOu1qDeX9p8FJfgxk0ORPzZixYa6a/EI0dKtDzxjxVvmJ2NFS/yBzHgkxt0j/TDMjAtrpa6QbVXVj1Kr8QxWbUSam6g4tpu4GBdhwUOG7gFsPtdSZVCJpJMY2EhfV1pgbzprz37kRKGrNXnJs/ZuhQ1CNK05nLygY24lpyr6fMrkaJJ5UexaBgYzUYXojGIxLznubooyygmeHMLZbAdL8D7DetvXqFfzXcVEtYfB3BxXGtH7RHVIdyIVH8OYGAIImY7t7erwwYatKDggACykAAADSAZ6BdEJ/BqdxJYAokO15U5ihJd/ggAcozlXsu4LeHA7fJM88SwM51ar5+84utpR7ZY8wBSLH4FNRJToEsFrGodUV1uBPrzEZKEZzvJLbvIiz6EV0AoYhHLjnaFqQxqJlzGtaxabuAKwoBpnS0pRG09XDP0PmDRCBsM+rXKU1G0jWrWhrjf8whwdW9AePpSQvMiwUTfhDsGRJvZ/87dswYy6X5SjQP1i85R+a8FBXC8PtImhz+ER5DVjThtAtyxRIB0cex9UnAEs2vV6W+huigOqAAAAAuwGeg2pCfwaugyWClJ5XUWZXs7YXeypuQAWCc1eJ+Hcag/boTMti/qZXTrknhqqt7M+0vMUxPLNR8eRNSQU/PCkwI8PjQIutsAzk5MKEIC0jeJ6ZKxyFQsMGLbz+97UCplLNzPauYqmiSyQGRfor/K3U5CNBAVoU3B+d9uFrcLft9mztZHlc/Ke0ABvd3aPTan/lTlqscz12oCRAOkLijiBPuIcHccZp3uPagZxJhc7dXwixF53hUBvYA5sAAAFXQZqISahBbJlMCG///qeEAAEO+RsMvXhTA46gBbp/Uu6ccDRq64iK3X3pS+w+qwM3Hf43Uek+0iiIjDnMoj5oLsKQTlvXxqKuDHCLXt5HPzLzekKvKm0BVwSKKcWjhh5+0S4CRl1+e6scE1BJXiwUhVtlwaua9BV4841aMi8GzYunlDDXjAD7rUNX6L0mVrvKTjn0u851uDdZb4U/2iv05CBcblb16JV+4SGhGvd9Ty8Q72utLebiP7Pr7Qrp0QURV8syjczGyATj3DNf8kNela2etM3mDwlUL6U45y42V+tEdZqShKPsUFAVYc+PouQfj6Ux9tZItq7hhjxm1fsgX+h2yxIHrvK2i7/icQNRv+83Td7R2dZjabbrc8V7uLg3YQom0bxqWHV3/BoBGKFWipcFIbrtP8pVZ6jOwk/ztVBO9J65NBqAv9B6C91j77SesYIIMW4DmwAAAPdBnqZFFSwr/wV5A3osXR0g3HsPNKo0R/MviAKKodXjnzboo+ES07iGKMD2M9+pS17Sf+DGFXTykvQPa5HGK61sH+MWBMSCF2kiMFtggQULn2EhLjYeiSdNVuzOg7EUmorfoaPtL/lZRjoYeC64BrX5MdK07Y2aybn+v957jKf1F1uy2bgLprgUTnRpJpgTLfuDgGR8B0WnGzSsxm+OjLOx5xiVRxP/UVujEW1rRcGwlnPTgSWt5QTxIMbXrgppsaKfaO9t5VbbrRDMZ9LNVL8tyc6rVSFrNnVykueABq6dZn7K73L/naqEI5LuJN3HfcNQ0wMq4AEPAAAA3gGexXRCfwancSWAKJDteVOF5RxuCRI3gDmHGgs3X3ewGfVYmcPMsh8LDmUGi+NhHKINrndoPqED2YdGFD0QaTSXDQ9MjjjgxIswl3iHLrH8IjGjNC7vURjAfL1cuOQRySJbxYupqiojZz2h5rgYWuI7gx90utR3lYecH0YFQICdDeZOInKQr1qbV0u3IPsk+rbF6Y4filkwDwbsr0JjBm77SEvJqh1WgOiyN+negs/uXfje5rPOEM04sj61DhoJlXEa6eyz/E5kJCuRRqHg5kgMgojT8ZuE4gM9ajAHXQAAAMkBnsdqQn8GroMlgpSeV1FmS3JBKZS7gCt+IMcqkmwZB0ZgyOKStoX4+bepK55iTFhkA28aRMpL/bgYb7+MEzbQAPPHM4omX8wD72/djuC0qlIr7c2ZU2xSQbv7D7MclUPw1rCJM7u9tXsdT2fEOMESuYfD6SLYc5QnKppf2UEZ1ovA+D3EsDJtFyv74XNrAGl7uW8r8bV9X4PKWXkKW5Fm/lOHXWi3BUJO0bY5Y0T77P+RJiVZsMvnUWr7OE+CWgD8im1SXgcE58AAAAEVQZrMSahBbJlMCG///qeEAAB/fm3Y7D1ZDkZghuTjGEbF/DtL70Sgc0B7jxKJt4sw7JC0I+i8NWOjBdKMolWspQviWdI9F7TYdOUUX1js5IFN31qNjzARHg3qSDD8KuT+V3aCAmhHhvr9qltQkX/K/NyVwq1pHrabAI6esaSJ8EQ0xRiPpEuSFy8JoiK7ZUeT8+/wS2bQSx4Biu48VLSRlRoTAH5V0DI8ArdA+tzQ1ujSD8cnLNXFyEPsKYXabAtIpg1G4Ulr3+bkTa0aUysL6mjlzccPdtIK89NIPVQ9VGJad8ybwW5USDkz8Lh104r8cSh2RB9wUftFj2MPRz5APd/f3hVX4YLr3FfF2tnZbyGit+DdywAAAMpBnupFFSwr/wV5A3osXR0g3HsPNKodf5XNXligC3qdvkxuzIAfTXeD1Nb83XmOEeCIbcdsH6iddzrSZLffjx6TIdRUjycTkqhNh4Ypj2r0CxelKfP8EKqP3WbTKwGojgkwcDEsXz04M+dmwRkyhgvIbCYp5DyfkZlVdpDVirb/Z2bkMEgYajaZVFPmy2wC4B6LXHRHJz63QtPHXRsfB/rBehxJFnuWNubo3o7JHQatlm3jxHwGPybBuRULnk/5it9/jD7glIhSAPSBAAAAxAGfCXRCfwancSWAKJDteVNi8z5r9Qgd9eCPSGJaDIARVg4v7Vh9jjvifQh9BPoqmGp1albwGCFX9xeOANt9/AIZp82OR9/crRYj2/oyU1L/2Uu2zuorNjO56CJNtnzDN7rRgm4yva9mvxxQoE2BDI4p2ZrJ7k3LN+2m4Fi4NlGpvIJPDVKjNAdZjWHC0O6RxDI/T7S4UvWovJVQHhzfQNXZlE23qJaNm0h8vMsWfb53lypq6rjvpnyJRPUmYeFCCe5IRcAAAADWAZ8LakJ/Bq6DJYKUnldRZjiTzLQsscSv1AFam4Gmlu+kv9F1oXcu7TWnioz/1AitEkQKN22Vk3o5UCywFmWBNXiQS20PJcbWQwN6z7V5tzaIaux7qEa2Ezuk+5jb97LU2SrAo8UzuxNI10uCDlpuPxmy6HlnLh3q9TAXbPYBWViVfQ3Gko5ZrH3UaxewPoqFJ2BxltprhXaIL7sOrlAtVtnSsFPJVdV/Kh+LRAfsIwRIQfaqSdXTRoG2BTwU48O0OByhCElZWYNaZWOPErSDhXtytwwS8AAAAP1BmxBJqEFsmUwIb//+p4QAAHc4TzW84vi1J26iMboade/T2ZIW4AFtIP5yFkPwrKZS2tjzS2G4cW1Wfmy0UxC7AcQNPTTm5KO8ji59S1VkTXjPRVq+RlVE3IK+QWZxTiDy+oH+k4CEOIT8C+aZfCHIivPCES+PP/erWr0wqW0j77+jIe9wCXXZe5SeIBscXrLMimowiJULtMBud6VzSTTqLR0BxiUCWYKuy2H0gE2luBegCouJqn1tsg6++3Q71Br6XI036d7tRXxZThfZ/FV3NvsBXbJPpOgI+Wj6JyebpW0jZOh4U3pGcr7OkMX6l0N4k4l1fM1poY3TKGfBAAAAsEGfLkUVLCv/BXkDeixdHSDcew80qhvPlX/3vQvkYLfpL7wQAWuegipg60/gALWcwOHpk8CMa2u5iBc0un/f+DityxtVYpWNEc/hu4ORkvjZQlOz4IexwQxW945eINE2r6jLJSD1U2yR0t82pUzq/87qC47dPTzkAoOoILhRVaTtoYo5Erj9cUNPOme9N/0ZKZRWiv0vxRZTlwJTGHeuTePuIRzCxQlfgHBfSCMrAAalAAAArAGfTXRCfwancSWAKJDteVNgdDV8oImACMCLwO9ir2Cq3cJlSuIewaPEFIFHaHhGfe9u1qXg9C+D0tlVN+af4uX39AO/ti6nKbrTN8CxCQyxzkQKnLKQDe1/g614q8nDIvW9ufQAJqZ2gQTDxVVivtcB2WUQT7kxsGaFfJUFOtBk/XQk3z0D1B1gywlDy5CaBbCpKjq5wG6Ap7+2PI3ugPE7jKsmEoaLc1Bz4u8AAADFAZ9PakJ/Bq6DJYKUnldRZjcKekxLAALA1NKuxihWuK4pJhgib4Qmk466xR2t9vys+IZsgqON7QwYEs4H5i9RXaMlBhGU0IQnscxG9i595cxUx9QaTm8A6xwRRnIwlrWJECvfLUry6uYJnIDWIRzEJrs2qeJALSoEQVeSXTBCaO0G2OOWT8qIKefI1p5e90Mt2z9HJj1P0ko85XcYrObyr8G9FUj1Jofhhft2evRgmOmNkA4MhmpbNFK5PFNqmuUjlRG/YRcAAAEZQZtUSahBbJlMCG///qeEAABifZUXy8m6r7NJQACdaz/+g7dBsoOGn6Nfi7v3bTLurpr2k2LQRHzwBKZ4WI3uwD1mNPEWnqdTxcVzYwnKjLAyedQFLuGGyBTEEHc+72sI8SGfg9/hrDXJ1gFaGg70LBTTjtIV+LugJSJZZNQ70b1E+EyG9bMtRdn9F1o9RxNBWW5gakj+nNneX4i3HmZhnlfKI+vG7EgR7MR5UcTfxtG35W2PkxuC6toi1xdhPbrFm5+WA08c6N9AIjyoCoqb0nmEFZ3S7+Vf7009RAFgr5z8lAmA2qbs4CgwoD471fMY5Q98U8QTW13we9I82MCz/+T5KPMUTDgRAE17/XZkYVxE1Phmd6KAAYEAAACnQZ9yRRUsK/8FeQN6LF0dINx7DzSqG88NgmrAC+yILKxABxsqsX8zaUDtA2ALbhdavyoJYAJL+Bb9anprRjbsDChHzuRECZ3k6hLcbujvpDqJuKnEF9hYIzgAjizW5y9+wB3YBHhY1smwrXY4Fe5oCT2JefcMj5QFNzrV3PPFMwWxDgjPUjf1C+6REeWntZlFMRFjXUky3wg/qI1jqbsWPMBTwBcADKkAAADYAZ+RdEJ/BqdxJYAokO15U2B2Efskj2TSmLwimE3CK6AAFs8t+tp42EVGBx0fRvUL7eWjGnXHRWLVlcbmlMdYT0/Lymi3ZX6187xS6vpe2MZCAhM3G89HKoA/79muyYTrj/ekLCzsEYeVFDCWiyL8gpg7Zh99IIxygSkLpEYBio8B3ZTj9muPyZstGNw7Pcves+AA2+xOlwrPeQFSQn1nbaOZiiOVDUuAMyyedF+jhfmezV2DlkNIF+PA4Nzj3Pc9IqfngHquFL6v4PfupZewPPQuG0gxsYTsAAAArwGfk2pCfwaugyWClJ5XUWY3ChMDAJErC0+auUgBYfKtcwIlAeXquVNHDjVUtHrh2rFzGI5vob6+dK8zH0ZWFOvkf9nzlDQx7IaiKmqIKQqk6WRVE7b2rqKYfxcx6lfg+sCvN0haeGt5V65xEqWPidzxBgIl+Foqy9+e2NBEdj2+g0qWnE78SBBqPO/YiPNGcQ3V+88PFMh2lzmxorBqPxzrDD6SbbXqZ9dlvucY7oAAAAERQZuYSahBbJlMCG///qeEAAAzvsqWyLtR1Ps1Gti5drEPa7rrOKyFk87ZfRzB4rA3IWl0+U8d/34J6fuOrTU9gGtbu/PQyH5rr4yrOpDVvJUp7Pm/VsjKwaDxSzQ1YGMfEt75aJnIDzgladC7GAinMwsCBEpWbxNd98Z5I3w52QnD/H7zbpnnYFAZoFT4tKgJJWgzPekkOx+UH7H4CQcGeeFxm49BNDLvViAneCEeivFQPciwbnUgm+sTKl7saQt6hJmZ6qPzIQq4VM0sRLsHAcfQopXw5ejOd94UoSuxFbr/t1msCqEXwtea9P3U6K5hTu9EppCGrEoO8kMp0kqTEyzU6ne0Y1H1tGPbeBAdIsuBAAAAqUGftkUVLCv/BXkDeixdHSDcew80qhvO4Sj9fPJY31cHTTEG1bbMe1zUuXPfHAFA/UFWUALeA5opjDzkyD/8bI2a8E1l037uGng3domraiXv7t03XJu8PSfQ7Zc3ebofn4BxbGVJnLQbUJJu6rloogaxm2Q4ig46A2EerJwLV4PKKkT9932LG0nWUEcL2uXuej4x36ymoE2NMBdLG8Hxe0d4P/Yea5AALaAAAACgAZ/VdEJ/BqdxJYAokO15U2B1av9+UAcmGNzizI6v0YfZQzDuNMeA02QLlb7GBn1T/JDvZL5RNVP58GBuTRUwoL0FvXW3vjaXjoHR1XyJ8sP/c9D5V6W4DBFs+WK80GjgXu17OskwT+k45RdLrejokNy8xYe7yzAx++3ZJ+WjY5EXq8kE4+/wtjsBrRVHCeI5vLPhbdqJOJlnDjFnWF8LKQAAAJEBn9dqQn8GroMlgpSeV1FmNwoS/zWoqrwDWY8JW/ESJd36QQ747NNAKDzv+AgAuIzmxl48Ybr2cevpINjRbaDLn+fAa1kkIfn0aC6wB52yRdILbFskI/sVkrRsxg9GdzqqbALwmhmw8W4m/jmWhk7ExfHqavMc/MgX2Uv3AWnTntCrXb0wdAJfNw6S4d8uBYb1AAAAj0Gb3EmoQWyZTAhv//6nhAAALZzLtME3C4Z4FnTsAVxFheMJpzRbX7iu/Y80odcY6PMhGVO7yYQrRIpvb3qN7LjVBkJFp0TZQHvuGDf5YOwzCCMPZaEmRgQdKToPeGxfq8ahW+h0I8+z5aJf83DIdxGh8dxZbsy7OWZ8dnoy01jxpDh7Izvrx8MUWdvfAJ6oAAAAZ0Gf+kUVLCv/BXkDeixdHSDcew80qhvO4SeQiLfqPiYrwF14K+Y36W1gq0czS78i7vASaluaa5HlsgveF6rD3MoulJgBx69EcaTJ7e15PRksvKcJuK+jtSQTraLj4HihzhyY+rbwAqcAAABsAZ4ZdEJ/BqdxJYAokO15U2B1af+vnoDzK9nPD859IRdCEivvftNrF618JqMHKpdhf+6UwBOVC4AjJ5hnNJZxNHzncpBBXLl9ZD98mjqTKfsb384b/+3PMkG/0UR/5/5ESgYZ6dcSvuvVcAwIAAAAcgGeG2pCfwaugyWClJ5XUWY3ChL+/4Tdj0RGSsW94lXSKTbDN4GWmmYA5CHSh+94+aYEjNF9T7ac6VEpTYjnXU4oAtYeLLbRqzfA7UgZtGVEwAMOlbCqcsz4ajjkgifUqfiZuMwr4w4YaGV2cvLIeLgPmQAAAMlBmgBJqEFsmUwIb//+p4QAABDT+4NxAGb4S0rSd2+BhJDyMnpw6tHuoQPL/wNMN1mZj7oY+GmAEBwRb51LVK/EDsl4OOJZPP8KhGqKKcCsNgcvM8bPwGocMTxss+5wgNeE+z0kli+AMJOOpBDmAR6axkXX1pciW2xs/gfRyZfmwpppcCXfGMLkkpIGf4c1RHRwcK7snQij/jN+QEGsYzAcTxZGf4lsC4+CZlz+3c3jYTnEU3hT3ha6D23B6EPt4U4sjehL48Audi0AAACCQZ4+RRUsK/8FeQN6LF0dINx7DzSqG87hJ4+eolmOTsFxq7tCXLvRt2A3RdZzRoL+EWoAR2pzGmemvNLMeklnZBou5yyxZ56bKr1CFPRrS8NeWTA44Lcx4F7i1ArjiLz3/qKQyc0tdqfMZ5SY40QvU00osvVads/IOolpcjYHZXgDZgAAAGsBnl10Qn8Gp3ElgCiQ7XlTYHVp/w/TJpjwR6OuWn5v0dBSLQxFoAEqR+Fkjp7UElZ5lcyHL0fWuwNdEbWnCe6dPdcbqv7/ggT+JMlW6Vwixcyswn8BP40uygp5P7fjOtblcgtMRMKa1faE7AAAAIkBnl9qQn8GroMlgpSeV1FmNwoS/zSoqbA0rbtd4e9HL37c4Tp6vSQwmiAC6jptRABvgNaW/UcInC1uSm4CkIHMWyAXPKK3x1ZZLI3G7ETo/HPAcHklDXS4pE7yQGdkA1yN84inRvw7qsjBgrvNf7arv50loB3lmkCJ4K2SUYzmI0T2Yuu2WcwZUQAAALBBmkRJqEFsmUwIb//+p4QAABDVX2GQk6nMW44gCA3GwzErHSd2HRKWemmoXUn3AWgbqmG3bTAfGNEaMLyZYwvHfUIWoWaivc1B2g53TcceJCdSfVvbUCgeFW2C7yE9+FFXtUmKzcBGS2uzHAVdZUX5TbafzD84JywL+815U3mFwO5J1eMpJf+KOf7AUhFvcVqlAdA2hyiuwZP4s12Pnh2FJBIBx9UaZPbhI2/Jth3SpgAAAItBnmJFFSwr/wV5A3osXR0g3HsPNKobzuEnjp8IVa+jevsHF5t9x1Uh47dLLGkoNaj8z/HXMAJatK2X2Q8hYhhbBme59FpBcUcrYu7RedBSk8e0k0nE1BSIbYvEqoUov8dT5PKZ6FUW2o9qSSo7/Tj915Q/pz38cpa9jZ+OVI/a81XMtw8MRZpAcAbdAAAAdwGegXRCfwancSWAKJDteVNgdWn/ru23CVni9qFRFlS4teJ9SmPTCY89r+u1nABx7Pze3zv/aZ/9pQzjvdcRtaQh+AFpptgLqMwEs/g83NVO0nBsXURNalU542rPdzDbpUySrwSzapQy9JwaAINgHZXkw5aDpG2AAAAAZwGeg2pCfwaugyWClJ5XUWY3ChL/NKipaywQ/wfqheZJCWtwCFUwSUjkatvABa6MstRVxQkg9se8it1H+UF3sowK44IFlQm7jOjd0FgpDo9QuYpPVCHdy6Y2loNgGc8pUGVEPDxGHdEAAAFTQZqISahBbJlMCG///qeEAAAQ1Ke4ySIvrNeMyHO3p1FEIWR1s3XPoBdoRANABCOLU/JzeyI0QPDcsSmshverz9dt9Yy496hvvxXTl+NhBGG7dKhCbV3IRwJX95EhEAPLI4Aa7ZndFp+QI6W4XIjdQ+5xyIHtGrz818XAlxrQ2uZuQ6p+QmrGWfVpboQgAuqXFz5gnCbLSDivcGtdCtf4kkVeZXwioPaz7Hv88nRCUYVr3fnY9FUnBdAAjVKUwLS8wu95mGQA6XfaBrPXTyFSpZTnAHRBSFFdKTQbFaxVNVZPyfYzBnIAV4f+RcoD3Ee675GsBLJsXDHEt1TS5UIKd50a719NBuuDsSI7yWGy2226UCaRusFmZn/VemfUfep6wuRg3RvQBDMUs8NxkJ0Xg0IZOyiUkmOeTLZJXxiTjV7J/vbWBnGAJCXD0zbVzhTgE3ahAAAAykGepkUVLCv/BXkDeixdHSDcew80qhvO4SeOnwhKMPmX2c+2Iq2HX3/cvQAqtIkQwiGtZ9F3EL8Jr2ugKly3h2C9qmmFzYc7k4fx1HnN3kdBchUHxhBN4hBCyd/rXRANxpX7Kue/Eaxu44X+El05FMupNsJK+8CUKT/jxAzBZq5bNrPNzBWZ5Dd/uVwBHtp7nCgSplSqZB7Lix1cqWTFmciqSE+h094dMKrtTdUbuDVEFLIZTm1KEC+bkU07WQ1VqzLZWGoYnGPfHHEAAAB0AZ7FdEJ/BqdxJYAokO15U2B1af+u7bYDoejNf1RanQx2nRcwriobUHBLjAgA97gWJHX0I7rmZMZ3u+qOoBEKs3speUHahW7DuvQpfQePWqh+zkFWUzFne0br1gM3XgKVirQaR71oSWCbrdPNPS0gWx/8vbEAAACpAZ7HakJ/Bq6DJYKUnldRZjcKEv80qKlrDqh4dlEfqU5pEALDLZ93X4zbkbX095+47Q39V9296ZfzFoe23vwrDLff0gwNrXj0ZodsZmHm0afq0a4U5fC9XBnFzQzTCp+6IjjjRWfRsOBoDILty2o4A3EkUjaUVTcImm/uT4RpeHiocZ7d6er3PGmwCqHj7shVcOzjQSkCXyUla3+YaPiiDIiql/WlyEcPSAAAARxBmsxJqEFsmUwIb//+p4QAABDum9pgm4XD9dBIGm1/kuckgCJP9tKMTA7vvuutrwDmGcL8UnTaG2zuiaLGo5fWcnKSVYbXWQM3its58m7iTSH1/IhvfJ8dz0MyTSSe8ApkbPDs4gmDAzjoE/F7wNAkx/mFAodppjIqZlTKxc/mqTDJMYV/S6DG9YdWhvWbwNkYYVrhvHO7X2ogCt6ffpY0ly+ghTVHi75DrVnul2DQgkV/EsNDOSJ6Ej9pcVRspGxJ45uhVR+zVkKXsu2cQ8QNQPYVebBYdtub/pdhtcmO/mav1SsLGz6EhVkT3cFCjszK/8V3FUrZMJrrF14rkIeN0ZYZ8migGzmKCtgXV2IqWGYuVvRc8eHS37SjcAAAAOFBnupFFSwr/wV5A3osXR0g3HsPNKobzuEnjp8ITUidREqcuFACL4nFWqztURbEb7dPsKJN2Hsrsvekh+bD4QnJpkScna+rrZgkaR0Epye927hHcXRK0a7yz6AtCAC6QIlId7wXDChbi1qV6Khaivvae76gwKeXSxwbt8YY2iAtjIN7L5cH6z4yNb2n0ufL4FwZhEqwBkt2ArX8zpPQCaOpt9qlqVHEEC7UxH5OsH0DVj86SpD1Gw8HqCrKAF1PoFgfI6gjEfoXyH4KO5hN/o0BpSlRya28cfz0dZYbZE5kMqEAAAC6AZ8JdEJ/BqdxJYAokO15U2B1af+u7bZUltJYXK7EIoAVqXLx3sb2xq92oYUSfXl+mcFWoFLx8pUjxluUL4OA2OTTc6FfxbfshjeQRyaDtFsJZV5z/+fe0Sw0vz3qgZDWPGAPsAa/KvHY9g5Ospjye7NqJ4nb1hHZNowlrIhEsFg9I77opDGSUQSDhYPB+Oe0QwtlbZULMZpoiKFwlwBqWwmNYgaqhDojM6J3yft1G0eJcGvICo1v0MCAAAAAvwGfC2pCfwaugyWClJ5XUWY3ChL/NKiphIg8J7jTcYWxEd4AOVg4v7VjrRFQJq5hYFWP+UL9TglHRQMLMNhu1Z9CAWc4NPmhEuncOtQR0iJYlnfNUGfHfwCiGCkMnSJ5dZFlJgpSvVaaFM8A1eV5KZHhpnwWUAh4PfrSsqdGrq796Y3Y8N9A1rIIslH20Rcq7IPBPkqLk69d8WIFUCjwMq9F+D5uvS1c71A1b6XG2C5AFnDH5Imr/Soa1zmJQNSAAAABSkGbEEmoQWyZTAhv//6nhAAABr4yXAA65kXiYZY4ZJz7xWl6ROuSKcVNKD7pKazrF1Ugt0ygaZAgN51nydzifcI/Kl3BhKAg/iBDawSSPsZOhNtytQ009TVv5Fg7mbddWrnaK3cZ+g0KQVen3Mimbwj3IJjsUaK1M+RlSgWJhSvagVXlKfPCtfzq3abaErgp7W+yMp8OKjcZOJzzdN7KmPbo9AiJ4nKpCRAxohMjviNfMO5LaK1WvmqqKwtJkJsk7Ql8uDRqNNegKhzRHVA9VZcGcPl9kHsT6JWFIQ5PcSWT97F8Ao26+oBSgpcKYlJ9tvKQywfHKNgehi7FQrwHZVOaUIN7ypV8KoAzFwlL9r78bJiiVFjBfyUd2QQ0Sr5ME3j8Ol/piKizRfQPc0v5QwZ6sb/NIUMT9g6SYI75+WJ9QDHKCPs0r6BuqQAAANZBny5FFSwr/wV5A3osXR0g3HsPNKobzuEnjp8IH3sd803oNip0LtKfANzyPv/tcwA4xT4/C8RhANfc/GU3DdSNH0Rv3F8OUryPAwMMI667hi+TQ8irMqTGouFDfAGqFiRQDpLCY7X28w1MlW2FxNsngPbjcAqxaji7PVtO/8EBdR/aEJT2Dbkhj8S+675JBCVxtOdD1PfCj/1cIfAEhKLy09EiCW+/weqibAR55A1+ZfKQogz3VT/DIZc+sPo3Lf1wHlnlJlg/NZhUHeA4lKIRgL2iKHHBAAAAlQGfTXRCfwancSWAKJDteVNgdWn/ru2yYPKzTyBZcrz6nmdLcMTIARkdNh+CyYHJbJDZwxxoMJuGik2ZSqvuOpZdQjBwGlB+BKMWYs0dCjKG4V9atp2zDXsn4hldA8x2Mfxib/kxFrmH3yquXQ/c/sEJk3MV8zJPnu93cTPc9T9Db09rfTFRVKh+h4R9OfjJhzGyEEDBAAAAygGfT2pCfwaugyWClJ5XUWY3ChL/NKiom7ui2WrwAWhNvE3PO2P8+8w7rJPimNqVS50GjJ9JjiDD2H9FtJ/g0tD7OzJ4Yl8I6UxSXWvVWz/g83Ssc8tM2cW8pVmZ+Gvs9jICn3axotLCSi7r/X65SbGiyXb9s9aUJKGjXGc4hlnhl/JO+IBdFBFs3HukL8LRYroyQ2wqqbrSsZPvqfssn3intsie/E9bvTZg+jRzYikk4rDwg4E7MjqyzMXAAIfP39VO82rH/gGAh4AAAAEgQZtUSahBbJlMCG///qeEAAAHlIBIAFxCZcagb3LCeZsD6yr2GgvZmxjMNhldnYwJvhubul0h5vxv0zI+2sed+o1Zh81/6eFv3V0wu8XteZyXsdEmjCvLxMFEnNNYjdUuY71pzQkpbdCXpG145WuLg1LbIhKp1TXPfAxZp3tP0GzkaniPnZCP6d2sP90NRc5BCwJRJAgzifZ/aPOq9IkLy6HKa6ylxbOpTF3B12bgm9H2GL7MzyYVqM5Y6ZwWilq0MzqLQYF7svZLbKmKWwkjsvVP9nSNMhhNB5WyS6wU3FAYbmfj4uydETLKYO/y6AjeogmNcPVEqcn82Z3LWKgn9+rv8WjyDbCyTNuFqGyNgU4MYiwOLclwfZ2yuNMgkDP+AAAAnkGfckUVLCv/BXkDeixdHSDcew80qhvO4SeOnwgfe0eMKndgAbNfXGszmS0sjm5xZjrU5pYOU1r/Gi2gMTYxT05WYPKuw5cpvn0K/kiQiWvHfKaHC73ldg0vBqWlOZUTRkTFl+JUMPX+hq+1KCASrI9AIO4wCi5XKp9flHQpYBDTzS6ZfZckf2SXAISGW5nX/2ww1eSoP0q4ZPGlAEvBAAAApAGfkXRCfwancSWAKJDteVNgdWn/ru2yYPa9/ZZwAbNiY/VdB9QLNduiWFbLP14oMDRX0Uu6OiKNX+vgoj6Z5DpAuksgAb/R5ogytUFxcmHDLw3RM2W9RWWesOOcikCY9bSqV2rAhCp5RQNZiEZX/AzYruRt4WPH6930xD++WLDOu/RRV0GD1GYRFSdK29ATClMMnDJ8ElHVyHM3QePcKy1/gAWUAAAAmgGfk2pCfwaugyWClJ5XUWY3ChL/NKiom7zBSx7AHEM5tE2dEjXwUrSDolN5931uOpLA3WLeJ7JgIQIxmvp1xLOxmvV0jW5YfSyh7vc4KL8Qclwl6ywYHOKr0rSabZLQ684iKrt0j8Ea2zj3blYPU+I7olwXXERia1+uuXFTgIbKjum/GAJ55erWp1NKREVZtJFvtma3ZbOABhQAAADvQZuYSahBbJlMCG///qeEAAAHn9lSmrP4LM6ksEBnKc68FNH5CjCmSJXYgbFBdMURKYpLy1hFrAom5tCwCQHb7A1PNLqaF9G0vYDNa/GR8EfJrEvxXoiqdZdqaL9nlHRzESESDkT9Txsovrrn9ly+Bn0O7TXnlxMSmxVWhX3xWufYyrQ4QnO7mrfp2UQpN3MZZ/K94nFCUwR18F6G7vW1M5hAiteIU8clbHGVfs/XlOOGeS6oY9XDNgENNUCqWsY98zDP441pXfJcBTujo9FYv5lS5gKdBahTJ4XoRBVFJTiS2fJcY0MiL41TMPn8v+EAAACZQZ+2RRUsK/8FeQN6LF0dINx7DzSqG87hJ46fCB97SF4cSnQWcZib2ziwDdpthSLRrFMlx/9KoAQMj5tKQaCxfLfh1ya+T7Rk0zNYKRyQVNiKvG5bWo+2PNrwYNREIvuOZAEyudhfTyhv8H8aBwFnsHD0p+Q4M6K7C8JiSlVh+n/Fk/nuhv+HjtIeZElcNCLL/oCEsk9fGChgAAAAhgGf1XRCfwancSWAKJDteVNgdWn/ru2yYPnQYvfy7RzpYTABusTMxh4/O75wdxM/VBqQJpQuAtpwYeZ2PkD0DIpq46ph+6mW2CHA0mjCB7rORETfomJkLmKAcL9RlQ99lXYdJ4lT5xwoURkYqNJvGyT2CWiTQWcO6cyR1+6/97T/8rJCoAZ9AAAAXQGf12pCfwaugyWClJ5XUWY3ChL/NKiom7tNEqm9c9poEI4t4Owq0y8dX7P/gVIgY6IZozBuAL7QQ7nk82+7/K4mBYELzeJ8PDZVVVOPGcdchlJ4XFsCa/VtR8AS8QAAAINBm9xJqEFsmUwIb//+p4QAAAZ3hPM1gXdwzwKmBG4HnZ6aJChI0ifPFyQAcGYO9580dVZ5GnBljXCz7QbH7k35VeyefSPxnrY0jNR/22Qaiq+vfKFMFSMZerZ1Pi7H2cOHYUEt/STpJQZx+fNBV1Qkve0WL6J/ejWYya/3ZvyRGUZ3kAAAAINBn/pFFSwr/wV5A3osXR0g3HsPNKobzuEnjp8IH3sOtZgHUOPWJyoLUk0L22Es9FbVwfsNnrADdecDeK/ns7Mk6Hj+jGgdZIfQmj9QjLZRplvuG/1ast5+ey5u6wHBKO3EhvZdgSE0dWFrv9pRVEDp0SfhTZUaINteqe+alMYxKABnwQAAAIQBnhl0Qn8Gp3ElgCiQ7XlTYHVp/67tsmDyhuJQ2usAkYJeeIVXZoI//BgBmxP5ccbedAS1oQhHmyQkBcjmA/DNjon2OFZNqLkw4czHUhzcpOxGmUXpl1h6JGThEqOyr5Fy0GtDpRWJCl1GpqYsUILy2b/ltgXM006a+ddnqD8r8z8AjYAAAABwAZ4bakJ/Bq6DJYKUnldRZjcKEv80qKibteNEqu+xS/pKjbNJZuTysgBmsPcoBCs0FKCxGlgm0OERdSc87f0WaCw01t+SFDD+NwtjBlHSey8HpWwQyme0R1ZP08TMWXXEDlkclpvwyitK6fbHnQCHgQAAANhBmgBJqEFsmUwIb//+p4QAAAMCan9qiJ+ovOVzTe6ACwMwaTXDQ7tdtwCUBzZXdOww2NhN3CarYIE3myuJHFlLeaEZ2azcpm7SplCFpXOaFmSWV058/wnmjBnn9+xjgE+xq5ztSrFTKz95dYsDtjgHI5+Ra2x5qs9AwJAW8eXegHk/zf9GjqxjAvQuqUrr+hgMTNSIH12eAPkABjLseOIqjnKXzJss9cIzF3wQkBTrLkBFmGiXoC/XcyMKQTWgnsS7832si5Y+5zlkfq9GYQ2qUSADn+RezcEAAAB6QZ4+RRUsK/8FeQN6LF0dINx7DzSqG87hJ46fCB96SQF+nV46laXeJgw1ICgQ60MCOuWyzEvfgdb1gBI8V+gsz1SjXgnYFHUu6bUxYRqjlvLkcQh0kalx9OOuaUVDY9c002QK4y6SMTUiHs4tOIXJdgXp9Ky7NZYwBJwAAAB8AZ5ddEJ/BqdxJYAokO15U2B1af+u7bJg2OVejioSHD0vN5puFm2mWFsITk8ACgk7tEQUHqNnfXzLJ3ix8OFCgG7V1Ci/SJNA5Q6b0g1zt47ApWcim6smnfOPnQoW+AwuOjsfxIp4XJ8p+7Rg0BMCwOusPaMeaRvlY9oGzAAAAHsBnl9qQn8GroMlgpSeV1FmNwoS/zSoqJu140SrRnvB3PQO7/B3QuwJknWyCABHhcQ07R/RmkXjFs2iahMfQsCNgoWjDRynRT6ZWd5K6lfDEqJs7S0LkdEixdlLnFpJqyIafXWSFlhy32d41EuQyUY5lktPsFn0AowARcEAAAEWQZpESahBbJlMCG///qeEAAADAmpGnXeyAIlPhDN79iHMOxtGlHF4jnffp65tnZN8IL0OYkZqHuPhOXhx73qJ0G++f09KYYtz/slPOBFA0/Pn4D5TaRBHDlun3SsHWWBwEM8ylayUZd3rvAEwId27zu1P8z38sm2Sto9JxYejPQnjFn03OTbTaTLEWqJcNJnpI/brVokERx6bDWDAdo+muqncIrpXZM3Mql11MVrn9/BeD2OzXus0mfN1PiAJdmqMn+FRG1kDNoMnWUHvE7/riyCbkaY7DNaQxuJ79+G9mNhlJZMYjWPLAmrtZZgXDezWQYkI+fCqtqtoyLmSZSZSKWm895aqAEWH7kXm7VFophTNAAzSD8gAAACzQZ5iRRUsK/8FeQN6LF0dINx7DzSqG87hJ46fCB96SMw0oL4dBI90n6gEHP7L4e6aHoT0rACE566l+EKvUJCDHi8OKtsIYIUwh4p3ytbAfqAf7mSjJ8IX7a/hJQscARypglzC0fuigqQJq45ugAfNndlTLjJGI2TIh6LKj36fkpu17GuxOsNhR1j0ArtO4aFrqA7ihgvfSF+KHvm4weV+xH4A0o7qVxdeVkY7JrgaiDAA7oEAAABSAZ6BdEJ/BqdxJYAokO15U2B1af+u7bJg2OVeZ6pJsD89bgCs3jwe4inddhO7QDV7elVbL/7WyfIRW7USuLkmJ+YB/rVGKQYrkCM8N4E91IA0IAAAAHEBnoNqQn8GroMlgpSeV1FmNwoS/zSoqJu15Zml8GFI3WGhgi/XOrIY9p54SZiFlokXCADizR+h8/g2QDbYPDbXOo8ULjQ7XGH5R+Cat930JBXY2/mjzUgK1waLDtnnWtpEcHkEwrwL++FqJUHdJSgCBwAAAJpBmohJqEFsmUwIb//+p4QAAAMCaplpEghJqLV30OJYfGYrfVzS90A4yAIMu7EMiaGXMMtDMw/EOF7Fye5BfuKtVxscKtEiQa87v/x9wXr6WRQEI19kchdzSi06q/EcoAp37Hir0Ue/eOqwXTVFsYfM1PzG1IpuvdeCD2yBMwzFc80xQzmKBCmWaZLjpYd8E4K2+pjzfQVc+IPzAAAAhEGepkUVLCv/BXkDeixdHSDcew80qhvO4SeOnwgfekjMMz1HpOm2+y95gN73bWjI0WOXf8zAC0PrsdxTwX2auUaJd3pIraHrIriieAp6VUZ7y2otOWYH2EVrkFyy0QTyhUE047MP7in4boPdJITCiURGrJ0xqHFmk3pk56fdXH9yjJgB0wAAAF4BnsV0Qn8Gp3ElgCiQ7XlTYHVp/67tsmDY8XMtqxiDjZsw4eeJXLt05vAAJY7nKhcSwoTQiWuRc+bQVb6l3D72j9rjygeLwyic/gM4qNFYbLoTKxOBP4TY++uZaAEPAAAAjQGex2pCfwaugyWClJ5XUWY3ChL/NKiom7XjRKtGe6Gd8D1FSv8GH9asN0UtW70dACKhkhHUQ9zYgm55vviE2wGfhZqXfh7+yl5yRMolBvqIW6edF2tfXBCng4RH71lWn/00eQxdF0t1ijloZW0e49GuJGFc+RRmvh6phyVgVZ2qUlvBhgzvgtOzvAAwIAAAANxBmstJqEFsmUwIb//+p4QAAAMCbf3SI3VDUeYIx4MWH3i71LfYPTTlqhNgW52ROMGms8A7PB9c7zWkY3KDYzc61R035vGiJ/30j+HyMNFZkMdql7Xq9oRRRtYy9+Jk9Pi9uYX1ci4WufF4KMSnJZnZqjRoEfVb86jfM9Tw0MCPYz21TtTZkkZUNW7/HVk+y/mkpJ1GK5lKY+EDPfmRhmbEGXplSUPfRZ/3gRcD9azhtM1L1waBQiCn86tcfdZxG5IIBMKfVAof3iPAH4K5fI3f4dNZbzud8oIha8jYAAAAfkGe6UUVLCv/BXkDeixdHSDcew80qhvO4SeOnwgfekkKvy8G3EFXOzV0dIsjUJ1tLMYgYAF1Hz1D7qHUPOqmz3rEvV2YgV/P1HLQykjvTCD1wAFrBmgd4PbTtf9ik1fM4U1c8GcnHEWlUWSAMjnx3s+dmKPSK2SNtvaWQ8AJeQAAAGIBnwpqQn8GroMlgpSeV1FmNwoS/zSoqJu15Q4dTQmffNcWkosiMiWy6av+NYmx7qQ7/y5mcoAQ8AzxcJRah/ADqB+Up7MZKqJBbEP+N0CXoBRBnNIziBE8qYHOwG+EjmgrYAAAAQpBmw9JqEFsmUwIb//+p4QAAAMCXdN7UQVKBASveAG7INU1EvyFNrVFSDej2tz3WqmpJWV2p+Ni9TluqwQL4fgdvByrFTFPSbyoUfBA3DMf9+qSIxigNJ0VmbDG6GOiWJy/lps2STl7kw076fJzHmyqrfQ2KK2y9BRs2EMsrMNxRhmh1BIF6bA47/2ZMLaA3ehQ0qu9ZUSCrFm/yOI/eM6jaJDHwWvKeJk4gQpvhDDKGqFXGuLNVfFYFABg0M+sMBXiPtq81Hdd75r2iCMk/WX0lsEPBYUsxGo12YwkdKAc7cXBJ4OzLd3aPbI+ZZa9PqNlphn9Y+TWi4TIoIjcrOoVSM91Y2YdTXLPgAAAAItBny1FFSwr/wV5A3osXR0g3HsPNKobzuEnjp8IH3pCb93vQ3qb1j2VPgOsZ/7CYh9HplZGV8Vh7AADWHmD/ScDlo8bMRdyi8kvLCPZNYSfsYeP7kMquZuP01iATMTYB2pA5yuM3N0T+E6vFjjvXWRuUSSEJs6Og5qt7ED59w5lEptUwKVBrtkLACXhAAAAgAGfTHRCfwancSWAKJDteVNgdWn/ru2yYNNhpKbV8GbaPYNwAR7lMqff7aCNnmzRyiAbyV2rswve4a+sQFeA5FSXm098XrP1v7UUXYw98SmIKJwvbvhwYnOzxyJMBVw7nTI2olGpgvDNi+YSMt6YXqEFMhPu3gRlU2jehCzmIAE7AAAAlQGfTmpCfwaugyWClJ5XUWY3ChL/NKiom7S6aGAbtGFB2b+zF4MAJVC66eDetx/0B+ofvGjH78HRfg8YCsHHHAzdNLqDSkAkBXrHwkORAQSsCI+1CNZ+FcDHWL4640rtuWdTY1Q62kyqRKHoHqjdBOx9NuJ6D0UXZi8KB+nlVUVv+DpUCXSs2oMng5BFRLOfZNE2oLKBAAABOUGbU0moQWyZTAhv//6nhAAAAwDucJ5/cAHv3+ljHe/6TzOXLzjhrF+5Z/q96SJZwFZtbY1XE1gxqwBzCquitQkS4j0zdeBXhomfYzNDakTtJTtiZFiT4qB5rhtDJyWzAs8RskxKcVngobHrQ9VmMP4rZxNozsR98Ej6thZzMRl7PmnQ0sSJQQlbxLutwt+fwhVXyGmuSEUyIZW4ETNSmwychsSKRfbYrKrpX1gE0Kuin18GIadetxK2ujzNqi8tJr2/ygseEyFgZ+eCSkRepis1j0YMYtiE9m0bloIKd9ZfNOn9rUcejrpXVrrHXz4/smpyFuaOs51CfE9ybKL2MIJil52ZgQVyaHjoe5nChRif6upGXYHgG35xr5M+UWENZ+5unzA8vE6z7AR6C7yoa19l/my/+cwt8IAAAACZQZ9xRRUsK/8FeQN6LF0dINx7DzSqG87hJ46fCB96Qm/nBZdg4fYN4uRqPQ8C8A1TnTZoASgaaEU+v1wvjxY1hsZF9Jei47mexdHFzJvoUx++CM1dJcJ9gJrZBK/q/sXyHxMiAhUo+CDt0R3b4Pp6YfKKpIdOd3zngO1BYsltvgz8JBZMp7TDdVVSwotJXUarcFlEAiTAADugAAAAiAGfkHRCfwancSWAKJDteVNgdWn/ru2yYNNaVFhodUX3MIksYMArJEGeOBPJWNoYb6waV7wADpGfEtJYaVE8QHDifTZ/uEJuT5oB+7xTMpiR7cRbPWdPc/FDH3puqrKwidMfjS0xpDIXid+9mE3WMc3B5tWcZFKlORPr/qwbbzxEJj/S1VKAHTEAAAB1AZ+SakJ/Bq6DJYKUnldRZjcKEv80qKibtL4Krz3Xcfj2RKMBJdj8csgBZwfjfN01LfseNiSREcrUDeEBkvzKx8kM/2l2QubGWEefY957BErFmE69MgSndU/w0eydiZVlsCs37jweuJCMxmYUAmLXOd3KyAf4AAAA3UGbl0moQWyZTAhv//6nhAAAAwEG5B8jmrhwAmY+n1BR6/TBmFsbfWnYXHj841ANPVTIzUhYrYO8vyolhh4zTlhjMQETAHgGxUzOfHsV5Yatk8ejftkd2w5/43ArV1CBW3JIonvkyJe9X9rv5OTbEH9tq1BOrN2ycRoSS/9J26VvuFbYOW5rXKKFA5f6J5WoTvlwEX9GuDH08VWWFXB4kQH8AA21TwumbE7JDOP/KpEO2YEfEkiiuE7x072e4dF5PbABJD5kW47Ccf/UgGS6x/lJmMWYbkoNOL4Seh0wAAAAuUGftUUVLCv/BXkDeixdHSDcew80qhvO4SeOnwgfekJwNV9BvaAFXJZvHzj0kXRGVZbRCgr+okC6x5CeKWEAbd9uICs0y8FOqfWJOK6EWTmJyOktPNg+DL6eA38jd//XRL5J4TclpmKUULYW9Gj3AtfCMf9zMZFoPwsm4hXmPIQE9RrlpPNoLtfhSE4RNVCfMJ6EnXxcVAM84VFaTKGmAQ8LldLS1OE6h7cPN1P6fySRajcmFiUkADlhAAAAogGf1HRCfwancSWAKJDteVNgdWn/ru2yYNOgr8/7JkAGpHUP8sSve3A1DOUO/XNsGufW0nZ7wWo3WyKzs4gbrnWQhvpzBU3vVRP9JE1wCXKk3oXNheD99A5W4DqUxoKJGQg6sG2bIJdoay+szYZRHgbEGlIu/4hUx+AWmm9qpRxSCxXWWkKwza1z3JQ/cstacNfnNpRcMk5OTsvB+O7SvEAFlAAAAKkBn9ZqQn8GroMlgpSeV1FmNwoS/zSoqJu00gj4ccLxCdMAVbODxegkIpXuQKclR4X6xsgF/EbkWNd1mL3cGmrgqxZUHFLfGrMdfLdPMibN2n8LGoo0isB1lw6ceTNJa6HktsSoAywdOVjajqex4R0nb9Yjjekmp33GfX9WflZxI1LXFP/UHjYkA7F+q2AIduxG1JZ78FW1b3S0dwWizD0jcbvFuSSB3AE3AAAA00Gb20moQWyZTAhv//6nhAAAAwEG+RtPe04alz8gnrWY7D3ouLQBeZGamyFoa8he6k83Csf1pkLSVjLjQ0zJ+6HXDAwz8vMfm/x92/DQuqY3eu0x94LRuHH8DCALIcMnVI6GhpKPJAEDv+ROx3nAVpuFwBWlPnKBkoAAufZo2Uc3ZjbzJqM0C3DprGBZ/e4V3VnSbkwnSYThyGrNwIKcRH4t7JDfKMXD06aIsy0FPtvxJcMr408rxPS/shyjHV0GYqMfqU7eahqqiK9Dnp06K86IxMEAAACwQZ/5RRUsK/8FeQN6LF0dINx7DzSqG87hJ46fCB96QnA3AHhcYfgAR7ylyQ0bZjTaZbAa/bsHzYRorAxH81Tp2hioDwKZNFDI+XPckC0xCtxSP3oyM+iMP4b8np6oPfarTApNYdlwvhVbyTUDBR7o9LAXUuv9fdbWYWwmBS2uxDvoAduspfszI5BQOkwcBV/XDLmP/lvlufhxJf+RfrfpsjT5SYaNZtwnvnP1spgAE3AAAAB6AZ4YdEJ/BqdxJYAokO15U2B1af+u7bJg095PegC/roDbB2T1SEvdncvKZptgjL5pt5DFHiv62rNGZ4B8R/Zu2btwd+oYVebxEPHsV2Q8Usvl5aGDNrdd90baK05KBduE3vcrVcGelpmseNTEV+jekjp2x5fYs6rgAl8AAACAAZ4aakJ/Bq6DJYKUnldRZjcKEv80qKibtLpoXtsniIEo7HszX9MzwUAVNkDS4JlsdNmH4tK8NanXRDt8bn1V5cA7bjFth039Qvo5xBT1eu5ZuPYUOXR9BgXroLt1La+UyyVHG/rh+y4aroVVs4DYeEKuKMMYUZ5QrKnFd/ygAl4AAAEtQZofSahBbJlMCG///qeEAAADAOj7J1Wgk2qwAV4p9mcErzvQVb4ubtotHcKksOIUWUwu7vLw/rdUr5x9cUxLxzTlnCH6N3I6sU5aIMoEhPeut8yRziVFoZFbJEWWPrnrqrFY9mkRDLgf4AElwW9bXYSNksf+aRcvVaqVzM8sXXt4h50wJZYdEPMUjByfZyBLQmQisYXr19sYsm0ewz7mNfDd3KjBlpF52mQaGhm4rbIebbQud8/kMgmyLpVSBvuUcZHiq6nM+fwwrGB9hjk0P/AVlTJAOwyT8JatRKl32fVMoME9kREW+nXThc2OI8JTCHwPA6VUxipk6zYWhyadvc1zd/u+IxF16Q9sZhM/QdNKb4bSwjhzvVfCx2YqfBhulhQ/bAGflqL4/dTl4QAAAIlBnj1FFSwr/wV5A3osXR0g3HsPNKobzuEnjp8IH3pCb96DWR7h36cffIQBDH6gimZX/bBSBjLGkZLotnNoiQ3YcXpgvxJddld4C2zkWsabfaTcnn5UXtgYfdnl493QaroDvjAG7Y3tSIfOBGPjwLumn6xicsH5Cn6OjhoeJOZ74/AlOJ72c4BiwQAAAIgBnlx0Qn8Gp3ElgCiQ7XlTYHVp/67tsmDTYlYxsZNJnybIAbYbd5YATXa9JVGAbeTgx4iMlsN75Q46EUHhg4D+/oIHf23/EBf9esVyizij+D/yoeOuO0OFIpRKKpMQ+2NMvR6Wfb+vwZNYhe/751/9S23higw8erb7QUxsfK8UMyRpGThsAO6AAAAAfgGeXmpCfwaugyWClJ5XUWY3ChL/NKiom7S5wB6DhvyfQdmdex/jnGiNKpTdEj0WoATTjmICTqOuLviWhGld8kNidBoR5u8AvQgfyNAWc21HDMN0hJMuVK9bctfWEDLSd9PTf6MAMfIAPUzzGKbk7ywAAsQh/MNwHgC6JTABdwAAAQpBmkNJqEFsmUwIb//+p4QAAAMA43CeZ5ERguDiRyl9T2RTAAtoqOnXO1UPAuDNd45RzgRE7gZSj+XsmfsW3tCGidS9rgrLAyVRKbggQbHoA5YIVxYM2chhxuEhKqqFdyouzkaeR3Ul57XLmsKGNI9BKjcuaYPAwsPIKJu2OZv5NPNUYakiKMhjkFyTHB2Jd5tMwlNgDfqo7RGXBjawkaoNTxU1JMbO27GE9px7CTtYBlJj/qNKPda0eCDwQ5kOZxd9d4h4HpTamwSaMgo0k3kj8iDtwxCQwIjw+2fSGvb4zAztM1et9g46Ifxi467L02IYDhfgVQsttGt5wUF5S1IGGzbSfipleB8puQAAAL9BnmFFFSwr/wV5A3osXR0g3HsPNKobzuEnjp8IH3pCb8TNcvHPh6lAcCwBGlGM4XtSpVllISBBDxcuimSwfbVZIJgznpV+7Gg+sh9oOpoPTtIAY7BHca1LBYAPzLJK0O1sADJ8QUoM21M13xume8eBgTvCCdIAySKO3Xw6J09NWuFHHpbIahqowZNG/Xo1iPpDJrA0cgcrWZ4+1DE1BpKJsqUnYIKSoeYiVLvsU6Co8k+ycTMw2IzrxxO+XgAQcAAAAKYBnoB0Qn8Gp3ElgCiQ7XlTYHVp/67tsmDTSIHliUAXLKSVaz9H9whOURZOmLSJULylXlt5buMQzuv/dsBl/gOQJfE7mQtG0Ub4MRbKS2fJfmuZn/RtQhoqxb5Cf03RPkY82Nx4cDsUGaYlVD0wz0FPwCnIBuh03U8xt9IKp/Kbzvb3Qn2GFhk8jukcRcImd7HFTdvXIP25fL7BEXoUrAjaT5S6qAH/AAAAmwGegmpCfwaugyWClJ5XUWY3ChL/NKiom7SxFuEwe4HHlbACB5webMFIXX5kAyQt+yxgldD3Ek26a7aSbFhTF2idtdnz+ZhQOMxR+UFH5XpQFlV2CKH40egBe8anF61fduj0CuY3oQPu2iOS0JQGe/QDHHxhH8lEm6+zyfrENb0vkunZ4C/Wn4wXXSU02tqqZjNQokgot+j5ACigAAABBUGah0moQWyZTAhv//6nhAAAAwDjcJ5msE+zd0aUgWzvlHzgDk+o4+LRIAIxAdmsu8UMiGjuC9T0fyN3TO6i5ohBwV9oMit8xqTX8PC2VRtV12SbsOW99NL+zkHFAijzUG9KVpD4XCRXKZHXP/QJkvx6ECMr15PooII77xamImeP3vblgC0vqGi3K2cWlBJv+wNTqPexUUqrhaXO3N91Ef2VGQ/0cz7Gu4MapSS9+iAWMACZXqoy6v6F3vz9iNiuEuIU6xe4EVlQ6XHuPF80vQ4XeKYW47aCEBlDfS4rhcj2JZuNHout9sqp8mW8/15B4AsNUMWHiPvBrRSEDUhec25xmp4HewAAAKJBnqVFFSwr/wV5A3osXR0g3HsPNKobzuEnjp8IH3pCbeeW+s0FdqSFNPHbFasZ3ebD80AHGKIZqt4NbQt+vXJzGbUz3HHzJm1uO5UxdnDN/jV1VB5Oj6WsDHuXyRuw5ICq/EgF408ab6o79H5IiswsQb8DhNk+SH/SSBBeheBlp78CtK0+2oiqVCB4iP8GF9yMmhqOx3y+2FAsH8psME4ADGkAAACGAZ7EdEJ/BqdxJYAokO15U2B1af+u7bJg0Xx4QAG35SXm5mlZegqeOdvbPdLGUDQRdLdbQqdyxropLDVAp+H747kG0ja7dGCtEsr+wZWjtUmy6r78qgtiXjQbyYPZWxhY89a9W874//DlF66MJ5x+Pva7rWpmNFCNCZbfVQ7VSg9686BAooEAAACgAZ7GakJ/Bq6DJYKUnldRZjcKEv80qKibtEUhREKONOL9rl7lhrfAATVhempY7BbLUaWqW/lTdl9kVei2on5vUYs927PYCBwE0xnkKoUTk22+mv3Hn9+jz3RAZyWjzPOH3NxrtO8n/SY4aZcBQrb+PO2mZdxh6Aq38UI9aVI0xLDCdgm5mRz5qzl5TZwgvg6eLRExQQkdZ5sOoRe/b/QCZwAAAU9BmstJqEFsmUwIb//+p4QAAAMAWrbkgAXJrS5lzKAIQnzUd6OXxF1gBPsJiSWilIFlnMQkPRML4stb1spvlBcjCzH61UM94rqT7f8Gc4dHkGv/N2il6MC2QjZPAMjX/udDpplx2uv1gL2UT25I4Ensu1U/EzGEJeFmVAgzQc2ps46ZHpp2JHg6WUjLyes0bCIhD9tPzJMrIvlDuxnmUJCHemBl6ATPLaF/nZdctPSBmdBSSsvOFJg6v+YAJnZbsGzXSbWzn744cYcZnYGBF84bhBFcHPRWnObLguniAVm7WdlQBwF+VbJeBCWKNSz9rq1Xp8dNlgxnO0qrq8LA8L6xk3ADNgkxf5Sz+2AqdAhg4KbXm53CbvYy85SvnDB2WWKqhAd1meVkBUkzo5LA6WrzpsZ9kibx+MUTLfdbv8hlk04fGBPb9i9afl7tzCtiwAAAAKxBnulFFSwr/wV5A3osXR0g3HsPNKobzuEnjp8IH3pCb9Yh+mwwnxIdtdiNQOLYm1EQTW3IAC6iM6UawhNH6rq6Scl8biL3K7D46sT9ZpzUdmINrGlyH/2wE48mIBtpB11EOqMuKPbjPnbP1+pVZ6o3JYyox1BUkeRhYpIbPR1YJ094SBt2ozzidLG3g/Bgiz3Rs9JXNht/9SuUYd1fIoLsYZTf7Zk4ezh2ABnwAAAAdAGfCHRCfwancSWAKJDteVNgdWn/ru2yYNNbkWb+GmtRv6TEU4//1L2WnG6SAA2fsTH6ttW7cje0jImaAmoHP3IzjOjR+4/7bUX5f+OZ+tFolMv/ep4C7Py5XOrWHAshnOWAgDxTUZuw+eKLg80TEIycIAj5AAAAfwGfCmpCfwaugyWClJ5XUWY3ChL/NKiom7RHCabxVQJi8B6OdBwKNGudXjR+EV2UxzJZSYRTQBFOX9H6s1pnlMp9yRoneTl2yWsyvqThZIbU4S1y0a9DNo5+xPrkpdpiRWp1uWQwrgIQL3EJDdT2lymYd5RwhNdzucpuPfoYDjgAAAE9QZsPSahBbJlMCG///qeEAAADAGRi5IAF1XH3peQOoPtN6UyIx+2DD3B9SmNPTGSLdM+zBMmrumKg7xYM/Cj/MWAXcDZrxJN5CDQEIe1ZdzvQ+M14dQvw2ys5LjPHqtvF/IgQdNrM/a/7NEXXKJHGrTIuMJMGmPENraotK383j4VprWojHggOvHB8x6x6UCawIS96xqWFcjMZ/Vm8mHR5LDHlqt7lgE9Lv2uOlYLAjm+ppxScXwQJkPAkUSLaljVnFZrk5YasdsEy4QvF1+vDH6nrdjBgkJAJZ1RYrsF5wLvIbxkNqS3rqPisPXhtQ1fFHFVIYZ+HO883zjZ2sTQMea4rr4Zd9EcUDUfLCecYP8T7SNO9aEJmTmBzTTM3NYmxsvZ0ienonzILNfEbiFYfdmIyk9Rtsbu3weavEwYAAADgQZ8tRRUsK/8FeQN6LF0dINx7DzSqG87hJ46fCB96Qm3nCqfK8DZYOYAcGXLr4HKoQcuDg52m+pWxbBiol3T/i+ajU10gePyIGpxsFrQ+HWkMpjF7ExnzdoZ1ALfR9rGZebUi3fga3rxKxXOShvnkrrhk18CZb2ACoK9RSpQxDeQAMJcw7FSnuQthjE1nuY29qmGLw1LnMef0CjpCaRGJzfRO5RD6+MuAqy27vciM3Ne0O9aZDIcbg8VfqZD0+CPLr2vRF46kJePyhEw/jYwC7l8zjPMrQ/lYNPTNz4CQHTEAAACTAZ9MdEJ/BqdxJYAokO15U2B1af+u7bJg0WK2MLgcd9TAEPe4tIlQvKVhH3du4KLT97QfCNvJeSdzIWjaKN8F9H3uq9l8mlcrl1zjFOWYE71TUh1A3Xf9EtSDEzEruH4gsN+Cg2WLF4K/SLf7v++4RZKU8ifYxFKjRG47fdBFHOt7lTVjzQ4u8EDEoaVd9VQY4gEjAAAAfQGfTmpCfwaugyWClJ5XUWY3ChL/NKiom7RPK9CTABYfC8DvZO97fTr2GIig38xsU8Jj/0YL61IxZ5n6ZgBoh2/WqSjrFnfI0xwPYh1Gu9y+thEnFj6g27x66bnXyOZDPuUsbSXaNxJ1mdO9zt216n/9MeNNSLntlgDqswLvAAAA9kGbU0moQWyZTAhv//6nhAAAAwBk/ZUrU7xZt2wBEace6AzEzJQyQ3URTao4VhOxSPbaw+1G6REf9lMguGI23vJltxN9kYdMedEnGWi8fObxhKvW6Y8jJE8Mn2dU67iBt/wg0JOVU9DSeSlcrar5bn1Gxf3iYtgVx+UrT2bQY6UphTfye46XBmZW0oZGa8y/Z2j0NpWpluXMsbpw+p/tS4rO8gSXgWwWMyzDl3pYm2JpQhKBf7ZykQejiivVz6XN/wVbIDmOqhKIYvwnQnqtq4ccqUXByndKexo7QkR0Hcul5wpFg6Tt6kBibMcYYVHawkFCXuq/TAAAAI9Bn3FFFSwr/wV5A3osXR0g3HsPNKobzuEnjp8IH3pCbeeRE08sfzIAFwCU7+Br/i5kq/sL8k4bgRcAn3/gZD+jIDrs06CKGjDEo6XcyL4W5wdAfBCOciiGgcJpb3RhsC7pbnqXzr/xe2QNXPLJBMgUp6aFNsq5e2E7zr+Cb2dlPPJNnMcJ2s/0y7jo7oAUkAAAAHIBn5B0Qn8Gp3ElgCiQ7XlTYHVp/67tsmDRcrYc6luBFmgA3XtaHzzcD+Xz6y6nSPICbP4GRnhrpix83I0l+PREla7+zYDn+8O34R42+5z4v04tLZCUd47JzPa2XJj3AWAXBTDOKdw5eqEOVPhoyiRwAVMAAABrAZ+SakJ/Bq6DJYKUnldRZjcKEv80qKibtE0C54KeEFNAfnigE6uviDW13oeFvBo4y+b/5wAGfxh225A5rfMO6DkS6PvR2l4Zx9sEoYWp3qw2EQfwL5GTslsLI2MW1i4GQG+3U9BB+2BIB4QAAAF1QZuXSahBbJlMCG///qeEADueyolMAfqwEoAia033aOaytF7cnDa25VafAOA7mzrf9IuBLzMGb1H3I0MbhOv73HV9yInDu+mMKTUg+FiNI3Uy85WHAnrQwWGFcjJCSKqhQy/DsuOKxTJPJA8InVL7Y8Evejl9hDKWgdkGcss7eHb8zWQGScDrnIanZoA3WvulJ+iwhxCfhJOwmbvmF5XQXLdPHQN1dFQUc92Mq2ipIHXKgzKvyw15NEOA+xGGQ9XmkyjrNVv+HJl/uEygn7CLJp48sZH9ZtVkCGAg8jdYac5DDThm4jq2+sV8fHbL64ybxN0bV6rWb1HtxWUGXty/k5E7Wcun1lCjl5EODzuWf0Ubz2qpcsafZmvHEO80aXQJJHTQsgHE6Le6sQ3sPa96zAtphIPPxXpBAZBJFtnk7plcsjnsTncyyiKSyducJgCyXdEe8zeWNcOgRjTZKwEL2JdH2lkV3IhOAGW95SSSVwzerqiygAAAAMdBn7VFFSwr/wV5A3osXRyV+Q9c0/0NZas3d6jfEHQeNEiKu0XH0wlASsuYgAnbi+zHe+WDWuQm4hjUE6W8bwoDzQJ7QCeypwQy6xbIX6eUs74D2u+T3Z0UuTDByxMEEESUm0CM8ecxm/CyvKOteG0eoSXAUQLugBytRdm5gm3nMoTnA/mbwudbyCCw4Kr6b7INb5G4c7jkuip/587jpRjcONNHRD4LrPjbpjc/DKdm5Hv1VKH6/rMSTkFgPqQUY453klIHYLaBAAAAdAGf1HRCfwancSWAKJDteVNgdWn/ru2yYNFpk3kp6eIEcLCwT08SVnAaAgAh+WSFkRtErAjwi/3zttKJ1q8DAVj6kxFvee7fATGy9YO1V4R0hSju/NtVUDd9GwB0bwTd3SBYonoJY7NpRUuGzVcCV3aIJgJWAAAAgAGf1mpCfwaugyWCjZm4jOV1/UkzZ0c5Yq86guxPI5apRMADjcN2is09UkbUq+MeKra3Iyu0IGXmYLCLTZrrXedXiWLZfLQaTXzu8C0fDgJho4DyrmygP8pWvwX93aUMv9pIC98wVJ90HdNtJlCn7RfQseGYboqepoMlA9tN+uL3AAABJEGb20moQWyZTAhv//6nhAAAAwBbPeAc/EFMRKyABXyxWxUSITbJhOO3kAuWi7dtbMXsPIRxzxgcg6d738sH9LOSmJyQ+qhjgf5EHJq2XJJZfzS/6TY6xz41DX2YcMgvGcz83kNzLTVrW7Pgs9T07M9n/Sh6zMI4t6f6lOMt2tEDKvXelgYjluPorPJmbAr3QviRipoPin9Q5OC+WTCeJVlHo7xq+JFqGBCemH6PytBFkEiT8a99IAEJe+XoEoQTU537SRiMpcJyCOGdOUWJbDHcdhD5m6/I+MtmlN6S6NMpnuuzuL3SJrT2Hw8epXw/fRbCj3eZL+AfPQ6L5vZJBJIVmx0mxmTA+ZIsO6Uf7OydCXbFBKpxkALQolRYGWlf6tFxxi0AAADSQZ/5RRUsK/8FeQN6LFzm0Yotod2b3Iu9CApxN2HNNA+dhcAF/s9TX9tTNqB+7vt2KExuLwKM/kOwPAhyjJhcd7NtH0EeIpO1ZnkBe2aJLEFZPqhnLNZR45UMv+WRWoOzNWi0ALXjyB2I8B61T0YWirbf4WIW8DiINs2Ykyj9/oj1apF9Hd+vatUvT7df0j1BrtHP7hcMOPX28pPWbUlEXxJUr1+6/OuEs4A46ayFeY1KP1yw0FgwDN6mGJysTz/HLxPx5RbYsY+BY1+EMsBjAO6AAAAAvgGeGHRCfwancSWAIZmm2EE6tl2Gzo5yxuE9ZKTABGR02dz05dRkgShGYqkFckECC0JaVk5G1ojum8WDMb4ZCtnjOUXavx0KCtGko3GBtnWuuushaMVRW2cuVP7HG2IUTPh9FkABWjRVWJTc3A/8LRH/UgPAjE+B4p6WaeogsjLtIVECqoMH21Hxy6n56cWkVuGHEv77OuTigyvaXrDejWlfhmF8P2y+Cm6qoSx7ZxObR/vllGUO292renteA3sAAACAAZ4aakJ/Bq6DJYKNmbiM5XX9STNnRzlir3gk5RxEl5P9MoAbmDa2JOPjDuTNO10c+VKqfmhxLSmHnAk5gMXR9ZYX7RJE7ehGphlQs807YDlUhCv4oYM06AFYoF0MU/vOk8mfB84SgbwFCBQZnEy+zcV1NRBECVdA9zrnd3QAi4AAAAE2QZofSahBbJlMCG///qeEAAADAFq3w6ABxvcjMEpgRAL7Bk98dyR6mCTv253ZUKIitoVCRFypzKlzZ6AA1xI8idYTwwCaHYVVLX8QODh08LB1tCD9DxUB1UbX80LjdAJKY05wpcuNUplyuquOwBO4Flz68ilHZBQwSbRvPW8hr9VyW48/SQYSFRj5YgMtPepAtr+bxq3whZYP8DdoIXpzfsJFXTChHMaeSIRwN6ndV2Hqcp9l6Z5vXEJaioiouy20qq2fGkWkyDlAHH51rpgvv72cqidseYG3m25hNYCoRqMluzwYBhbnZ2gI6HiIQ0DTMpInV9ClEBf7jw3rui/f9aW0CC2H0DPImrBwE1JnXxPtf88Cw/GeLwqDJguOayvMyN67RI0YPz/aPTaCzkMj7yvIifK/yQAAAKNBnj1FFSwr/wV5A3osXObRii2h3Zvci70ICnE3Yc00D2x4ekzDph+tONAWiRm6qYtyj4wua7YITo8wAtElRJTh1qD+7ELETUUUAKVPSv4JmeNmvQQIuQW+w8ZtL58WdKl4qtzxXk6exGZW1rJN8NcCoNIwjLX3AjHxuLkzYzA+r5rxXEBC58T1lzgEa25QoPyk8dp2HUs46MqnPS4CRJyfgAtpAAAAhAGeXHRCfwancSWAIZmm2EE6tl2Gzo5yxuCLg+/fzPmUAK02aw2wVHvAxD7dKjF1DAS26KehY8hEuhBKfvlcNvZBr/oiE3tspJS3F9t57oZYRNchYvGKGmlRY+Rmc/xvZTtnzVUiS3JR46RJedFCMq756kkNc8bEyyGDqRaKpKFJGADlgAAAALABnl5qQn8GroMlgo2ZuIzldf1JM2dHOWKvRLXKYu29eSw8cC92TMARIVfkd3OmIsHwpeDaJ4YO9VPjgYca7p2qIyFpyAVXmYjAaNzjv2CD/dn3iwDIbijUPPT3XsvS/vG1fASfndcuxwECtculW3vElrY0+ysdJrmlkRp29Srymqa8UhGK1gjIrm9DUIuFmZK58BQe8abX0P28i5FHqvHQEO9DmXNL38dzds/5jmADAgAAAStBmkNJqEFsmUwIb//+p4QAAAMAWrCmVM+X81IB9lhIAAccFI+6Ti/cBy0xs9THwN1nu9Lj8DZD5D8VlMu4FmGnz/rOyebps9o5qRABMo42vXp7n3IgpXRm+TNIa/ZbDm/SW1YIW2RD4iqpmafm6heuOAve7Kf3JO1+9zMFWoi6UYwkpdwy+9FoeEra5609weQImqVUTNY2iAXiIz4sck/3jNfXR2GVy0RJJYZavyQ1LXmtj5SrntuXFVJC0iz1hdLe1kNoRQdEodEGWDTN2+GET3DNj66S4vyisOXxcRf7VQ/DDOc7x+UlTqkZMUDmkX2JzGzI1w0LtcWxlYzcRd+81tI7Z3Sihs7xY6U9Z6AjTNwbMnXDkbhNB9+WpMVuQfapN/5x8Hj1IOLJDwAAALtBnmFFFSwr/wV5A3osXObRii2h3Zvci70ICnE3Yc00D52FwAX4qDMPHmMyOt6YHPjnSPe0cgz1l/kQZb7O4kJkrE3K9ceVl/11cEy/VdqCadvnMtBQSMmiXncn3B8H9HH23oIWl2ZHJ5bpg96x6x3UXufrPedAZlsKyM/PUoR9RMiZBbc8BgT0Op2zNL0kaa39Xnd4JsYXb1r2iTX3301fb1ujhbyTNpJjEUsPIjTKMW5LfqEC4DkTAB6QAAAAqAGegHRCfwancSWAIZmm2EE6tl2Gzo5yxuE7NPYJFK7AF/tCEI88xOakPPugdj+81hhW4f7v6+0kq5ylNcuUu7ev+xW4A+CsmgvAgxdqI6ZP2xTuEomaKESbdBu5NMrv1lu0e3l5MncMffjDYy0H5drK4dpE2VwdjA+7ungOHVc7diVKatePSmeD5v0n49vl338Kns+aoMSxlvpPfqzyQ+6r/5hUBFgBRQAAAMMBnoJqQn8GroMlgo2ZuIzldf1JM2dHOWKvduw2t4JFPeACw+W/WJhm7SteCdZg6UoGpu47zHRao9JS1RGwFj5LXVGQnUjSwFEVclJqUZABuK1Fd66UbnAWDzh3tK/LF9MvHzMFx4J7pY8COq/fgKYRnXXrbbUrDo+Kthboh0PjLbTQ3fF0u4GJtn4OZs02Tb5XBjlTtkOph4DRiE8+yWKlup7+WiyPNx6fLfhs4eohZBnhS/IqEbS5qtBwqizquRz4BBwAAAFQQZqHSahBbJlMCG///qeEAAADAGJ5LgAIstEDviHW3vQ2HrK5HTvA9peDUvRTyYJQpgJkFYvtVn9yuRzPkxEuwNDdVAuyycj97s+y0I//b9wF1G0J23y9uSfwKSXP97EbJszu+CRCiTkggczKXBWnp5J/T5kr6GeFBlVGDdaTfCPFgtNWdV9747XDw6z4qrX+SIVow0Stj7IzWNuOKBrSFe5Z/43fuhTCr/qyxn/lqIiJ0wCxtX10eBMtELE6oxuQ0gzc3Se+6edjOKm+11s1O9sddesVEqWIxE/AzO+JHILA+m/sogPoLrrhUN4BPO202EYbUJUX+l/cROz3MccaMQ/uvdt3sA9fHE32sNk4K/wpkUCcAZW0CEnMpk5f6WWg2ByLafuCa2Jv8UUKRJVklFtAeW2DXa8VEjoEieuK/kgovNCiWEGiCbHp1KcpJWq3AAAAs0GepUUVLCv/BXkDeixc5tGKLaHdm9yLvQgKcTdhzTQPirY/YqwR1OiV3RXksoAFrO13IH1chU5M9hU4asqyrKaIrUrKSUPrdeLtsNFt0PxcGgKlDgfOkOlNvJltt/IYTC/t+DxiZLphBZ07rr4Z9+SEEFRIM/Feo4DHi6I8w3sxk4KMuGfTLD0mQoyo7IYQN1SJ/jMzefvz/YRqEg9QZ6XqnkePGOgldMJFfDE03YHpIJeBAAAAuwGexHRCfwancSWAIZmm2EE6tl2Gzo5yxuE8MAAAGzgyI9TFhWDeSHJ+Nkx+gwibcjpxh7ymuq0sCYlnaoEGXCVOm15645vJweSvpk9M5Zpz+ogEKpNUJSAf7kZhNiI33scKa9a1+MMya/xzyLty7tlhvhg9Oi8zqzoGKCQv1ZGnnWjopiJoNCNtCFp01zFXbc2ltGqu7rGomAI1fVkUgKbkWgH+ehgDgEVQ3829Ktli8zaZtJ9JrxKAEfEAAACMAZ7GakJ/Bq6DJYKNmbiM5XX9STNnRzlir8P4AmvjO08PmcUx5IU2YDlNWoSVVYopb54nYLF8LvOEVqBphTLNGRRmHa50dECEwYo6FHTST8uA31Yvs5WVeWF8ifIId/D9GKAbWXN4gOoBW2U2PxrFOX2MIUL883MqB0phvDYHTeMKay03q2jntD2/CVkAAAFYQZrLSahBbJlMCG///qeEAAADAGJ9lS5e5gDWSX6XR0ffdRZ/BBrag3UfUSIPtdkc3rTH3D+puLnuPNSbVM7KqrOzJNMeG6uiC3dEgqkEc4YXUpZU9V50inqnxRxqUc/HKqMbW2Wre39MKCiXTLsyESMenErfY2ut8azMFLJ4pz/SK+GAvKhASgy38N1oMskIQ5vqray9FwBXPoRyzBOmtSSQwOvKG274FFpAh4GyDcshDJ1kLYRRXQNeKfG/RhvFcbNq+Vbl9NoeUFtriAOMTGSWIKikpukQDS4lf8YgZLx3+Zidkc/8sF9EP9l3TjHIxBBIpGLglAriMlig0a7apuzF7DjsJT+PmcVS3IVVqiVH0c0cZq1yTeyWGMhy17/wMRnDmKC8ja6ooMEVvaVWiwus18XSa/mxHNtOfhq17dfyf30gS+N8KJFTHlEm+pFVE8JawpUkKygAAACAQZ7pRRUsK/8FeQN6LFzm0Yotod2b3Iu9CApxN2HNNDPswFZ46Qh4+jGdD85ws+2U5uiWQY03naAyPqGWm4nz/ABtBbnR6fUpwo0uOuOPJ5vcuEBBZQpMoL9W4jU1fk3b41TrpzcpyXoaFdMemjRqqgckWEWOJHp2Cmh+2opQAYEAAACqAZ8IdEJ/BqdxJYAhmabYQTq2XYbOjnLG4EVib2CvzhmI+Den16qywGvZwBHrkm7RTq4ODgITLhwnqfhptq/W8X8i9Ayci+JD4Llj49p+bLSuupk1OBM21L1m/NVzfLMADiynzpg1SRs5w4SEkXCvebLJ1FQFlAsDtlEt+/WCxnXWzrT8dkF+hfmQbQevlyCjoQM5qJpehzYpZXfJso1Opl2jL0x7z6uwCDkAAACXAZ8KakJ/Bq6DJYKNmbiM5XX9STNnRzliwRZaQiYALDw3d9+DwfypU8G3/sbS5S8Goe22tPBvixoVH0StgtHh/F+nTWeC38/I6gk2bFaTITkMjxZHTZatGQ9ierLimCeiRN5fAYD7RC5ULahD6ctuJ72QnU62zGNPmu+ZsPjZ6HShXphWTzszBClzMHWuOpwkdv6x8KA44AAAAQ5Bmw9JqEFsmUwIb//+p4QAAAMASb5Gwxxg6wB0rS2D8mgPcVYEgZ+nn3SxqQysIj2PSSyC7si6tOliZtoB6SVLvft2lEK6FakFnc+RFTWC1XLITMmEfn/k9qsJMNvvOs8Gf6r62rOaa8/3pXGaMFiG4ko2Cr6OFzxFQKxjvp285dexDUggg9ERjFSYauBAXHt2gbKtAcS5VAarCN4WM+9DmJVa4Wk3QItLqXbv+RzEU7mlkXunEaiPmXg9RceZ2d674TP7Kib0zPv2FB71qxjAF1LfRP0NnL7hEQXdcbtVtUw+alDfQYw4Xs+ZCHR8SXDIXl/DULZw+5LmGS3A3Uo8NJ4YzU2ycUINNTgJSrYAAACTQZ8tRRUsK/8FeQN6LFzm0Yotod2b3Iu9CApxN2HNNC9PNtKaJHIbdQA6BcKc52tLXorBCTfe1cKueS9/0GJORyuk9N0VYy3+6KQyOkmX51O0tCcaGiKqJgntrNtBL8EBZ3IsdYgPcltm2wMkeO8NIGC9OL906FKEJasPmxP8tBGd9UhmIPde2H4ARGZlCILTQAc1AAAAlwGfTHRCfwancSWAIZmm2EE6tl2Gzo5yxwpFs+eNlAGZkgUUUskCn8IPR+Oq5Ok7KgHzZAFoo/PnL5CUBF3uUq7wGNrb9QIrVZft6rWNzH/t9TpX6f7H11R4tMv08q2XPSvv6Ap7eI4XBi4nhuf6Gxab0Vsu+e+opa7ncYDwGqa2fHrL+AF9S8GCHhmqtf3PXgyuqwhgCDkAAAB+AZ9OakJ/Bq6DJYKNmbiM5XX9STNnRzliwTwoX19kftwnsH66M1wBGqTK0GiIfE0wcN0bmYb9ijutowfzUpvaHB8Bv9X0+q3lunwzrc5bw3JPE5OWFgqKmLkrPbTSJyB/+7uQgwkCGQEDWm3AFaLXMGf7ETqiUF8CPctmpC4hAAABLUGbU0moQWyZTAhv//6nhAAAAwBWuZXTrGNYZV4AiU/8teYVH1QBCmdJ18VMQZjeAEG7ONBt4sdl/cTwqkJkXBWOGE52uWuQnDw7awl/k2GPeup3mn0EzhC4gaR9FTvtrfIiGaFIePd1ooDGvbh3Uw9T2m2Yuk8sDF195Ayv2ANAu/SVACL5TXfPQAEoUymcSkBsgsucKYI5WT27Tf8SzX9fuMZbi9OHVT40vjSQbzgvOA/P4/jNfT6asZOiYRuTjwmnP94/HATRyyWQO5awSpzKIuerEqX9vzub3QmoEDk4IT4LAKEuRLkNy2t3QYi+qNsl9/j7ZGtjlMnNJfb+aKJFT1tCYWeaxUSEDngSCrJcjAt8NNHDN57dIJOa66BXl2Kg4mGhxgVmGZh0YYAAAAC8QZ9xRRUsK/8FeQN6LFzm0Yotod2b3Iu9CApxN2HNNC9QIMGHuTzxum+D2NfHht4FABt09Bj89AVoQW/ivODb0a0t+DCWXJ7pnmpe7xOl775DAKqJ2zM8CzyVjjmBrpzy41qa2rdTf7cz0UVYc7fq9uqHITm7u9CAXjPUv94//KWY9BJBUngNQegZTIprHhSYIIRlPZUOEVib9VDvp1ba49jSnSM181j3mDcTl9IjezmPqGvp5NEJV2UAK2AAAAByAZ+QdEJ/BqdxJYAhmabYQTq2XYbOjnLHCfdcwZHDNkCCnvCwAPvUOh/HTRkq5ZaV2I0FHWlV3TKe9Kf3+pEK0RRpx/y99krWoPfoWFwygqSD1shc8vN2Sp3uVYcfSoh9eI7lxyp1euHlbPQHi5vZgFBBAAAAmQGfkmpCfwaugyWCjZm4jOV1/UkzZ0c5YsEdSCGnX0XtygUAITnFJQ07qufXzRavICZXYTTmJVvADvdTkoH2MX4mYA89nf4ZNRlBjW0imQefsdrTj1YYmH5C9bQFZJGkgKrOLdqdjRaq1kbAgE0P76HZlbD53Uk5qOikVQcG/DwU4Q9KLuot4S1eSUxLw05Zid3ku2XiXKgdMAAAATlBm5dJqEFsmUwIb//+p4QAAAMAS75GwkRURABEGmkDUnqrYEPZ5WvfshG1nS3vW9sCYfQe8fn3cviNBZm0u7l+sFbvon4sb4zK99A2VX96Euls/AfskuT54P8aTkgdK9/CeF+6hzXnZyqqYi7X2bb3Jl1rop9n+LNq2aSU3vGKDYvhr89X7MqndCTol/N/MggVMNy6TNx6VKXKrqHIxFq2LlOu4B3mXEsDhXS1e2Yuvs2sMjMsv9IHdozCufKsH6LQIZwiw8vEhCggPd6RH/w51PWIL7ta1upR1WkS/GaqJM9pK6P+Sy9pCQWF0e9OiXp2m1KP4lfogqwcD1Yl6roAWJcYhdgtP7Ms2JoEk9ygtevgKQ5pSdedzWST6/muK0QLxfljpLOyMPJe5UStq3zDoa97vfCFwdZwAAAAvUGftUUVLCv/BXkDeixc5tGKLaHdm9yLvQgKcTdhzTQvQHqMokFOSQnjk5ys0gAcWefBNmoFdU6ZBZrFaC3PZmdejLqwTgYJ/AlZDCrFDiM4wzIzUc8ebF8fBDZefQtr+2BcL8RxQjtEE7JmSBoWcWS/ClcEJJzblV3Dm0HsZ/1bgmJkK00Cq5cAl3vexTR/MExU0Ln/Pt903c4B3sWMm1Lq0BSCrb28kLPpAQaxwgtvT+DQhfz85nztEADKgQAAAK0Bn9R0Qn8Gp3ElgCGZpthBOrZdhs6OcscJ6ni4m+1ACg2fA/71cgHVDqavGZHujMhVFnziceVnv+bhXJl9b3ojiM9vtEP2iO7cDItGtpSFXVzgCmY1ul1ffNNj70l+pWI3SIRrNd0a3UflmJ0+YSiNuE4WfHrw/KwrD6pua9zK+OiqqpyOZm2mGvlixbY5JUwFAkrkv3/B+i2JPQdJADHqRMILTYC2rB0lEgUDjgAAAIMBn9ZqQn8GroMlgo2ZuIzldf1JM2dHOWLBI0B/oLWTgGOTSpqeABa6d/y/MuB/B6j20BDrC1R4SeQFMED3UqWpqo/t2aBMO9pppT4ut4y5T6eF/Er0olh5ZIRJXFzGpIa3Gn8UYCRQ+GWeuuVApvJ895sgTvi6RNuyirOdeAjU3puHdQAAALRBm9lJqEFsmUwUTCv//jhAAAADAh3EQzjx/T0AFgmOFfYiu/aFsvlWj3IWGhceAMplI+MJLcP4UYZr+aqAo8BHfbZ1mfDEAPrTKdvA3ybk+CRVQ3+g3pmca1xs+gOARjyLgGXFnPvVCRej8BqDLg3Xt//UXjuE/cv1vMi1bapsEWabKnEQAdZ+DMvjbc0Tffh9Fu5ooSoK6N4GulehY4UizQxG89N9epvEqGOEhLi/nfnmzBkAAABwAZ/4akJ/BrG/s7dPo1qbY7flAoptjNGoIb4WOG8GnMayUOTaNEWMilOmv8I3YkzTQY6j5W8mHIn+vy8sEBFBxWzRtn2ABz9r1e6aBeEtMS7lfokcchuCJwqdiPc2YGnWEnbK4wUL9XZiAGp3Q2TFtAAACbZliIIABD/+94G/MstkP6rJcfnnfSyszzzkPHJdia640AAAAwAAAwABR4e1643dg1tJ0AAAGsADpB/BeRgx0CPj5HCOgcBEjA6ZarUf4LNSAQwCJD0LrO+PEDpBtndCdyzsct/zjg1DX41iDHZa1+/U+w36bMMhDcifkuWhsh2oWZSgt7tQ/VHuaz8TZyIF2tDIDgAeUUCXDJIn3xZY6B7uQCDVRIe+X4SnxMwIQMjyd3hXwqvunxJSX1z4ncjHGFncJnBvdG5nhCyeYtAYZ2ZRauL2ub7pMhbjUmvynsGNrIq6pB+nfI235qUHx6kwMq6hHODrd5GMsahBhHaZlMdAty1gk0bzKvHBst/QCQEUqlPLTuuy9blR2RTPkhlcl9iz2KiVpztiljN+Fz5NbA9qDB3TZlc0vEn9O+Fb3T8tj6vUifmI8uPcWJL+/tvLRoJ1WmUXca2SEzg5Rbp76cJZ4zatt0EeICKs2oWKJCHhEv26eVPVltrnEC5cQvXOrEJYLJwgHWNaG4Sdll5LD55lAMCAN8H1waXig0zP8TowdEQQbOSfxfWUc/n84SjMTE1FIUBEEP8d7tXVTWqLph553G+KUohDlLRh7l8L5g63xTOzdEgO8AEBV4BF1bX+nci6FGH8eaHjPvQyFBcEa8gClp/sx58Pqycf5gRr6hA/8A2D0NX7x8STiBjqZa0kGDAbChJc9Ws80abqTpqeV5tjFX/WuScyN1kRxE3DYGtnv32aAqTKExgpSl98UzxkYvzRcxqpJ3BO0jCDC8eGiF7a3BTddseQ7JZhLcHbHsdYitGCwyCavqlBYiatJJUWqjgUJEWNKmJmP9WdQ+rxP6++2xIS61rMRarlsL+HOqApWtWHFacaYwm39+Nu7RBs1W8KW9b9SUTuWoExxF5EaPIBXS9Ln0vladSzEG8NCTz3+bfwAg7U3ue2z/7y+SnvldY4qHwY1sO9zBDdhI6cM0EfNr00s8J1RXGmViClFYR6ALr4Fg5cImt2GRmKu0rcIWDJiSzIFzLHjBDNXilhz+4j/RYyF7mjZ8E4mWhKymKXOQ2upVYO/13NXcQnM899eJegLByReyM1WMpR5fWkl0N/SAlvJtK6njpSR5+s3YzQDjxe6IIPhMpN2zk4dNPtBxc1GUk2V8RBshGREdXc33SRW/hrvlCIL6J44XCQ70W+OfRW83sgJQdrNZNXdyOjCBsNegGfXtBdt271aDf7hF6ycAjPRb5PtXB9D5+Kvs9I/6ezldjoLiVPDUGMQgyevjGZcrrljPdX1WnAifepMjyf9wa9FDxovJSK/yHeRXLffEMUWD+mQh4JG0O6i2X6lrz2usCLD2mXkUwYv+Fp9yPRa1t6tCOlAtAwf5c1APYVypLq392l5X7kjAtUsrRnb9yUxFMyl6wcBJp3IZiI/arflgCR6bC870/yztofQJ3xbaYNz+zicwYfnNOaBqD22oLl9JiaRWcvpPM+oBBorcfCwcNHNuhw8CmPdDF0XsL1AZMnp8wrsos1zuy5A428UVOHh4a8kklPMIlyeXCv4qIMyBaptC/kOTk2L40b80Mt2ezkvdzG0KPS0F5g9T0agwPuRUetifTOsuyyIrgd2FHvUYoMeA8225tspcho84DVmvLT4nN7QdX5jtcJDYzxSJ0x8iLZvNwLceH/AuA5Ma9WGTaIMGJtZzgjYOVHtsDlsBLeNzuGYKHSmiTJfshCWoJJMlS4uSi+qCvwrNxEqTgiMqVGdQ8Z2geaSrlKCcxJfrwy+6eo6vfF8YKU0RJBJp8o2lU2LGsItAThlMdOUgL1mXS8uF7dWQvmz6zkwtm/0swKKx8T1A5v7cHCQrTk7aFUP0G6VjroMfXHjSmiGnwLRQxh5hj97GiZreLyRDlt4vewC71s0kIp5fM47L/ZnQPF6YTcPSWwjlxv7RRQ8EzrpKZKY6SsvRk4D/g7b5AW6UEUEEmp4LsgIZaMQx9fKhLYRT65kWyvF/VP0x0V0qZgSYd0ZYiGvjAWUCzlCGxulNmbPyG5himDByS09DAJ6+kMwLjXvqP8eMLZIaImfukS5mZLa35cX5iuzNpHh/gCqR7O73g5IoDKCvn/dkiP0vwG3HSagXXSXX6MB1GXStnzGF9ptB1kl5Pp7nyuiUngFTR/rY5KoaZKUIbAo609ksT/Z234LUGPKWqIXUASz5OGh7bMwuPslXBlSZhgKfuy9ctRKeAiGtSF6t42VbOJ1j+lYcIJuuIk5wiFz/ucr+jUIPgER/pCrR8P2vCfdOys5UEFoVRENLKxxoM2RmZrJLomKrouDF0Lq/9UiLnTiZIi+koGSSittZY+5XGw6KL4CJ1rrZHhwD9BdbBsNSfRdHfMVL8rk0hKQ+4p1ailAlVoo2+3gFRYM6Iqok0zjbeKYZ/JCiRRLMKH4Lmio0bQPLqC6OtXXH5+qbyp0oKZzL6fzparGDJxx5n+BewRbyms6U6ko8BJze1DkVeC8iervPVfSnrgnMc8aZNNaQ6K0aZ2C8+78kZtzglFKsZLqLz9kQz70y/j6+vaHylowrK1LL9JR9ZTpbiQcjjBjfHw5ZNcTVtEuwVpSi6rvmNyLSw3HW0CxzSUYzFShVjrJ5V8joW6L17uYhUvdBm8WRrH4u904D/YV0DFwIGgUChCQ0KhFY1GrEwawGik7gqWafx/IJ4K5PRh7jNQ2BCJRdkwLCbvA8oCFnjqn2g4Px0vBLk/FYkpNU8lJm3aJtH5dDuAi/CxhE+1vjn9qoqMWJakcozJqiU8CPFDUlmeDymXHmLHa/Z55iiG6ahw04DaD1N2AOgUiUk8xF5bG2dqhGnAuK9TUG7pP81fo5p7tDWlJcWsfsurqdxkgzZ8b/V8De0Zxq1q1AGA4fkQmvcww/7QzLKVlzJ9cnzwOl2Q26/h1jx5HBRPZbLobolk3NgDDiPy1IdGdKHEGu4+mlGRDNDASF1LTZggkTU8uXdQKjZiemAZDoEfiEu1ypjPNt6th2WtDqG0xe1sQRnI+Lis1AxfE5tdDv6zwf3i04QO2IOQf9EfEMKA6ZPdbDvd4E+nI21T7sSNLYaBZHOv99BvMeBl4IQKIoudKdLgH8uww0gAAojtc49eitDO4/Wwb5osnu0uWmu+14w9zRloiKdMCft5+oZjztNEjhzeWs2Uvvao1sXUFHuocwx0/Mkg8t3mlZtzhVYD/TlGU8Wwg16M0FtdoEh58PwGITB9b2XO0K8SVKR9zymwFHrEBM/05ksJntgss8GtlWi0H9P6UxYIG2Kqr5hpNZOwTGegotZwt89kAAADAAADAAAHlQAAAZ9BmiRsQ3/+p4QAAAMAJNkeoyuASemrNmRV8Vu+9+z113PInIKkZEpVfvDo9ACA4KK8VZDcHeOsC5DdVY7bKs1Gof6QkKlNfTIUWEmEwC/kRjmXnbeOV57F+TuX8kN7laxQXb9OLKkoJWR2fnEKs4q9wYmFSujQbY7uizgBhHKBsNcKYwisn7Q3sqP4OzQwJ+Yt7/mDfCui2UPzeKFlhCqEwmpDaltHSYZYp1tSN5x5qU4yK6a9NNky44iMjoux65nAuiZfzJ2GpodgUyyxiVxUuTrQpvy20EBwga2Dmrjh95J5Ne3grzBKcz4kyKWVRV60qUaDyBV+DOv7E5vVcX7UOKlxUwM77QLgUBEq9HyeQ3LXk51P/lFzvk75Y6rvJxduHDzyXYJ/U8Q1EJFiMf+P+Dlrc29gGQmNASrrvKIL75LH7FcjKqz1XVzAS++zSMNacLltf0X69uMwlhgzrTLJLTPoImdCrOvqS1IYHfvojTvR2afD2Jf71pffzI9kthECYuYIQXpjKNX4o9n5yrPSHoAEmjgoBh7WWi2XC+5QAAAArUGeQniFfwAAAwAdr+nlKSOqfzgqAFVrQgl/GACmd9p6rtMBzV//e7SMEkQV0UTj1XW+2BewC8yd1lonM+f4UH4R9zMFQN3KWdJgQ+trXiCyFz0iqy2cPIJ8MyOCUyiQAbrNPaJ3oXl+JujZkKnq8+GoDkvpLewQmqBPfYHZtGY/FAKmZsWkVIgdUfBhKH1tdwzYb0CSvMULsYgBN0q8FZXJDPH0u4Cns9m0KcUvAAAAfAGeYXRCfwAAAwBYtOloqo34EUiAI2WZBEb2AIiQ6URAT1OfL5TNjhQby5UwnwPX05iaVc8mz+CBkJ4Hw41CmxHU5CVoXYYSp7Bn0qjwUVgFJ+2XZQ6TFy9LXOY8C7xnVgIYGJ/JtzSr4sB9hPvCOSo2y3AGD3X7mztgEPEAAAB/AZ5jakJ/AAADAFiZpnsjXWJsU7QBABtz/KDjKXZuFtmEV79wEtIG1nz66r8kXAaEjfUw56LQ5BA6UO+bVCe0toLEPclY8u1TDNHaclbwpt7c0td83svLgLCPOnuxOsN+YNOG7Fkk4EcVveHFcwo2JBxM45EIBn5WgJU8TzQg4AAAAVRBmmhJqEFomUwIb//+p4QAAAMAJqZBXAC3ROKOxT+Owrbvz0gbJ4jF3VXtsp2BPbEQ07ELs3IP420cCW8cHwmqazKpq95vjJEO0h0ztXIDjBINc49K6aOXf87Cl5I2+s0WgnT1TvHLqHegZT9ZvXfi31oXlckp5Ys17F1HjxiG05YiWehN4h/iOsclZHOfMKDQugBvpgIuG/cQALWPB/eAyvQXJfoXDLJhT4VP0HZNgOK23YkGkzk22LWSCkOUIaaqBjNZtbehAE9nmj8txZCtAb9VZw5ucmb9WaYpveQozUknsNvRUVP85UDwaVeGJ9St/5Q8tKeJsY31/GbtS4SFuytMup0ItQW3uM6q1FdlCQdyJ2a/7zqEAF6DZ4Pc/u4wZ49uu+cIZio9mRQy9APQ8gve5T0DcI+Q9NxPJH59Z+YgA94/OLL66KZFa6BRsKEupD1BAAAAk0GehkURLCv/AAADAB8WYQg+gAt0sjvmW7DGG1kYePkByK+9nBw0NR7mHPsMGC6EG+sCY0Jo6RiWXPNhXrTUDEGGkkrnYM3L6KPdbORiEoKy5n4WrvvuKqDHQjWpkdOPWx7dsod1pwPYVGacKl2xBfUtHHfQYZBCt7k6d7Pj8T00avXveTki7mjFncM810j2T3CZcQAAAH0BnqV0Qn8AAAMAJr7KYy6qTCCTSdkpnWhx0ROACVH2yBjSIvPH4Pe0LicBdEL3T1gpUk4gx8Oic6THi1dilD4xxGjCZD0JlDiKa15L1ak+vjbivqFZ3/uPdSzAdR7CgsFBantqpnGQV9h/Svl7M0kTnZ6IXqi1cDjPjWEVtAAAAJMBnqdqQn8AAAMAKPcblqzeBwGkEbo/3ToWABa6YZzZk0mYytmO+XgHNtmP8chKKK/CcuNX+m+odHV37UUXanGO7g0ri4RrhEziR+ZqzBaDdVyQVUzYkkaZI6nQC/a0ElLMEFTGqu3MJWp0vR0aY8G9bixHxclqJ4QeUf6MbpvZ9k1DIKADg+fP+jHyfWik3dZo7oEAAADpQZqsSahBbJlMCG///qeEAAADACbfI2lHn84jlF8AHNicVfPrLWh7nQ3wEZ89JQW+nY0R4mfGv9RFqJqXUqfZJihf52kTfNhK/fZfynz8JOEYWHPxfOc8fj7XKhgrGgsFgw+SObg3FIcCDxRW8dWZTYUryjKQKoU8/75Aal9Kj4yXmcjJdVaWWNQmowkT65Wue4DxYqRyaBWmVXqhjSuLeotbc3fJQd3CKaAWSgXHQ1TAY5pz2htWwQgPv8q+MpWfrmoE63pjvDSe1vpRbNfm8VksLmJhvG1vgitNB93NnQMNCJTSFW5MYgQAAACFQZ7KRRUsK/8AAAMAHxBI2/tgaSrUAJEKir9OOd/sWNhSRkP+pbQ/RMB8jvfoS702HPbdObawgLMXj+MHfLt7JOuc7YYwSY0FPLNIR/mKaEy/epcWhURpP+mNkMLih2qjOieaC5GaGolGofKAQlcraDkoeCVH3U21Ll88G+0zkL0Im9gtoQAAAIMBnul0Qn8AAAMAKOjdcQeQGINnHyKAFgamlYVGlrOJUQkqzKVA/ettvJEmyAfjuwAkgrt+ZXb2CyIC2FpPujC5Hc/p1TvDr5sDJ2GeL9zA+eMLWbh8hHGgzgtpN62q2RXiyjhPc1KlHMfI0Pv2nB5mo+/qFMfkSF3qcGo5qnAXjdgUkQAAAGEBnutqQn8AAAMAIruRO1U/tgAGzir4guWnp9A8t+m+nVR6ZSFyChdvWcb1fg0KWwgs/FWImTLQz6HFTt+pLfTtXJDqNvREEz/b+SigsbqJ2GFme3WV93DWeRb9u1OQcWdhAAABP0Ga8EmoQWyZTAhv//6nhAAAAwAg3yLXRIqmg0IwBA/jkCjZXhkqVrVj+P0x4BrewyB+8gqN9FOdLwOI+o2gdMLU1vI9XQ73vADmkD1QKMzCofdgcphrL25f1s7SSxVvYMyqhvYFiKOHu1QENHpbN8XaMSWhVyWm11ucABp5AqwUFhlvJITnr50DDGlaUqBexpptHI7a/VXF0emFQlkzN/8GGSkbs6ISAeWozvM+hdALeAxJWj6Qzgk5rPaLtyiyZ2go/FcOj7XMlTUuNCAXy4LHBYZoxPH/XvVw/yq3Xwlp2XR1d+lgRUoeHJ24NywIEX8EXqJKZmGuvLrFbnEZFZz2YKioTKeebv1dl4ZR9fMNhAGOiHLPDzbU60+noI6jxvuX547f3ONYJGdXISOsmkdzvcJ95YazDOM6DL/oy6cAAACHQZ8ORRUsK/8AAAMAHGejoAOLPU6b26iPZVJ6cdXUWwOcvFYjT9M/dsZMimi9+qmCHzJkrbuks/HDuQezplmB0uHwT1O/Zs8d/fi/crmhHImBXl+XXKUS7lOjBMGW1238dkCbQ0XBw7+OaIAw+bwUNUxWltS2aVwOuFZYuJA/uZ3zbzCnW7FgAAAAeAGfLXRCfwAAAwAkvt2qaAG5gTurlQ5NY8/zZSQMIGn8GCvRw/tyf2bEzOfu7/6loIeEzgs+zESouLHPqBEvx5G2WNWsE6j652WTU9t7GV1nCxm/fuHHLStfGrvP63RrxxDrvJKbHBeOsAaM4jOF0Hv4DkyvGolXFgAAAH0Bny9qQn8AAAMAJtC8ABtRntXG/KdA8vA5KK8CBo2YAnR8FfIwY4oRIy9B6wDi6bA5YPSCGz9tKVEUdsVpkRDP2t4fsp+BYIrkuJFj2RKKedjoFFS38HPqQLkIU9eDzw8Uqy9Hsk20xCwJG6YMVFepWMTHjHc49pgtpzS7gQAAATtBmzRJqEFsmUwIb//+p4QAAAMAIaZBXAETXElwso8eKxOGgWnhF5aS3vtUMEXCsrAHpZlhYzIS8/sFIFY3E92mkz02DGV5826cF1aE/98+CiW+L4xy4fFcBzCdQBbPDrq8aI17roDOC0rftWBQl6zIjFgrcBWa9ZljDSmBWHhR6yWZg9j26DwhdjRt5xQJrQKG6m9y5q11Mg3udQHOo1hZR+i/0ly6GCf9aNgbHE/HPr7DyJN7LCTqnaO/ztirDiRbrfg70U/Cpo52ybIqRHAOL8955y00SQMPo+7BZ6XcvuVuLFvVSb4j8kfZmAwwspMrN9Dl0SMwF5Ffb8m6v7cMWqXDurSzbDmd8P4ZZ9zc69a9Bf1rzCfesMyIMO+c5zy77g5YD9pFo9LAr73bvBGHrjXh8WQgcTUsZpgAAACIQZ9SRRUsK/8AAAMAG6c/4uEhWST6X2/W+nzACpUQBv0PmZI6ksSdEKSoltcuHWtiaB3WmOxsbLJYZvj9qavTFgeTxoymepjWi6uA8vh3CZmrvwjOjVf5dqI8xoTW61YcKuLsZeb6cElDg26NqWaqeL2WC2zkSOkYBFGua/DGh/PgM9vaypxWcAAAAIEBn3F0Qn8AAAMAKQ2vANXJqVdV/Kr5wbYtr0OkS2B4LkYQgFpxqPqRBnnKlbcsoaiKpp9GMSa4NXvjOKPQlcM4IbvstxhrKgTmlcnZJiTc0Ue+qOvvVHREM2YrsLmJoo+4JnaLItoAB/+MtSAVtP50HlCIBahFH4oBqqv+NKeFBF0AAAByAZ9zakJ/AAADACO7cPznABxiarmu0+XuW5imZPG37zv9ul07V3o3CJO24w79l32DaG0RiBRNCC8WE3UjkgXwd685orpVdnbMR/7Ggtfyih2kmpT6UiBoD4uWc9ShhaJo5U928PpXobXWNA2uJeGwFntpAAABFEGbeEmoQWyZTAhv//6nhAAAAwAi3IPoCEbwAHuHW6396FQOn6mHkhaagw9sEkfSuwTSrtoAfNpv80Q1MRz9EtsGiPlpnsPBpAYIWT8ozvuBtLHBbslK4+m/N45k2YMqEvtESb8yTSUrTnzmcaTpy3z2gQ9DpdSdEDIjipQW+pFv/s59CSPE3fTDN0kc4tz/2LHzbLUA135F/kJEMFpNrl7dck4vbxpNoGl3l7PRP6QqfhlLdf0rgTCfAxZOlcpfZw/VC5fahghKTcTNmnnrcEazjwoWIGsIRo76Fwxf0V/QGaMo97ifnz/chqbZWGkPpHmiKk7L3krq0TjT+NQNTn1XwZ+zetmiipRaiHWOm/WJUUbcdwAAAIFBn5ZFFSwr/wAAAwAcVkjQCdJDd7vnTyAEAYxLK8zuFcaNPlWp4hOwFVQuZfCNw8DC7A8EN3ybEIPbMO6I6bsjLMcuq9PPdTosAekrRslIRoqMvI8QqzpXuETjq9GBcnjIyB5S4HoJwaiAEQQ9UNfIDqp55J/uCSTDTUltEfK4TsAAAACBAZ+1dEJ/AAADACW+3ByAKAR2IZLW2Y39zejvLLawaf+QF2wbluUZGn8GCqenifPc/XuVA0EmXs7mioTplc6FyD6qw43c7dpQJ3SUqWldv5VXIroyfZgIPfNFrr0tTOv8hWn4IjLOCqTTGg4cxUVX4mrhYx/0ypkUJ88QZh1vQNmAAAAAfQGft2pCfwAAAwAlsSf3RAEED7UUXd+QShB5HeQXj3W4FGcqVpoaG4SILMK5NHDN+tn7eBpcR/guo/BWkdm5Rd1IFJ70aPluxXMXfEGOGyXPcixC5NNZM0jr/cSn31Gj1uO+mIDeXg3idX7OL/PFyHwOqZtKRKWfpv/N/hc/AAABOEGbvEmoQWyZTAhv//6nhAAAAwAi3yNsEE138AX+5C5KJjy8e5W+FTL7b75Nl120P1Cwdm5of4GL/U+OUeK6VbVGgbil9Klw6BU87ptxbH5i6SToT0u5hY7YSFq2d8RG5p28/VPqfX6QOSuQLSnpN3LAcBz06jvU+PybYW7ZWZdDE/TiWqwckeBb1stm3Ip32ZT5nYBB6leHGsTdblgI3m9PXbOYgklEp0XZxLNcosvoliimgPtrzqdlYdlYXiqV9bJMYoX+NG0nhHuT7JT9aWwH1R/USGsFF8I8FMz5Z1SKPx2gZ0UJf/3A0nrDe62YsbTggHemuMEVo62T9ACnCFiwVOjmG3FoNi3a/Phv/LDoZ1FgJXRWFJuToj7dUAG7Cpz6MiG0YLgmEOgUCOkkcNqNha1/8ojE7gAAAKVBn9pFFSwr/wAAAwAcUE6cevDp+u4IT5kwAON5wNawILl9hzdPINIm6k5xuQ4mPKkYb/Hf7j+eAyFRlXwwrhJg8pjVzerfR/XuTgKAyiK2+v392+PgvceIL+LATacMp/Q7SabZhWZxJ7jIigVJMCC0DQMGVs4+x+IKrId5/u+beG3Nb9KQiYH74k8xofHrczIhY0K0yvlEo2j3HAxKxgD5QRS1NOAAAACdAZ/5dEJ/AAADACXVPwAGfeLixz6gU4mUzz/GHVWx/658pVCHwNYfTKh7P1c2drgGxAsdI4Fj+I54UoS7OPu57FZywDlC2CzQiTYtfrH2eQv42dEAb2Rd3wsGCRgvhgOELNs7NQT6gv0ND80rTYD3w4BxfuRSqRI4AlE8W601xsc+sWNi2CuzzYFTZpn4lbI9HksDVFEJxllFKlwfWQAAAH8Bn/tqQn8AAAMAI7GGjjrF2d5cC9QWACO0pJjl5SsBNnBsM3eExfU3Vr6yTJJRznnFL+m1y5lA1RM9Z4yzcbM2eQ0RLGaubyMdZkLPdXD4/uSmomxGP9mgnqOHYLFcaa7KiD8IRDrThdeJ3kUTDYvq8DPtNB8+6sZenVPYy8GfAAABJEGb4EmoQWyZTAhv//6nhAAAAwAjpfNwBEp8AIeZdNbvNlaLWWOMVluFeKs5ddvzr6SM98JwO1FygXv17s6CIgRKxtzEMSccPDo24DpFls/53vABSDDOsfk7BpbJtvxgpCrqO+9iqlx0h6F4nFNFFvIIf4zMMoq5YSSNEM1SFcGeZ88rO8xkleYA4Sdn68+vmbh9A94XzubGthZQDjqbutea8DwHNnhHDaF57nCVY3h2aIhwgUDOcT/+nkneNnq04xvF5UQ2bgjo7+0Ln93ruSya0VqvE0Y7z8HYzrEnwq2E5zHV2+y2B05N+cRMpSTyjFXkePND3lQPA0bFrIdlkFk2os4GpMpj5ixlxa63LFoWmP3gR3Yz0VWv133bstPWc0CEsCEAAACTQZ4eRRUsK/8AAAMAHQZgNhcEhsyAI950dipMH2rtgXm4DPZMVCVSBRuOOSI9tpOxintTJtLg5JQ4tJsWprMaq34qq1s+WMTYIiGoaFVNSAjEh1L0eLNITNaT/UwZmKFOlU0cx31C6HV4JErp3x+1MhGHlWqPUU58tt/l7P1G0OjypPtklchFofrU5RbwWCTmMjAhAAAAngGePXRCfwAAAwAjvllrgkOagAsPlv1iYZu0rXgnWYOlKTiTrVaR6TI8e9FkgPbirRORXepzmK7pa+kFaNR+3iwWDbd5aLfo8m8/9idMC2yp/HdJiSs1iuRLgNTXbpSgIhOBb4OH0WKtj4jUYD4VqSj7da2hnyE8yuImFDqmD1LTwJTV56nRvp9CgKpiE94XwBo6iGs5LJA4RcW5p4VMAAAAjAGeP2pCfwAAAwAluyoLgkOagA6R1PEMxVJWZDz7oGProj4h2K3KMix4nTBDHhcXjL0AnWVIvCrhAWZ7W254alelly+bie6SvZtuWgdfcLodIXkbws9r9EuE962ku3UZL/F86vsJdN4IyKdBtuGLGfJyiXGppPfL/opz496IKGUSy3mbhKrYxSCqCD5hAAABKEGaJEmoQWyZTAhv//6nhAAAAwAj3wQsO/RasgFApRukWLfLjwbMI13yFWH+pFah3KdY+H0dxw0wK7RPoXlIUmKQQU8NjBuY9lIhuc6qbTD2H6VMYroWxgt42ciCJy/RODH3TChRuGPlBZaWd6ddCWknAEWzWn9Qw6vfk6t1SHMA0NbYxfL0309QYmkh8p8ql5FLMund1H8paar/7XGKKcs5cnWF5Y5OwUSH3zclJylqTz6jp9yJJYLWE3I69zOgphohVkYRKLMpIbWACP87PpiJTf0UXhKmtpKM6zjSbAGrFWaqXjVk92gjeXzduOdJT4UzTiJnipFBXfrsGL/tDzD6DUWSU3giTIGTwJhRaormDJ219qm7rRPjvCLCZ00QFDqS53VuANW2AAAAkkGeQkUVLCv/AAADAB0AS1zdBOKVOltYBNfKijebB/XyNg1LSz28S58IErhj0xOyMCPfP4RKOCYY2UljZc4miKHggr+utX+XuPtv5FLr3UwikY3X7r86TfJRlKNFpD6YGtzn4Rp7noPQDe+uxz19kHrO2+/ONp5flxo3gninEzi/K+Ws+yYyzlkwHGFcnwdtBwJvAAAAeQGeYXRCfwAAAwAlrWLrKqAzvLABB5zZRHnH5yPUcxZ3lZPpYshovRtWIrsWfJhGXhpo1coT0xqAaCu7QQuju51cGf+JOMr6vRfD2g96JPJ2VhzgCXNWxPLsE5cDnEJK7ddoSpnOtatug9JeVx5Y8d/+nPcExWTwk4EAAACCAZ5jakJ/AAADAB516ABQCb7w4TUbGv3qxEHZJOe3IdgZ2OYcDxeN+jgxdsKyHWZBPv167mVIu67zEo1u8rDFlAOEEucKix9Hf5rva1nYN+9SKEmxIPZzuFBzH6V5NayD/IUyMHtySqRzSPy17+buHYidX5idCVV+dIdKAs+cHKRbQAAAAP9BmmhJqEFsmUwIb//+p4QAAAMAH7S5gB+CSg8woPhl3Cz85UjdPnLvXz0vxqKSxxDLXWRudQ5hYITe8Nx7Rx6vUF9X1t2G8YHkOwUJotdHzQVK7izCtH2t8Yvv0WOfkbQFop5LYsJTNCqxK4+xZ2BadNpdPHxs5GHbXTXLl3PM7U+x9CiLautf8DLzXyUaC9iZuPv4MyL08hNFkdUVrIIRzGHwLI0uuQSD30RVUIf0npWlpZaLxyw53l+gZNRe46y1cm4HBz9oRqxJmECqgv1AIpEk4QCCgzGawq0pIiGtbqECOMX1TjMCHbfs5bnk7K7Q0wCKHvrCiQyAzr7t4x8AAACaQZ6GRRUsK/8AAAMAF0aGiTEchnQqrCAEp/wmUgYHKsoi9d6cLwPXU5P56OnANcaZd8Mzg8tKxx0AW+TZdaCF5uER0D2qyHqgAvX6RxtzF4XwE1uy1L7dVy8K4bvpCBthpcKricqw/W3vUakfQiiV4KdFeGJ0KQp1bHhfVD8kaCph1j9Jb7BD6kHqY9fXdVizMIWHCpsHa70DAwAAAHIBnqV0Qn8AAAMAIbra7/uR8VB+IQAhuEPf2zeoqF+W+HVD0aAtR6Mtxv/+UF7dbHvgCC4wEvqRVZ6m6hjjC4QI1671fNiSWID9qW7nOts9pN63gREGb8TVtBEaN3VDP1xur8KuGmv73c5Nq/0VQeYgGpAAAABXAZ6nakJ/AAADAA8zw1i4AIbmnYjhjme9iOaPDOpxH6Cu6Oa6dNj5AMCcBvig2zLbnXOCT2lOVnAICLjYIU3Roj+MoZmyumlSgEwpkzImCLPrJ1dvSCthAAAA9kGarEmoQWyZTAhv//6nhAAAAwAf3+ayGFzyjRl85ubqJOtb7BV1fcdKCCuA8mCOr4azI0d4uirHyiHwT0KTViYiSGHtjhF6wzp3lx7luoqfeohTM3Nf/2OnPc2ZX4UmXDVHzWif5QT+vpei887eAZhvsBT1MnqKhEIeAVqLSpkR+75RnfZF9xYnUSmr5CoSCvuwfE+A0azycbCwSqg0l0a7D2y+cHovE3WHZICr5XrgXHtnTiinpPw3AELSBDBeJCF9LvY3y+TtkysCZ4w6Z7rx9n162kpAUr+nLoLga8/ZLkj4Dmc6Y/O/PJl/Qidb0pcBF4i6kAAAAI5BnspFFSwr/wAAAwAaYiecrrVNfEcJ8vlYAj2U4qwyuR9nJf8lJiZ3zytuCYKOmSUpIfkUHRzsZfX92gzttx/NaBJh7JqjMYQr7D5cHx1MxIsV3PKnleodgVp7zN87KgwG39v8fpXJJLHZm6DG63/JF0OW1GIg2A+/NQ/Buyqx7oDlQtpUVbHQXrNkeAnZAAAAjgGe6XRCfwAAAwAhrWS/HgE0nNoXtvOjPFlBszBKFLbGd68+LWekXWT9F2I4tXHVOPZVCh94GnaazlSalU3biPBQmPWOBHoBRZnf5WVqJ0dVRB4/Q80IumSlm1aBc3nDCxTmycJnEadI8zclc07qpxcF15YeJ0gnZi0ed+6bs74ZJcBQP/4l71RaLTyTYu8AAAB0AZ7rakJ/AAADAB272Co+AHSN84dKtOarw8ttAMsXLIrcgh6iOO7EZiYogoTspf/+cSomHNGBAtna9k5F458GPVcHz6Sbo/YeQzTeSd34z4XXMXLOB+jNiW9eqq2mflJXA8syicXwH6krKDwXmT2aewDcwSMAAADJQZrwSahBbJlMCG///qeEAAADABsfZUWpbeSAEqTuEFK+8O/LLnb0jYYL3DIWXp43Uz/njCEyRTovHa8n2szHyKzAz+lyiIZx79yCvbQdl5V6t1Ks89pl4dghfhUDcBsiJoy/PX+FSTveV3AVxg9gAuXKrMquKn42enN8A/tvatGmIR9UhrqrXLNCJAnET2nYoPyBsn72OkNLJQCETtbwkRzghFSSOd1EB4mX0nGMYrt1frn+0vyD/kvTCpaNuNNTdz5LGkB+BKWBAAAAkEGfDkUVLCv/AAADABdM1q+Anrx5zKdcWWh6Ulh+QjAFBFkmGUe0lZMg+NFOq76wAnqm+MSofT3reyxfQ/BJ/UjxTsNgw2iY/XP7LkhX7F1LSru4f4WuEtplFAud3qjoLg4IDpCKe3LjQv25UG1ZxQZ/8T+tSoXQIuWkANm9AzzA6tZxYtEQ80aSWg8xeVMeEAAAAFABny10Qn8AAAMAHa20MAO+/SBklgCAE45M+32tytIdlw52Iw+jgLNPcUE88tuKqnTOZlyCcwY6E+LMyBtES52o0gb6Y+WptQ04IKqEefFEnAAAAHABny9qQn8AAAMAHbeOHctDqj7vfEJ4bADXJ2H7HVIStOVwcuDF5XUJ4ER3gPSbiP4nPFm2StD3MDIrUTwiqSSUZuyxSxysXFfuQ805KUxykSbarLjS3Lmidc5D5Np4Z9QaLumJR59f03uBg9FFLiHHAAABK0GbNEmoQWyZTAhv//6nhAAAAwAm3IPhC8YAAuq46aE8wyj9y3V++d+28Hdp3emIfUA04fsAGwT9P2oAwINkDk3PdPG5FXUHXQJdEmxHMx2N04QvFmi/myot/n8EIYS0H6rdHU2UPauDUC84y7Mm0BsihO5hYaOG94kqNSpuaXr5MUnGvqooZmAWvRlCEahfZ/gIXKqOtI1sayTvfG5Hi+DH8I95eKI8s3/5up/Lt70Wfb/EzBkLkNVrfpH8wge1wl1W8Zt/cdCYOSNPRJLheUSa1wScq2Mf03iZKp9UQq473GMaw7n/dkepbjMwEODQHZfu9ArB7vE6n4p992w9MLflno+eEJIUA58R48rqMKTsT3kq84XAfdO/yiynMoCSixbjdW6vBTQjLDB4AAAAakGfUkUVLCv/AAADAB8WW68oWz2F2sv/bbAABM3Lx8p/fO62xNkV/g6Ci7a6uyEMh9V3st0hwVuF/at9QHCFinWBFPbrGSpIt6NazK7fKkONptJrjbGn3wPtx1repxpGRGVlJcv5zE/ATsAAAAB6AZ9xdEJ/AAADACXQvACEeW/Wj/Vd5T8Avl9J1wIYxv4hgdTGQ/lg2fwBHm6rsb+FY9m4bS41fMT5FS8F3gvfJB/yKjk7nzkaAjtO9gQchidNbQQLi8O17DKVAJaek2dD9wPdpeh78F27h+ERZBvL/0T2D+HbmqLDAh8AAABcAZ9zakJ/AAADACj3EVIBpi/P3iwCxjTuqt1CADjePYhjkWxVY5eSXQ1N/aD7mNDeVsK3UsghXeYRYW/H9b8Aq3Qb11hsK3AF1MT6Uvr/2VQXwsZzpuU06Ezg7oEAAAEgQZt4SahBbJlMCG///qeEAAADACbfI2iBP41mAR3Rm+lxXDIcUYlHL+/DgkEWVmAo0vnzNeNEDI4pe/5NbouEGeIHYIMzW9RUaMlU59MhFBzNEgQa4E+uXaZgI187ZdWP7MBAnQSpsDyCos8C8+1PF8SSercSqbWIbRPRnZsnpLpjobC8jUBnDeFIKLgzNHr8QrhjWN3N+6fmqMxdNScnsDNKY8Zh/9SAQOf1Kn69ldlvlOmVAuTCHTovB8iRe+D8w7JLYrHKW45walMnUceUjSmTDSmTQVZ91wHIjp2pAyG31jB7DljFqCvxfVt4lfHuAXo9GSJ2zSGxDeRSfAYzq6LvF3V2doi82ujCKq4YrbmvqaMr2yIsRKsSuQaEmk+BAAAAoEGflkUVLCv/AAADAB8QSNw0NBKULzOZioSKuVnVSuYAIg84AROLtIgfmGIp2UW5vkm66dqZ5en0IeJT9sb+a7h53fCO1rb4+xjM70GeJB+SWgjJjPy+NKfS9ErIec2nALVSVmEGYVgFSzVHsjVT/DqcAtbxQi/rRLcPsemc543Gdl7C63xUgTlbcFAND7pOeMqtjx7dHathMH0bvxlEOWAAAABnAZ+1dEJ/AAADACjo3XK/xknKppQpEXGw8nA84ALQj5tRyjjHDz+Drn1jHHYTfOBB4lNz/pCbMkOEdYm2HvjUW2+yMPr9CwLW4XrT4R0d7qaj15gJsJHnspuqGFpwvrPuWWiMfYCbgAAAAFUBn7dqQn8AAAMAIrtrYvYQADoorHq3TTJEADjaAFfpJNZEnWdqVxpw1Nun2K/OBzaB8w9/itv/581sUL7j9DiDxOSdb+68DESJGkBKfVDtYHUmIHTBAAAA70GbvEmoQWyZTAhv//6nhAAAAwAf38cANepygRCwePBeLYpcZd1Wzitdxe/vBS2WGs+AP9Y7eoP9rp3E5iPiAiLBSZ6sPZXAKE1ehU1N6Vzh/uFgagJXFjKSoNM0PPjEFtGtmRm+iOgcpekPCU8lf7Tjgeri9eTWuUkz2yDiLuMXtLDIKSlqLuQW5ozjHNJUrqkC/hBQHSfHlfOsk4IlSBqghFmnZJkACozALaqU/MxIffS1C8GZngr7857gY5NkMyuWd9X6IYX1wf04fAKyEixxu7ca+i0+PgUQstR2dv7J8/2B+aMeTQ0/vLebRrUkAAAAlUGf2kUVLCv/AAADABsLCn0XuwARBxSZFomURZeW05G8cFuO3cLyLaCmTCl/Dco4Jmm8RExzfvubx75IXzqk4XFhlKBlrM9h0hkf4SKv3zlGGYrqIQF6tXAWssBylquumyUA8a5oQ7wcaasK0N8z/D/82xBltgcO/7lKr4c4cl4mBxW9AbD2+MV/OmVVnYKa+xyKVBQQAAAAjgGf+XRCfwAAAwAirSeHb1I1M4U4QZFABs2HTXd/cvkaAPoayWejO7pVrq4USURa1a2TF4rBY1VDugFAiHPtRnhd2JuaSTC60SVSwDUloVZS0m6MapKcXqKQVpbRS1an125tK3Y0xDUIElRwq0h2UKcGBxdmSrCT92mrmkKikiKcThJtoWtzyzids4IHQl8AAACHAZ/7akJ/AAADACK7m5id1avTDwAtYtpTFYjwIE4PFw6IQEA2TEAzrSSrCuOcijhotiUNgfTF3yDzTfeNHxV2WNwCIH6VOB6u7iDvmp5RRMRXwjDOUAA+9DEqEXFwtqKuSGGGj7FAE2ISODux2jj/yZ8SAGRm0koy4uFJD48d6HY7No3zRCtgAAABCUGb4EmoQWyZTAhv//6nhAAAAwAN0G49IBrDs7bJmQVJ2Fb+cvgaTW0jNS8xEWYIbezwrHDFyOcG0SBtr/9he5YgxyWuAuldbU1jBZm1O9+zQoT3XylCvyLlR+PbS9Myfd+RS08KuIsxsLianpwkkmf9qI11aq4ZKQsL5KkZ10weUpXXltLYrNjna7rHR85P09KIOz1hOMkDiY7UDCuyCqmXajAWB1e2EP5xaTv+7Qz72o5E+ycAMkHpSiktKcmEQWf/sfFbYD8Djvay3uBaEzrhYF+AZzCmFf9MYmF1/GkOqAtKmqqPP0KHFVmsxhJ5AM75hADp8wWBAuIextUbkZ3s+RHf8CfAV1MAAAB3QZ4eRRUsK/8AAAMAHQZfl06Pewu1qrCJMS9/QsALb6+zLUeWf+g/zZSQMCNC20j5kL3+RAKmrxgG7APfFB9wziiWIRHLasRem+/+dhXW+LN3dXQamdadd/C2odydKOwVSFwnlS6Zh6ZjO5hSWfbetZuvry+6vmEAAABpAZ49dEJ/AAADACkNrwDURWAJYTcMDvYNPprMwCjfS9zUoW7lErgZRVZ3bekH+9YzXLybQbrwr/9YNQG9MsDnw4b+1n3iRPRYA6DdlFFQEZgAkloJYtDJbZMgE8qnFvVIP90MK7E9kAEHAAAATAGeP2pCfwAAAwAlu5kTEc71i1ACeJhUL0xjm9Vz4qp7mSc2H50oobylw9p+wAuiAB2hwBlNm4lMT+bEJRldR7EsMpT7Gi2s7RwA1IEAAADNQZokSahBbJlMCG///qeEAAADAB8Oz0KVQBxTbXr7yIhVImMBhvithCC6Da5VkX9F84KR2lnoQu1NgTUFUL8FVcrggOe5t2yG22hFifWWiAApRZ3M7v0RzZlvmNnelS5M8fUubwKxP//HtoU7KJ74Yi96M7LtY28sy/HcOZDVNr2+M3eE3g3spPfe8bSYzVe9YH7lQqxfiCTfGq2hyaAwSmdxMlbl8t7u/5CFhaADoAj9hUoegumEroTEENIcEG7WE7hlVKjoBkaZz2ykgAAAAG5BnkJFFSwr/wAAAwAdCvhjG/mmUMlwZBnYj4Aq2aawS6zAgDkbKBtCw1CDX8bYDiIosYKsxmESwgxK4azxOrr6T+zIhoBXwe/q12Hvt5UnQv/UhzFPXT66SzfCKvCifgPUnSRJUaau78431NhxwQAAAHIBnmF0Qn8AAAMAJa1nNe7pox+7ABCncSNq1L7jjHaJ6EhWm4TREMAbDmWXRN+k4ynjothSl1u10ANyltsTqbghXWdFZzVpnmBpVCLHy+urZZ4BSkGH1cAlV5Iw9kuDCp0IRr4pUS2vVQMFhJXrw4JKGzEAAAB4AZ5jakJ/AAADACW7mRMQpXHlkxigBf4KFtKaEhVxl1a61DCheU8COINo0D5hVkrhl+tZWvwahEqM2M5ffVZAZRoCQAAVNnwvsrjhoMr531oCXHhNoIfSkFZK/khvm7BTq3PknbbPAJtQdd6WJg9spoPe1mbhghdwAAABSUGaaEmoQWyZTAhv//6nhAAAAwAfBPFlG/tdC62FcAB/SB3eDKk+VEq0i8tg9JEc8ht1dsU3X9eduB2B75QGdpGjFsB8rSUDQOh7eTPZ6fLUHW6ATPnj8nqO7r8TSeUyy0cR87nXi9m3nT25oH+L0NiBqbNUtcYmI3u1Nvrgx+pyMSvl0hw/c6S3jsiP9Rk/5xt5cUBScWMPIOwdO442BxMJ/ay/h6o7syAIi5xrSIxueev1lZggBxd4mCM3RThe85b36c2YfLE3a4at/hs3jFID9BiNQIYccBeB7P50fubdmAY3AO+Kd7GyWMPQKpQXFMpC4CiQYg3lsmdNQM+XubrHmWAswJYGIzcQQGw5JRX2H1NpixwMLuJ6YnE7prxYa9DsfTisdU5ai4aX4UgVsMRAI3yYCvizaI/93f9MNus3BiLEgy22cQx8AAAAkUGehkUVLCv/AAADAB0K+GMcBgJSKjQ+eU2ZcB5z/4LQAt47WqJxdpEDDxvSmf1rQ7+nxpLjOzG/nqhkITsF3/goQv8EAUSswbqNZGH9lcafMvT+2eej7Gqk7KqwTZH5EPC9MlR/+eemRl5//nMcFeTy2Q0Naq6DTR8ex0nCkpfAfks6SaotrIW9is/MfzfJAWkAAACgAZ6ldEJ/AAADACWtZzfXGWRfPAC3jeaXrBdKkBGlE/TldkfP+0HOy/WIdm3/Wiw8PW+5s3fFn+tuHEGdQ7eA6YgLe6m5FwcOKcsFb4W4ZZjArD2R5Lu/jTApqm2bO3kybbjwzdLqY4ovqNn5Yb0RPKYD898hgzdy2M6Io72fJIr0o6+g0Auj4HgjNKWnu17kd+bZ24PJrmye8Unlg2AGfAAAAGsBnqdqQn8AAAMAJbuZE3Amt7Y0D04mloRoWedwBWmqB6agCw+VKveigexzTw0Gz46EefJFmnbypIfLztU9lpFFEGupqmhjAEA+IKCfawHvEDcPP3b/5ZdbasR/XE7dWYUZefVTIxLp6pOLKQAAAR1BmqxJqEFsmUwIb//+p4QAAAMADX2ofyhlLDh4A5qRoXhBjhcWl40GAuv1a2SBhGAA6f2h3eFktGoTLJn6XQZWMGcbNi2AkTCmI6SNyjm/14cCrZb029u78/7KRRQ5ZfakaFlH6X1out/PiMtOOKbm2lJ+1gNBbdRJMH/cI+lm15WOde2AlHF3tdhp71EwAN9ETIWbFz21D4DXM6fUFNs7f3D9R/jywohpO3Mu9K0UxuHTOIbg9iYXvbyRxE0uoRnXaMu2oUyMAEktXuEjgGauStB8TkMdllIsq0QhpSuQnZm2Kf0iMFKsmOY6TW9BjSNCP37Pt5NKu1TEFSgFxNGBIB1L7jCvTksH6Y2/G4xdn7uoLdw9cJReId5KqYAAAACRQZ7KRRUsK/8AAAMAHQr4YyaT5ra5zM0AF9d2no0UsBhpJaaZEv7ItXfHaGvrwgORiPK5A+JNoyM2fwteLbNTHnADnLcSeS1jp08NXRFTZLs8Co9Pv8YSaKpHc++npG00tm71WNxQlCloWMIfI5OlEglVfIipYFjlNcym0UIPC/BB8vRuXBch5nsUsv3HX6lJuQAAAIIBnul0Qn8AAAMAJa1nNst2WC+AFvGgqCKEfB+ZRnPTkKCv+J72ccpnWBdQ+yeQ6ePhY2rYS5aYCyNk/b6l+rDDAUpLg0ytT+SI/26crhMCvDYFUs+i30Wa9dBjk+EHOqVyoALjuC6B0wF02wnPp6U+iBb4OPpjrNZvuLeIMTalfWFNAAAAXwGe62pCfwAAAwAlu5kTfZRqFpmZvxQeAK014gOYnUiesF6dx5QQOTtRSwc2TsCEil3AeaheYbwnvkcdHjWl5UKlFE1Im9TZ2QLqbVMilgc8V8vgEd5++soJNBSGVAGfAAABWUGa8EmoQWyZTAhv//6nhAAAAwANPr35ssa8cAIQQ+fK26vuf2WXvCmBZV5WER8kak3c+s+r7H60eHy6K/o/rzk9PRKE9r1zohYRQy6Yf2/5jvWNzXRcpcbbpZfBLTLUpfehoYBvXbH2nvdGpHYI4McyfV8XS0FW2waZb06X2POTjwMp4+zImakLN9TMMBIkPVRi0uVoHoFzHnLHYJTilyG5Xa8jH9urWiQsGkPCOiCez/vcZU7jxeiFA7fZB/z2HtUqjbDCc2ZDClNR5BF2Gzd8QEy/YOVMJI0N/IK+w4SJN98XJGLz9gayugY1rZGDX0GfDVzLWm2XnTai42E1vCRMWCZ5S+pJ7uY8axdzn3fZTvkOF3V8aujcDSvW445AtVwXYBI8paUSRHT0gPkF/+umXc/7W9UMIRRLSMOKJbdShBHYAxw0QuTqE1I6qHWik7rKBv1mgSM48QAAAFJBnw5FFSwr/wAAAwAdCvhjGRuy+CSVX++ZT1a+ABcYc/zvDvH6J/KqD9XHq2veOQHPefZjJ/Q7nskbs01D2/2wzGlU99XkgnKXhpfZU+8LMSdMAAAATwGfLXRCfwAAAwAlrWXQ/Bp0GRieYtkCWAZYjIsdpP5ZXZdeLdBXv3wIe/ERK5EBf+5XY2XwM9S0XtpOuPgAkil6bms2+piMZ4qa7Rt5kRcAAABsAZ8vakJ/AAADACW7l55efLka9xQfZ8+AFoqnd9Y7Vjy24RXGWKaMkL5ZeU2IAt8kyZpHCfB1IwtsTXKlCBAToGEPakVbBGzjo1n05KQ80KeebsiVudCCbpjiOxaHDhUsTzAklxiACnkyFPFJAAABQ0GbNEmoQWyZTAhv//6nhAAAAwANjr35ssbiAAOEhqXdOOBZ+0uWwJ70eyRsG4d2uA3yPGoCrAjoAMEM9gItuXP/EMVH7WGJLidH/zTIESetcbc6kXm6nEFbIKXWIsTirUqyjSGyy7vi47eWWVLCRPtmm8fPR91Ub7qG2qfj/h9X0HUJAAFehKy4qeYORk8nHjOUGsXv3DAFrAG2s8+kIW043QQwXxAKCJNHveSXqfoEU2vvJsb+hnhYjOJUM7iBXIxUqdPFsONt/jw4DB5i8Di9XJwCBXi9tjByMxx3Jnx23y0qZhzpBiNc+agNHtWIbRBaW+0tgHIaljfyewzbvHuZAsYkHi3Mbvf0Mbj28WvqMRam2+EtLTea8PGrhaTSD+Ij4iZfD2kwLG07uY9OMjlQ7JCpRIgM1vNazihZsvCbx6ZaAAAAiUGfUkUVLCv/AAADAB0K+GnqgFJJGBt0pJOKb98fUcNGO9IHKhiFZpNlMdNvkSf5tVokNFfmD1P5WxTs7ubwHAEWE2pzakHDLebHF7jMSPjO0TlRUjBvTnF9aV6ZVbTrlOGE5eIvqiyBiVfO8fDvJSm/Brw8fg4nU/EqnimhnMolwfh8lDvDaEPAAAAAUAGfcXRCfwAAAwAlrWXRAEqFR6FvzgBHvNyaQknuigmW5REmtpmvZRds+uXJmxS+7suSjdMzk2dYXGXj8SsO9+nTpWvt7dy1jwDzhYs61mnLAAAAZgGfc2pCfwAAAwAlu5eeWnvipoQARBw4SIvgVvZ8xdt0HaOHhsLD8P+Kz3t7zm+yL11LelW3Kdcadf5SW+wHT0PeO46lMxg4ivjyXeoXJFjtm8xB8nPz9DTFnVat4yYZqYO2WPrCkwAAAJNBm3hJqEFsmUwIb//+p4QAAAMAHaI46ADpV/1b0UcPG7WZsGcLJKX8D6p+s8Xo+dH0h0Li2yIhaBkYn7PiaMx8su3DLvp/Vp0vsyQiex+AYmIyLlKDikx6jfKD7qyIOLx4Gl4OoRCdzkaZgCWpqKrFZrQZefrxrZFgoJpO85EfeJ0WtZrTqZycMal5o8yXiiC5qykAAAB5QZ+WRRUsK/8AAAMAHQr2kNtJWcoXuIDdPu0ANfPtOwRfbGGreZyaB9vz1UUPeNKgdZMh22p+32Dc6T4qJtw8DzxqoAOHbt4Zf/WeZ6+xfZR96JF6isf2cuIu4aRzeZWzte8jD5KG+vO8xwkLrj5XTRX0J8g/3YBLwAAAAEYBn7V0Qn8AAAMAH9XoABDbkwq+qB7ntFFhSGzDFY1uOVATPQ89rff+nMTush7Zl+hxU4ZTbhms2spF/rZT15qrfrpCnY44AAAAPAGft2pCfwAAAwAO3e3ByAC4uj8BBTH64brqmThzfy5wfMAbVDL6wRruE+eHmLna7sZijumSw9bn6WsC4wAAAIZBm7xJqEFsmUwIb//+p4QAAAMAJbTBkgAV0+fUg3NZF9/VBxw46qR0ljHGxw9IakfI95b0PmE5uwH6v1xCaE5NPvD+P0g2ePNZXaVcapuMP/S9sjQNg4G+/8FsUVQ4ECNEQdB4b7eQ1bfV+ytRf8w1svT9xPfNi12cAigfNRCgCvFFUzQH8gAAAEBBn9pFFSwr/wAAAwAVnk1EWjLwOhWES0Sd9EfFWtvviE8KgCERetuJNosBWFgcjd25oNeGwL84drZahVPFuAtoAAAAQAGf+XRCfwAAAwAmrUnQL5zM9oAoNmast4u/YPXaDdCH1RFyxtcUM8o03RfzZQgHoy5/zTZqoUlmSOJrUcqQHLEAAAAnAZ/7akJ/AAADAA6DwFZI2cP6agA8i6zD6RV+7Dy9alftrqte3Ak4AAAAGkGb4EmoQWyZTAhv//6nhAAAAwAFR+P2RoSNAAAAH0GeHkUVLCv/AAADABWeTTHuZ6GxbD3ZrLXHTXUKF3EAAAAWAZ49dEJ/AAADAA4m0kiQe6mNmoL09wAAABcBnj9qQn8AAAMADivJ66CpE8/coDnaYQAAABhBmiRJqEFsmUwIb//+p4QAAAMAAAMA1IAAAAAeQZ5CRRUsK/8AAAMAFZ5NMe5nobFsPdms9PIeKJOBAAAAFgGeYXRCfwAAAwAOJtJIkHupjZqC9PcAAAAXAZ5jakJ/AAADAA4ryeugqRPP3KA52mAAAAAYQZpoSahBbJlMCG///qeEAAADAAADANSAAAAAHkGehkUVLCv/AAADABWeTTHuZ6GxbD3ZrPTyHiiTgQAAABYBnqV0Qn8AAAMADibSSJB7qY2agvT3AAAAFwGep2pCfwAAAwAOK8nroKkTz9ygOdphAAAAF0GarEmoQWyZTAhn//6eEAAAAwAAAwM+AAAAHkGeykUVLCv/AAADABWeTTHuZ6GxbD3ZrPTyHiiTgQAAABYBnul0Qn8AAAMADibSSJB7qY2agvT3AAAAFwGe62pCfwAAAwAOK8nroKkTz9ygOdphAAAAF0Ga8EmoQWyZTAhP//3xAAADAAADAB6RAAAAHkGfDkUVLCv/AAADABWeTTHuZ6GxbD3ZrPTyHiiTgAAAABYBny10Qn8AAAMADibSSJB7qY2agvT3AAAAFwGfL2pCfwAAAwAOK8nroKkTz9ygOdphAAAUAm1vb3YAAABsbXZoZAAAAAAAAAAAAAAAAAAAA+gAAC9EAAEAAAEAAAAAAAAAAAAAAAABAAAAAAAAAAAAAAAAAAAAAQAAAAAAAAAAAAAAAAAAQAAAAAAAAAAAAAAAAAAAAAAAAAAAAAAAAAAAAAAAAAIAABMsdHJhawAAAFx0a2hkAAAAAwAAAAAAAAAAAAAAAQAAAAAAAC9EAAAAAAAAAAAAAAAAAAAAAAABAAAAAAAAAAAAAAAAAAAAAQAAAAAAAAAAAAAAAAAAQAAAAAJgAAABkAAAAAAAJGVkdHMAAAAcZWxzdAAAAAAAAAABAAAvRAAABAAAAQAAAAASpG1kaWEAAAAgbWRoZAAAAAAAAAAAAAAAAAAAPAAAAtYAVcQAAAAAAC1oZGxyAAAAAAAAAAB2aWRlAAAAAAAAAAAAAAAAVmlkZW9IYW5kbGVyAAAAEk9taW5mAAAAFHZtaGQAAAABAAAAAAAAAAAAAAAkZGluZgAAABxkcmVmAAAAAAAAAAEAAAAMdXJsIAAAAAEAABIPc3RibAAAAJdzdHNkAAAAAAAAAAEAAACHYXZjMQAAAAAAAAABAAAAAAAAAAAAAAAAAAAAAAJgAZAASAAAAEgAAAAAAAAAAQAAAAAAAAAAAAAAAAAAAAAAAAAAAAAAAAAAAAAAAAAAABj//wAAADFhdmNDAWQAHv/hABhnZAAerNlAmDOhAAADAAEAAAMAPA8WLZYBAAZo6+PLIsAAAAAYc3R0cwAAAAAAAAABAAABawAAAgAAAAAYc3RzcwAAAAAAAAACAAAAAQAAAPsAAAtQY3R0cwAAAAAAAAFoAAAAAQAABAAAAAABAAAIAAAAAAIAAAIAAAAAAQAABgAAAAABAAACAAAAAAEAAAoAAAAAAQAABAAAAAABAAAAAAAAAAEAAAIAAAAAAQAACgAAAAABAAAEAAAAAAEAAAAAAAAAAQAAAgAAAAABAAAGAAAAAAEAAAIAAAAAAQAABgAAAAABAAACAAAAAAEAAAoAAAAAAQAABAAAAAABAAAAAAAAAAEAAAIAAAAAAQAACgAAAAABAAAEAAAAAAEAAAAAAAAAAQAAAgAAAAABAAAKAAAAAAEAAAQAAAAAAQAAAAAAAAABAAACAAAAAAEAAAoAAAAAAQAABAAAAAABAAAAAAAAAAEAAAIAAAAAAQAACgAAAAABAAAEAAAAAAEAAAAAAAAAAQAAAgAAAAABAAAKAAAAAAEAAAQAAAAAAQAAAAAAAAABAAACAAAAAAEAAAoAAAAAAQAABAAAAAABAAAAAAAAAAEAAAIAAAAAAQAACgAAAAABAAAEAAAAAAEAAAAAAAAAAQAAAgAAAAABAAAKAAAAAAEAAAQAAAAAAQAAAAAAAAABAAACAAAAAAEAAAoAAAAAAQAABAAAAAABAAAAAAAAAAEAAAIAAAAAAQAACgAAAAABAAAEAAAAAAEAAAAAAAAAAQAAAgAAAAABAAAKAAAAAAEAAAQAAAAAAQAAAAAAAAABAAACAAAAAAEAAAoAAAAAAQAABAAAAAABAAAAAAAAAAEAAAIAAAAAAQAACAAAAAACAAACAAAAAAEAAAoAAAAAAQAABAAAAAABAAAAAAAAAAEAAAIAAAAAAQAACgAAAAABAAAEAAAAAAEAAAAAAAAAAQAAAgAAAAABAAAKAAAAAAEAAAQAAAAAAQAAAAAAAAABAAACAAAAAAEAAAoAAAAAAQAABAAAAAABAAAAAAAAAAEAAAIAAAAAAQAACgAAAAABAAAEAAAAAAEAAAAAAAAAAQAAAgAAAAABAAAKAAAAAAEAAAQAAAAAAQAAAAAAAAABAAACAAAAAAEAAAoAAAAAAQAABAAAAAABAAAAAAAAAAEAAAIAAAAAAQAACgAAAAABAAAEAAAAAAEAAAAAAAAAAQAAAgAAAAABAAAKAAAAAAEAAAQAAAAAAQAAAAAAAAABAAACAAAAAAEAAAoAAAAAAQAABAAAAAABAAAAAAAAAAEAAAIAAAAAAQAACgAAAAABAAAEAAAAAAEAAAAAAAAAAQAAAgAAAAABAAAKAAAAAAEAAAQAAAAAAQAAAAAAAAABAAACAAAAAAEAAAoAAAAAAQAABAAAAAABAAAAAAAAAAEAAAIAAAAAAQAACgAAAAABAAAEAAAAAAEAAAAAAAAAAQAAAgAAAAABAAAKAAAAAAEAAAQAAAAAAQAAAAAAAAABAAACAAAAAAEAAAoAAAAAAQAABAAAAAABAAAAAAAAAAEAAAIAAAAAAQAACgAAAAABAAAEAAAAAAEAAAAAAAAAAQAAAgAAAAABAAAKAAAAAAEAAAQAAAAAAQAAAAAAAAABAAACAAAAAAEAAAoAAAAAAQAABAAAAAABAAAAAAAAAAEAAAIAAAAAAQAACgAAAAABAAAEAAAAAAEAAAAAAAAAAQAAAgAAAAABAAAKAAAAAAEAAAQAAAAAAQAAAAAAAAABAAACAAAAAAEAAAoAAAAAAQAABAAAAAABAAAAAAAAAAEAAAIAAAAAAQAACgAAAAABAAAEAAAAAAEAAAAAAAAAAQAAAgAAAAABAAAKAAAAAAEAAAQAAAAAAQAAAAAAAAABAAACAAAAAAEAAAgAAAAAAgAAAgAAAAABAAAKAAAAAAEAAAQAAAAAAQAAAAAAAAABAAACAAAAAAEAAAoAAAAAAQAABAAAAAABAAAAAAAAAAEAAAIAAAAAAQAACgAAAAABAAAEAAAAAAEAAAAAAAAAAQAAAgAAAAABAAAKAAAAAAEAAAQAAAAAAQAAAAAAAAABAAACAAAAAAEAAAoAAAAAAQAABAAAAAABAAAAAAAAAAEAAAIAAAAAAQAACgAAAAABAAAEAAAAAAEAAAAAAAAAAQAAAgAAAAABAAAKAAAAAAEAAAQAAAAAAQAAAAAAAAABAAACAAAAAAEAAAoAAAAAAQAABAAAAAABAAAAAAAAAAEAAAIAAAAAAQAACgAAAAABAAAEAAAAAAEAAAAAAAAAAQAAAgAAAAABAAAKAAAAAAEAAAQAAAAAAQAAAAAAAAABAAACAAAAAAEAAAoAAAAAAQAABAAAAAABAAAAAAAAAAEAAAIAAAAAAQAACgAAAAABAAAEAAAAAAEAAAAAAAAAAQAAAgAAAAABAAAKAAAAAAEAAAQAAAAAAQAAAAAAAAABAAACAAAAAAEAAAoAAAAAAQAABAAAAAABAAAAAAAAAAEAAAIAAAAAAQAACgAAAAABAAAEAAAAAAEAAAAAAAAAAQAAAgAAAAABAAAKAAAAAAEAAAQAAAAAAQAAAAAAAAABAAACAAAAAAEAAAoAAAAAAQAABAAAAAABAAAAAAAAAAEAAAIAAAAAAQAACgAAAAABAAAEAAAAAAEAAAAAAAAAAQAAAgAAAAABAAAKAAAAAAEAAAQAAAAAAQAAAAAAAAABAAACAAAAAAEAAAYAAAAAAQAAAgAAAAABAAAEAAAAAAEAAAoAAAAAAQAABAAAAAABAAAAAAAAAAEAAAIAAAAAAQAACgAAAAABAAAEAAAAAAEAAAAAAAAAAQAAAgAAAAABAAAKAAAAAAEAAAQAAAAAAQAAAAAAAAABAAACAAAAAAEAAAoAAAAAAQAABAAAAAABAAAAAAAAAAEAAAIAAAAAAQAACgAAAAABAAAEAAAAAAEAAAAAAAAAAQAAAgAAAAABAAAKAAAAAAEAAAQAAAAAAQAAAAAAAAABAAACAAAAAAEAAAoAAAAAAQAABAAAAAABAAAAAAAAAAEAAAIAAAAAAQAACgAAAAABAAAEAAAAAAEAAAAAAAAAAQAAAgAAAAABAAAKAAAAAAEAAAQAAAAAAQAAAAAAAAABAAACAAAAAAEAAAoAAAAAAQAABAAAAAABAAAAAAAAAAEAAAIAAAAAAQAACgAAAAABAAAEAAAAAAEAAAAAAAAAAQAAAgAAAAABAAAKAAAAAAEAAAQAAAAAAQAAAAAAAAABAAACAAAAAAEAAAoAAAAAAQAABAAAAAABAAAAAAAAAAEAAAIAAAAAAQAACgAAAAABAAAEAAAAAAEAAAAAAAAAAQAAAgAAAAABAAAKAAAAAAEAAAQAAAAAAQAAAAAAAAABAAACAAAAAAEAAAoAAAAAAQAABAAAAAABAAAAAAAAAAEAAAIAAAAAAQAACgAAAAABAAAEAAAAAAEAAAAAAAAAAQAAAgAAAAABAAAKAAAAAAEAAAQAAAAAAQAAAAAAAAABAAACAAAAAAEAAAoAAAAAAQAABAAAAAABAAAAAAAAAAEAAAIAAAAAAQAACgAAAAABAAAEAAAAAAEAAAAAAAAAAQAAAgAAAAABAAAKAAAAAAEAAAQAAAAAAQAAAAAAAAABAAACAAAAAAEAAAoAAAAAAQAABAAAAAABAAAAAAAAAAEAAAIAAAAAAQAACgAAAAABAAAEAAAAAAEAAAAAAAAAAQAAAgAAAAABAAAKAAAAAAEAAAQAAAAAAQAAAAAAAAABAAACAAAAAAEAAAoAAAAAAQAABAAAAAABAAAAAAAAAAEAAAIAAAAAAQAACgAAAAABAAAEAAAAAAEAAAAAAAAAAQAAAgAAAAABAAAKAAAAAAEAAAQAAAAAAQAAAAAAAAABAAACAAAAAAEAAAoAAAAAAQAABAAAAAABAAAAAAAAAAEAAAIAAAAAHHN0c2MAAAAAAAAAAQAAAAEAAAFrAAAAAQAABcBzdHN6AAAAAAAAAAAAAAFrAAAKTQAAAUoAAABOAAAANQAAAPEAAAA8AAAA4wAAAGIAAABJAAAAVQAAAUsAAABgAAAAPgAAAGoAAAGRAAAAkAAAAUEAAADNAAABVQAAAN4AAADWAAAA2AAAAVMAAADkAAAAxQAAAMQAAAEwAAAA4AAAAKkAAADBAAAA/gAAAMoAAAC1AAAAjAAAARIAAADEAAAAqwAAAJUAAAESAAAAwAAAAI8AAACFAAABLAAAANQAAAC6AAAAvwAAAQwAAACvAAAAtgAAALEAAAE+AAAAnQAAALYAAACoAAAA/wAAAOoAAACNAAAApAAAAQgAAACyAAAAwQAAAKgAAADyAAAAkQAAAJQAAACIAAABKAAAAMwAAADGAAAApwAAAScAAACmAAAAgQAAAT4AAADWAAAAngAAALsAAAEuAAAAyQAAALMAAAC+AAABLwAAAOEAAADKAAAAvgAAAWMAAACwAAAAxAAAAMcAAAE8AAABAQAAAMgAAAC9AAABIgAAANwAAAC7AAAAygAAATkAAAD3AAAA1gAAAL8AAAFbAAAA+wAAAOIAAADNAAABGQAAAM4AAADIAAAA2gAAAQEAAAC0AAAAsAAAAMkAAAEdAAAAqwAAANwAAACzAAABFQAAAK0AAACkAAAAlQAAAJMAAABrAAAAcAAAAHYAAADNAAAAhgAAAG8AAACNAAAAtAAAAI8AAAB7AAAAawAAAVcAAADOAAAAeAAAAK0AAAEgAAAA5QAAAL4AAADDAAABTgAAANoAAACZAAAAzgAAASQAAACiAAAAqAAAAJ4AAADzAAAAnQAAAIoAAABhAAAAhwAAAIcAAACIAAAAdAAAANwAAAB+AAAAgAAAAH8AAAEaAAAAtwAAAFYAAAB1AAAAngAAAIgAAABiAAAAkQAAAOAAAACCAAAAZgAAAQ4AAACPAAAAhAAAAJkAAAE9AAAAnQAAAIwAAAB5AAAA4QAAAL0AAACmAAAArQAAANcAAAC0AAAAfgAAAIQAAAExAAAAjQAAAIwAAACCAAABDgAAAMMAAACqAAAAnwAAAQkAAACmAAAAigAAAKQAAAFTAAAAsAAAAHgAAACDAAABQQAAAOQAAACXAAAAgQAAAPoAAACTAAAAdgAAAG8AAAF5AAAAywAAAHgAAACEAAABKAAAANYAAADCAAAAhAAAAToAAACnAAAAiAAAALQAAAEvAAAAvwAAAKwAAADHAAABVAAAALcAAAC/AAAAkAAAAVwAAACEAAAArgAAAJsAAAESAAAAlwAAAJsAAACCAAABMQAAAMAAAAB2AAAAnQAAAT0AAADBAAAAsQAAAIcAAAC4AAAAdAAACboAAAGjAAAAsQAAAIAAAACDAAABWAAAAJcAAACBAAAAlwAAAO0AAACJAAAAhwAAAGUAAAFDAAAAiwAAAHwAAACBAAABPwAAAIwAAACFAAAAdgAAARgAAACFAAAAhQAAAIEAAAE8AAAAqQAAAKEAAACDAAABKAAAAJcAAACiAAAAkAAAASwAAACWAAAAfQAAAIYAAAEDAAAAngAAAHYAAABbAAAA+gAAAJIAAACSAAAAeAAAAM0AAACUAAAAVAAAAHQAAAEvAAAAbgAAAH4AAABgAAABJAAAAKQAAABrAAAAWQAAAPMAAACZAAAAkgAAAIsAAAENAAAAewAAAG0AAABQAAAA0QAAAHIAAAB2AAAAfAAAAU0AAACVAAAApAAAAG8AAAEhAAAAlQAAAIYAAABjAAABXQAAAFYAAABTAAAAcAAAAUcAAACNAAAAVAAAAGoAAACXAAAAfQAAAEoAAABAAAAAigAAAEQAAABEAAAAKwAAAB4AAAAjAAAAGgAAABsAAAAcAAAAIgAAABoAAAAbAAAAHAAAACIAAAAaAAAAGwAAABsAAAAiAAAAGgAAABsAAAAbAAAAIgAAABoAAAAbAAAAFHN0Y28AAAAAAAAAAQAAADAAAABidWR0YQAAAFptZXRhAAAAAAAAACFoZGxyAAAAAAAAAABtZGlyYXBwbAAAAAAAAAAAAAAAAC1pbHN0AAAAJal0b28AAAAdZGF0YQAAAAEAAAAATGF2ZjU4LjI5LjEwMA==\" type=\"video/mp4\" />\n",
              "             </video>"
            ]
          },
          "metadata": {}
        }
      ],
      "source": [
        "import glob\n",
        "import io\n",
        "import base64\n",
        "import imageio\n",
        "from IPython.display import HTML, display\n",
        "from gym.wrappers.monitoring.video_recorder import VideoRecorder\n",
        "\n",
        "def show_video_of_model(agent, env_name):\n",
        "    env = gym.make(env_name, render_mode='rgb_array')\n",
        "    state, _ = env.reset()\n",
        "    done = False\n",
        "    frames = []\n",
        "    while not done:\n",
        "        frame = env.render()\n",
        "        frames.append(frame)\n",
        "        action = agent.act(state)\n",
        "        state, reward, done, _, _ = env.step(action.item())\n",
        "    env.close()\n",
        "    imageio.mimsave('video.mp4', frames, fps=30)\n",
        "\n",
        "show_video_of_model(agent, 'LunarLander-v2')\n",
        "\n",
        "def show_video():\n",
        "    mp4list = glob.glob('*.mp4')\n",
        "    if len(mp4list) > 0:\n",
        "        mp4 = mp4list[0]\n",
        "        video = io.open(mp4, 'r+b').read()\n",
        "        encoded = base64.b64encode(video)\n",
        "        display(HTML(data='''<video alt=\"test\" autoplay\n",
        "                loop controls style=\"height: 400px;\">\n",
        "                <source src=\"data:video/mp4;base64,{0}\" type=\"video/mp4\" />\n",
        "             </video>'''.format(encoded.decode('ascii'))))\n",
        "    else:\n",
        "        print(\"Could not find video\")\n",
        "\n",
        "show_video()"
      ]
    }
  ],
  "metadata": {
    "colab": {
      "provenance": []
    },
    "kernelspec": {
      "display_name": "Python 3",
      "name": "python3"
    },
    "language_info": {
      "name": "python"
    }
  },
  "nbformat": 4,
  "nbformat_minor": 0
}